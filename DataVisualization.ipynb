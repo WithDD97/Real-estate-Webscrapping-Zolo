{
 "cells": [
  {
   "cell_type": "markdown",
   "id": "1e5959a3",
   "metadata": {},
   "source": [
    "# Data Visualisation\n"
   ]
  },
  {
   "cell_type": "markdown",
   "id": "6722fe20",
   "metadata": {},
   "source": [
    "Here we will have a view on:\n",
    "    \n",
    "    - The price distribution for each type of article\n",
    "    - The Average price and occurence per neighbourhood of each type of article\n",
    "    - The Average price and occurence per size of each type of article \n",
    "    - The Average price and occurence per number of rooms of each type of article"
   ]
  },
  {
   "cell_type": "code",
   "execution_count": 1,
   "id": "e77a7f97",
   "metadata": {},
   "outputs": [
    {
     "data": {
      "text/html": [
       "        <script type=\"text/javascript\">\n",
       "        window.PlotlyConfig = {MathJaxConfig: 'local'};\n",
       "        if (window.MathJax) {MathJax.Hub.Config({SVG: {font: \"STIX-Web\"}});}\n",
       "        if (typeof require !== 'undefined') {\n",
       "        require.undef(\"plotly\");\n",
       "        requirejs.config({\n",
       "            paths: {\n",
       "                'plotly': ['https://cdn.plot.ly/plotly-2.9.0.min']\n",
       "            }\n",
       "        });\n",
       "        require(['plotly'], function(Plotly) {\n",
       "            window._Plotly = Plotly;\n",
       "        });\n",
       "        }\n",
       "        </script>\n",
       "        "
      ]
     },
     "metadata": {},
     "output_type": "display_data"
    }
   ],
   "source": [
    "# All libraries\n",
    "\n",
    "import pandas as pd \n",
    "import numpy as np\n",
    "import matplotlib.pyplot as plt\n",
    "%matplotlib inline\n",
    "import plotly.offline as py\n",
    "import plotly.graph_objs as go\n",
    "import plotly.express as px\n",
    "import seaborn as sns\n",
    "from plotly.subplots import make_subplots\n",
    "sns.set(style=\"ticks\", color_codes=True) \n",
    "py.init_notebook_mode(connected=True)"
   ]
  },
  {
   "cell_type": "code",
   "execution_count": 2,
   "id": "76ce8939",
   "metadata": {},
   "outputs": [],
   "source": [
    "#Define our df [houses, condos, townhouses]\n",
    "\n",
    "houses = pd.read_csv('houses_fdata.csv')\n",
    "condos = pd.read_csv('condos_fdata.csv')\n",
    "townhouses = pd.read_csv('Townhouses_fdata.csv')"
   ]
  },
  {
   "cell_type": "code",
   "execution_count": 3,
   "id": "1cad6225",
   "metadata": {},
   "outputs": [],
   "source": [
    "# Convert each column the best df\n",
    "\n",
    "houses = houses.convert_dtypes()\n",
    "condos= condos.convert_dtypes()\n",
    "townhouses = townhouses.convert_dtypes()\n"
   ]
  },
  {
   "cell_type": "markdown",
   "id": "cba121a7",
   "metadata": {},
   "source": [
    "## Exploration of the datasets\n",
    "    \n",
    "    We are looking on our datasets to have and overview\n",
    "    - Remove outliers\n",
    "    - Missing values \n",
    "    - Optimisation of our Dataset\n",
    "    \n",
    "   #### Findings :\n",
    "    \n",
    "    _ Size column of houses and townhouses have a lot of missing values however all the condos don't.\n",
    "    _ For all the price columns, prices above $ 10 000 000 look like outliers we will remove it.\n",
    "    _ The columns bed and bath are no more useful either for our visualization or our analysis we can drop it. \n",
    "    \n",
    "   "
   ]
  },
  {
   "cell_type": "code",
   "execution_count": 4,
   "id": "1648549c",
   "metadata": {},
   "outputs": [
    {
     "name": "stdout",
     "output_type": "stream",
     "text": [
      "<class 'pandas.core.frame.DataFrame'>\n",
      "RangeIndex: 827 entries, 0 to 826\n",
      "Data columns (total 10 columns):\n",
      " #   Column         Non-Null Count  Dtype \n",
      "---  ------         --------------  ----- \n",
      " 0   Unnamed: 0     827 non-null    Int64 \n",
      " 1   Province       827 non-null    string\n",
      " 2   City           827 non-null    string\n",
      " 3   Street         827 non-null    string\n",
      " 4   Neighbourhood  827 non-null    string\n",
      " 5   Price          827 non-null    Int64 \n",
      " 6   Bed            827 non-null    string\n",
      " 7   Bath           827 non-null    string\n",
      " 8   Size           353 non-null    string\n",
      " 9   room           827 non-null    Int64 \n",
      "dtypes: Int64(3), string(7)\n",
      "memory usage: 67.2 KB\n"
     ]
    }
   ],
   "source": [
    "houses.info()"
   ]
  },
  {
   "cell_type": "code",
   "execution_count": 5,
   "id": "3df72db6",
   "metadata": {},
   "outputs": [
    {
     "data": {
      "text/plain": [
       "466         1\n",
       "270      2250\n",
       "590      3600\n",
       "302    735000\n",
       "300    735000\n",
       "5      749900\n",
       "7      749900\n",
       "433    799000\n",
       "280    799888\n",
       "91     799900\n",
       "182    799900\n",
       "212    800000\n",
       "29     849000\n",
       "34     888800\n",
       "290    898800\n",
       "341    898998\n",
       "74     899000\n",
       "69     899000\n",
       "30     899000\n",
       "350    899000\n",
       "Name: Price, dtype: Int64"
      ]
     },
     "execution_count": 5,
     "metadata": {},
     "output_type": "execute_result"
    }
   ],
   "source": [
    "houses['Price'].sort_values().head(20)"
   ]
  },
  {
   "cell_type": "code",
   "execution_count": 6,
   "id": "5d9499ba",
   "metadata": {},
   "outputs": [
    {
     "data": {
      "text/plain": [
       "15      9995000\n",
       "140    10800000\n",
       "671    10888000\n",
       "820    10888000\n",
       "815    10900000\n",
       "660    11500000\n",
       "688    11900000\n",
       "705    11900000\n",
       "282    11900000\n",
       "803    12380000\n",
       "163    13900000\n",
       "780    14380000\n",
       "635    14980000\n",
       "793    16000000\n",
       "789    17500000\n",
       "767    19800000\n",
       "818    20000000\n",
       "456    25000000\n",
       "811    26900000\n",
       "825    45000000\n",
       "Name: Price, dtype: Int64"
      ]
     },
     "execution_count": 6,
     "metadata": {},
     "output_type": "execute_result"
    }
   ],
   "source": [
    "houses['Price'].sort_values().tail(20)"
   ]
  },
  {
   "cell_type": "markdown",
   "id": "1307c7e5",
   "metadata": {},
   "source": [
    "For houses, we only have 353 sizes. \n",
    "All houses under 700k are outliers and over 10M look really expensive so outliers to."
   ]
  },
  {
   "cell_type": "code",
   "execution_count": 7,
   "id": "6995c5ab",
   "metadata": {},
   "outputs": [
    {
     "name": "stdout",
     "output_type": "stream",
     "text": [
      "<class 'pandas.core.frame.DataFrame'>\n",
      "RangeIndex: 1756 entries, 0 to 1755\n",
      "Data columns (total 10 columns):\n",
      " #   Column         Non-Null Count  Dtype \n",
      "---  ------         --------------  ----- \n",
      " 0   Unnamed: 0     1756 non-null   Int64 \n",
      " 1   Province       1756 non-null   string\n",
      " 2   City           1756 non-null   string\n",
      " 3   Street         1756 non-null   string\n",
      " 4   Neighbourhood  1756 non-null   string\n",
      " 5   Price          1756 non-null   Int64 \n",
      " 6   Bed            1756 non-null   string\n",
      " 7   Bath           1756 non-null   string\n",
      " 8   Size           1756 non-null   string\n",
      " 9   room           1756 non-null   Int64 \n",
      "dtypes: Int64(3), string(7)\n",
      "memory usage: 142.5 KB\n"
     ]
    }
   ],
   "source": [
    "condos.info()"
   ]
  },
  {
   "cell_type": "code",
   "execution_count": 8,
   "id": "9a3689aa",
   "metadata": {},
   "outputs": [
    {
     "data": {
      "text/plain": [
       "347       2500\n",
       "1427     13225\n",
       "1409     13825\n",
       "1387     18025\n",
       "1511     29990\n",
       "746      49900\n",
       "1744     59000\n",
       "1633     59000\n",
       "238     179900\n",
       "41      199900\n",
       "1184    265000\n",
       "1198    265000\n",
       "1080    273000\n",
       "1049    279900\n",
       "849     285000\n",
       "1237    286000\n",
       "1546    289000\n",
       "683     299900\n",
       "1519    335000\n",
       "1015    359000\n",
       "Name: Price, dtype: Int64"
      ]
     },
     "execution_count": 8,
     "metadata": {},
     "output_type": "execute_result"
    }
   ],
   "source": [
    "condos['Price'].sort_values().head(20)"
   ]
  },
  {
   "cell_type": "code",
   "execution_count": 9,
   "id": "deb01c0d",
   "metadata": {
    "scrolled": true
   },
   "outputs": [
    {
     "data": {
      "text/plain": [
       "1755     5688000\n",
       "1712     5980000\n",
       "95       6288000\n",
       "3        6450000\n",
       "1366     6495000\n",
       "1505     6600000\n",
       "1736     6990000\n",
       "1614     6995000\n",
       "159      7495000\n",
       "1689     7703888\n",
       "1355     7800000\n",
       "1520     7850000\n",
       "66       8895000\n",
       "1705     9680000\n",
       "1715     9880000\n",
       "1399    11995000\n",
       "339     12500000\n",
       "1441    14950000\n",
       "1642    31620000\n",
       "1691    34700000\n",
       "Name: Price, dtype: Int64"
      ]
     },
     "execution_count": 9,
     "metadata": {},
     "output_type": "execute_result"
    }
   ],
   "source": [
    "condos['Price'].sort_values().tail(20)"
   ]
  },
  {
   "cell_type": "markdown",
   "id": "9ed3e577",
   "metadata": {},
   "source": [
    "outliers over 10M and under 100k"
   ]
  },
  {
   "cell_type": "code",
   "execution_count": 10,
   "id": "88ed0fc4",
   "metadata": {},
   "outputs": [
    {
     "name": "stdout",
     "output_type": "stream",
     "text": [
      "<class 'pandas.core.frame.DataFrame'>\n",
      "RangeIndex: 311 entries, 0 to 310\n",
      "Data columns (total 10 columns):\n",
      " #   Column         Non-Null Count  Dtype \n",
      "---  ------         --------------  ----- \n",
      " 0   Unnamed: 0     311 non-null    Int64 \n",
      " 1   Province       311 non-null    string\n",
      " 2   City           311 non-null    string\n",
      " 3   Street         311 non-null    string\n",
      " 4   Neighbourhood  311 non-null    string\n",
      " 5   Price          311 non-null    Int64 \n",
      " 6   Bed            311 non-null    string\n",
      " 7   Bath           311 non-null    string\n",
      " 8   Size           141 non-null    string\n",
      " 9   room           311 non-null    Int64 \n",
      "dtypes: Int64(3), string(7)\n",
      "memory usage: 25.3 KB\n"
     ]
    }
   ],
   "source": [
    "townhouses.info()"
   ]
  },
  {
   "cell_type": "code",
   "execution_count": 11,
   "id": "d0db0e2c",
   "metadata": {},
   "outputs": [
    {
     "data": {
      "text/plain": [
       "106    699000\n",
       "49     699900\n",
       "105    699999\n",
       "37     725000\n",
       "95     748000\n",
       "89     769900\n",
       "226    799000\n",
       "154    799000\n",
       "21     799000\n",
       "189    799000\n",
       "75     799000\n",
       "26     799000\n",
       "151    849000\n",
       "62     849900\n",
       "263    849900\n",
       "83     850000\n",
       "196    888000\n",
       "118    888999\n",
       "131    897000\n",
       "193    899000\n",
       "Name: Price, dtype: Int64"
      ]
     },
     "execution_count": 11,
     "metadata": {},
     "output_type": "execute_result"
    }
   ],
   "source": [
    "townhouses['Price'].sort_values().head(20)"
   ]
  },
  {
   "cell_type": "code",
   "execution_count": 12,
   "id": "bfd1d383",
   "metadata": {},
   "outputs": [
    {
     "data": {
      "text/plain": [
       "22      3995000\n",
       "180     3995000\n",
       "291     3995000\n",
       "260     3998000\n",
       "136     3999000\n",
       "273     4000000\n",
       "308     4295000\n",
       "280     4388000\n",
       "299     4389900\n",
       "215     4500000\n",
       "121     4500000\n",
       "290     4680000\n",
       "301     4999900\n",
       "211     5295000\n",
       "264     5395000\n",
       "141     6295000\n",
       "287     6600000\n",
       "270     6995000\n",
       "307     8500000\n",
       "304    39999990\n",
       "Name: Price, dtype: Int64"
      ]
     },
     "execution_count": 12,
     "metadata": {},
     "output_type": "execute_result"
    }
   ],
   "source": [
    "townhouses['Price'].sort_values().tail(20)"
   ]
  },
  {
   "cell_type": "markdown",
   "id": "8b7103d0",
   "metadata": {},
   "source": []
  },
  {
   "cell_type": "code",
   "execution_count": 13,
   "id": "05a2655d",
   "metadata": {},
   "outputs": [
    {
     "data": {
      "image/png": "[encoded data removed]",
      "text/plain": [
       "<Figure size 540x540 with 12 Axes>"
      ]
     },
     "metadata": {},
     "output_type": "display_data"
    }
   ],
   "source": [
    "sns.pairplot(houses);"
   ]
  },
  {
   "cell_type": "code",
   "execution_count": 14,
   "id": "118f4504",
   "metadata": {},
   "outputs": [
    {
     "data": {
      "image/png": "[encoded data removed]",
      "text/plain": [
       "<Figure size 540x540 with 12 Axes>"
      ]
     },
     "metadata": {},
     "output_type": "display_data"
    }
   ],
   "source": [
    "sns.pairplot(condos);"
   ]
  },
  {
   "cell_type": "code",
   "execution_count": 15,
   "id": "fab29fb8",
   "metadata": {},
   "outputs": [
    {
     "data": {
      "image/png": "[encoded data removed]",
      "text/plain": [
       "<Figure size 540x540 with 12 Axes>"
      ]
     },
     "metadata": {},
     "output_type": "display_data"
    }
   ],
   "source": [
    "sns.pairplot(townhouses);"
   ]
  },
  {
   "cell_type": "code",
   "execution_count": 16,
   "id": "e37c9572",
   "metadata": {},
   "outputs": [],
   "source": [
    "# Outliers removal\n",
    "\n",
    "houses = houses[(houses['Price'] < 10000000) & (houses['Price'] > 700000)]\n",
    "condos = condos[(condos['Price'] < 10000000) & (condos['Price'] > 100000) ]\n",
    "townhouses = townhouses[(townhouses['Price'] < 10000000)]"
   ]
  },
  {
   "cell_type": "code",
   "execution_count": 17,
   "id": "bb53aad9",
   "metadata": {},
   "outputs": [],
   "source": [
    "# remove useless column\n",
    "\n",
    "unless = ['Unnamed: 0','Bed','Bath']\n",
    "\n",
    "houses = houses.drop(columns = unless)\n",
    "condos = condos.drop(columns = unless)\n",
    "townhouses = townhouses.drop(columns = unless)"
   ]
  },
  {
   "cell_type": "markdown",
   "id": "ca400aac",
   "metadata": {},
   "source": [
    "## Number of rooms"
   ]
  },
  {
   "cell_type": "code",
   "execution_count": 18,
   "id": "a7d5c841",
   "metadata": {},
   "outputs": [
    {
     "data": {
      "image/png": "[encoded data removed]",
      "text/plain": [
       "<Figure size 432x288 with 1 Axes>"
      ]
     },
     "metadata": {},
     "output_type": "display_data"
    }
   ],
   "source": [
    "#\n",
    "\n",
    "plt.boxplot([houses['room'],condos['room'],townhouses['room']],\\\n",
    "            labels = ['Houses','Condos','Townhouses'] )\n",
    "\n",
    "plt.title('   Number of room ranges in the three different type of property');"
   ]
  },
  {
   "cell_type": "markdown",
   "id": "0e8e261a",
   "metadata": {},
   "source": [
    "### Findings:\n",
    "\n",
    "* For houses, the number of room is mostly between 0 and 16 with a mean of 8 rooms\n",
    "* For Condos, the number of rooms is between 0 and 8 with a mean around 4\n",
    "* For Townhouses, the number of room is between 1 and 11 with a mean of 7. We also get a lot of outliers which goes over 30 room. I guess that it can be a whole building.\n",
    "\n",
    "May be we should remove all rows which has 0 rooms "
   ]
  },
  {
   "cell_type": "code",
   "execution_count": 19,
   "id": "42a58a8d",
   "metadata": {},
   "outputs": [
    {
     "data": {
      "text/plain": [
       "Province         17\n",
       "City             17\n",
       "Street           17\n",
       "Neighbourhood    17\n",
       "Price            17\n",
       "Size             12\n",
       "room             17\n",
       "dtype: int64"
      ]
     },
     "execution_count": 19,
     "metadata": {},
     "output_type": "execute_result"
    }
   ],
   "source": [
    "houses[houses['room']==0].count()"
   ]
  },
  {
   "cell_type": "code",
   "execution_count": 20,
   "id": "ce8c97db",
   "metadata": {},
   "outputs": [
    {
     "data": {
      "text/plain": [
       "Province         2\n",
       "City             2\n",
       "Street           2\n",
       "Neighbourhood    2\n",
       "Price            2\n",
       "Size             2\n",
       "room             2\n",
       "dtype: int64"
      ]
     },
     "execution_count": 20,
     "metadata": {},
     "output_type": "execute_result"
    }
   ],
   "source": [
    "condos[condos['room']==0].count()"
   ]
  },
  {
   "cell_type": "code",
   "execution_count": 21,
   "id": "595ed4e9",
   "metadata": {},
   "outputs": [
    {
     "data": {
      "text/html": [
       "<div>\n",
       "<style scoped>\n",
       "    .dataframe tbody tr th:only-of-type {\n",
       "        vertical-align: middle;\n",
       "    }\n",
       "\n",
       "    .dataframe tbody tr th {\n",
       "        vertical-align: top;\n",
       "    }\n",
       "\n",
       "    .dataframe thead th {\n",
       "        text-align: right;\n",
       "    }\n",
       "</style>\n",
       "<table border=\"1\" class=\"dataframe\">\n",
       "  <thead>\n",
       "    <tr style=\"text-align: right;\">\n",
       "      <th></th>\n",
       "      <th>Province</th>\n",
       "      <th>City</th>\n",
       "      <th>Street</th>\n",
       "      <th>Neighbourhood</th>\n",
       "      <th>Price</th>\n",
       "      <th>Size</th>\n",
       "      <th>room</th>\n",
       "    </tr>\n",
       "  </thead>\n",
       "  <tbody>\n",
       "    <tr>\n",
       "      <th>44</th>\n",
       "      <td>ON</td>\n",
       "      <td>Toronto</td>\n",
       "      <td>1399 Lansdowne Avenue</td>\n",
       "      <td>Corso Italia-Davenport</td>\n",
       "      <td>999900</td>\n",
       "      <td>0-0</td>\n",
       "      <td>0</td>\n",
       "    </tr>\n",
       "    <tr>\n",
       "      <th>47</th>\n",
       "      <td>ON</td>\n",
       "      <td>Toronto</td>\n",
       "      <td>14 Coxwell Avenue</td>\n",
       "      <td>Greenwood-Coxwell</td>\n",
       "      <td>1099000</td>\n",
       "      <td>0-0</td>\n",
       "      <td>0</td>\n",
       "    </tr>\n",
       "    <tr>\n",
       "      <th>108</th>\n",
       "      <td>ON</td>\n",
       "      <td>Toronto</td>\n",
       "      <td>68 Geary Avenue</td>\n",
       "      <td>Wychwood</td>\n",
       "      <td>2095000</td>\n",
       "      <td>&lt;NA&gt;</td>\n",
       "      <td>0</td>\n",
       "    </tr>\n",
       "    <tr>\n",
       "      <th>156</th>\n",
       "      <td>ON</td>\n",
       "      <td>Toronto</td>\n",
       "      <td>36 Arcadian Circle</td>\n",
       "      <td>Long Branch</td>\n",
       "      <td>1998800</td>\n",
       "      <td>0-0</td>\n",
       "      <td>0</td>\n",
       "    </tr>\n",
       "    <tr>\n",
       "      <th>167</th>\n",
       "      <td>ON</td>\n",
       "      <td>Toronto</td>\n",
       "      <td>50 Foxley Street</td>\n",
       "      <td>Trinity-Bellwoods</td>\n",
       "      <td>1799000</td>\n",
       "      <td>0-0</td>\n",
       "      <td>0</td>\n",
       "    </tr>\n",
       "    <tr>\n",
       "      <th>191</th>\n",
       "      <td>ON</td>\n",
       "      <td>Toronto</td>\n",
       "      <td>216 Keele Street</td>\n",
       "      <td>High Park North</td>\n",
       "      <td>2998000</td>\n",
       "      <td>0-0</td>\n",
       "      <td>0</td>\n",
       "    </tr>\n",
       "    <tr>\n",
       "      <th>241</th>\n",
       "      <td>ON</td>\n",
       "      <td>Toronto</td>\n",
       "      <td>197 Royal York Road</td>\n",
       "      <td>Mimico</td>\n",
       "      <td>2599000</td>\n",
       "      <td>0-0</td>\n",
       "      <td>0</td>\n",
       "    </tr>\n",
       "    <tr>\n",
       "      <th>261</th>\n",
       "      <td>ON</td>\n",
       "      <td>Toronto</td>\n",
       "      <td>161 Berry Road</td>\n",
       "      <td>Stonegate-Queensway</td>\n",
       "      <td>3498000</td>\n",
       "      <td>0-0</td>\n",
       "      <td>0</td>\n",
       "    </tr>\n",
       "    <tr>\n",
       "      <th>275</th>\n",
       "      <td>ON</td>\n",
       "      <td>Toronto</td>\n",
       "      <td>1086 Queen Street W</td>\n",
       "      <td>Niagara</td>\n",
       "      <td>2495999</td>\n",
       "      <td>0-0</td>\n",
       "      <td>0</td>\n",
       "    </tr>\n",
       "    <tr>\n",
       "      <th>284</th>\n",
       "      <td>ON</td>\n",
       "      <td>Toronto</td>\n",
       "      <td>86 Gainsborough Road</td>\n",
       "      <td>Woodbine Corridor</td>\n",
       "      <td>1399900</td>\n",
       "      <td>0-0</td>\n",
       "      <td>0</td>\n",
       "    </tr>\n",
       "    <tr>\n",
       "      <th>285</th>\n",
       "      <td>ON</td>\n",
       "      <td>Toronto</td>\n",
       "      <td>90 Gainsborough Road</td>\n",
       "      <td>Woodbine Corridor</td>\n",
       "      <td>1499900</td>\n",
       "      <td>0-0</td>\n",
       "      <td>0</td>\n",
       "    </tr>\n",
       "    <tr>\n",
       "      <th>289</th>\n",
       "      <td>ON</td>\n",
       "      <td>Toronto</td>\n",
       "      <td>667 Manning Avenue</td>\n",
       "      <td>Annex</td>\n",
       "      <td>3800000</td>\n",
       "      <td>0-0</td>\n",
       "      <td>0</td>\n",
       "    </tr>\n",
       "    <tr>\n",
       "      <th>301</th>\n",
       "      <td>ON</td>\n",
       "      <td>Toronto</td>\n",
       "      <td>198 Dunn Avenue</td>\n",
       "      <td>South Parkdale</td>\n",
       "      <td>4999900</td>\n",
       "      <td>0-0</td>\n",
       "      <td>0</td>\n",
       "    </tr>\n",
       "    <tr>\n",
       "      <th>307</th>\n",
       "      <td>ON</td>\n",
       "      <td>Toronto</td>\n",
       "      <td>2176 Gerrard Street E</td>\n",
       "      <td>East End-Danforth</td>\n",
       "      <td>8500000</td>\n",
       "      <td>0-0</td>\n",
       "      <td>0</td>\n",
       "    </tr>\n",
       "    <tr>\n",
       "      <th>309</th>\n",
       "      <td>ON</td>\n",
       "      <td>Toronto</td>\n",
       "      <td>3146 Dundas Street W</td>\n",
       "      <td>Junction Area</td>\n",
       "      <td>1559000</td>\n",
       "      <td>0-0</td>\n",
       "      <td>0</td>\n",
       "    </tr>\n",
       "  </tbody>\n",
       "</table>\n",
       "</div>"
      ],
      "text/plain": [
       "    Province     City                 Street           Neighbourhood    Price  \\\n",
       "44        ON  Toronto  1399 Lansdowne Avenue  Corso Italia-Davenport   999900   \n",
       "47        ON  Toronto      14 Coxwell Avenue       Greenwood-Coxwell  1099000   \n",
       "108       ON  Toronto        68 Geary Avenue                Wychwood  2095000   \n",
       "156       ON  Toronto     36 Arcadian Circle             Long Branch  1998800   \n",
       "167       ON  Toronto       50 Foxley Street       Trinity-Bellwoods  1799000   \n",
       "191       ON  Toronto       216 Keele Street         High Park North  2998000   \n",
       "241       ON  Toronto    197 Royal York Road                  Mimico  2599000   \n",
       "261       ON  Toronto         161 Berry Road     Stonegate-Queensway  3498000   \n",
       "275       ON  Toronto    1086 Queen Street W                 Niagara  2495999   \n",
       "284       ON  Toronto   86 Gainsborough Road       Woodbine Corridor  1399900   \n",
       "285       ON  Toronto   90 Gainsborough Road       Woodbine Corridor  1499900   \n",
       "289       ON  Toronto     667 Manning Avenue                   Annex  3800000   \n",
       "301       ON  Toronto        198 Dunn Avenue          South Parkdale  4999900   \n",
       "307       ON  Toronto  2176 Gerrard Street E       East End-Danforth  8500000   \n",
       "309       ON  Toronto   3146 Dundas Street W           Junction Area  1559000   \n",
       "\n",
       "     Size  room  \n",
       "44    0-0     0  \n",
       "47    0-0     0  \n",
       "108  <NA>     0  \n",
       "156   0-0     0  \n",
       "167   0-0     0  \n",
       "191   0-0     0  \n",
       "241   0-0     0  \n",
       "261   0-0     0  \n",
       "275   0-0     0  \n",
       "284   0-0     0  \n",
       "285   0-0     0  \n",
       "289   0-0     0  \n",
       "301   0-0     0  \n",
       "307   0-0     0  \n",
       "309   0-0     0  "
      ]
     },
     "execution_count": 21,
     "metadata": {},
     "output_type": "execute_result"
    }
   ],
   "source": [
    "townhouses[townhouses['room']==0]"
   ]
  },
  {
   "cell_type": "markdown",
   "id": "2e5af44d",
   "metadata": {},
   "source": [
    "## Prices for each type / Price variability for each type\n",
    "\n"
   ]
  },
  {
   "cell_type": "code",
   "execution_count": 22,
   "id": "be5e0a49",
   "metadata": {
    "scrolled": true
   },
   "outputs": [
    {
     "data": {
      "image/png": "[encoded data removed]",
      "text/plain": [
       "<Figure size 432x288 with 1 Axes>"
      ]
     },
     "metadata": {},
     "output_type": "display_data"
    }
   ],
   "source": [
    "# Box plot\n",
    "\n",
    "plt.boxplot([houses['Price'],condos['Price'],townhouses['Price']],\\\n",
    "            labels = ['Houses','Condos','Townhouses'] )\n",
    "plt.title('   Property price ranges in three different type of property');"
   ]
  },
  {
   "cell_type": "code",
   "execution_count": 23,
   "id": "12e0a54f",
   "metadata": {},
   "outputs": [
    {
     "name": "stderr",
     "output_type": "stream",
     "text": [
      "C:\\Users\\david\\AppData\\Local\\Temp/ipykernel_5764/2459737478.py:3: FutureWarning:\n",
      "\n",
      "Dropping of nuisance columns in DataFrame reductions (with 'numeric_only=None') is deprecated; in a future version this will raise TypeError.  Select only valid columns before calling the reduction.\n",
      "\n",
      "C:\\Users\\david\\AppData\\Local\\Temp/ipykernel_5764/2459737478.py:4: FutureWarning:\n",
      "\n",
      "Dropping of nuisance columns in DataFrame reductions (with 'numeric_only=None') is deprecated; in a future version this will raise TypeError.  Select only valid columns before calling the reduction.\n",
      "\n",
      "C:\\Users\\david\\AppData\\Local\\Temp/ipykernel_5764/2459737478.py:5: FutureWarning:\n",
      "\n",
      "Dropping of nuisance columns in DataFrame reductions (with 'numeric_only=None') is deprecated; in a future version this will raise TypeError.  Select only valid columns before calling the reduction.\n",
      "\n"
     ]
    },
    {
     "data": {
      "text/plain": [
       "Houses        2497799.542857\n",
       "Condos        1034368.073437\n",
       "Townhouses    1751123.764516\n",
       "dtype: Float64"
      ]
     },
     "execution_count": 23,
     "metadata": {},
     "output_type": "execute_result"
    }
   ],
   "source": [
    "# For each type of article, give the have price\n",
    "\n",
    "Mean_type = pd.Series({'Houses': houses.mean()['Price'],\n",
    "                         'Condos' : condos.mean()['Price'],\n",
    "                         'Townhouses' : townhouses.mean()['Price']})\n",
    "\n",
    "Mean_type = Mean_type.convert_dtypes()\n",
    "\n",
    "Mean_type"
   ]
  },
  {
   "cell_type": "code",
   "execution_count": 24,
   "id": "613ccba0",
   "metadata": {},
   "outputs": [
    {
     "data": {
      "text/plain": [
       "Houses         805\n",
       "Condos        1743\n",
       "Townhouses     310\n",
       "dtype: int64"
      ]
     },
     "execution_count": 24,
     "metadata": {},
     "output_type": "execute_result"
    }
   ],
   "source": [
    "# For each type, we can see the number of property\n",
    "\n",
    "Count_type = pd.Series({'Houses': len(houses['Price']),\n",
    "                         'Condos' : len(condos['Price']),\n",
    "                         'Townhouses' : len(townhouses['Price'])})\n",
    "\n",
    "Count_type "
   ]
  },
  {
   "cell_type": "code",
   "execution_count": 25,
   "id": "45394368",
   "metadata": {},
   "outputs": [
    {
     "data": {
      "application/vnd.plotly.v1+json": {
       "config": {
        "plotlyServerURL": "https://plot.ly"
       },
       "data": [
        {
         "name": "Number of properties",
         "type": "bar",
         "x": [
          "Houses",
          "Condos",
          "Townhouses"
         ],
         "y": [
          805,
          1743,
          310
         ]
        },
        {
         "name": "Mean price in $k ",
         "type": "bar",
         "x": [
          "Houses",
          "Condos",
          "Townhouses"
         ],
         "y": [
          2497.7995428571426,
          1034.3680734366035,
          1751.1237645161289
         ]
        }
       ],
       "layout": {
        "template": {
         "data": {
          "bar": [
           {
            "error_x": {
             "color": "#2a3f5f"
            },
            "error_y": {
             "color": "#2a3f5f"
            },
            "marker": {
             "line": {
              "color": "#E5ECF6",
              "width": 0.5
             },
             "pattern": {
              "fillmode": "overlay",
              "size": 10,
              "solidity": 0.2
             }
            },
            "type": "bar"
           }
          ],
          "barpolar": [
           {
            "marker": {
             "line": {
              "color": "#E5ECF6",
              "width": 0.5
             },
             "pattern": {
              "fillmode": "overlay",
              "size": 10,
              "solidity": 0.2
             }
            },
            "type": "barpolar"
           }
          ],
          "carpet": [
           {
            "aaxis": {
             "endlinecolor": "#2a3f5f",
             "gridcolor": "white",
             "linecolor": "white",
             "minorgridcolor": "white",
             "startlinecolor": "#2a3f5f"
            },
            "baxis": {
             "endlinecolor": "#2a3f5f",
             "gridcolor": "white",
             "linecolor": "white",
             "minorgridcolor": "white",
             "startlinecolor": "#2a3f5f"
            },
            "type": "carpet"
           }
          ],
          "choropleth": [
           {
            "colorbar": {
             "outlinewidth": 0,
             "ticks": ""
            },
            "type": "choropleth"
           }
          ],
          "contour": [
           {
            "colorbar": {
             "outlinewidth": 0,
             "ticks": ""
            },
            "colorscale": [
             [
              0,
              "#0d0887"
             ],
             [
              0.1111111111111111,
              "#46039f"
             ],
             [
              0.2222222222222222,
              "#7201a8"
             ],
             [
              0.3333333333333333,
              "#9c179e"
             ],
             [
              0.4444444444444444,
              "#bd3786"
             ],
             [
              0.5555555555555556,
              "#d8576b"
             ],
             [
              0.6666666666666666,
              "#ed7953"
             ],
             [
              0.7777777777777778,
              "#fb9f3a"
             ],
             [
              0.8888888888888888,
              "#fdca26"
             ],
             [
              1,
              "#f0f921"
             ]
            ],
            "type": "contour"
           }
          ],
          "contourcarpet": [
           {
            "colorbar": {
             "outlinewidth": 0,
             "ticks": ""
            },
            "type": "contourcarpet"
           }
          ],
          "heatmap": [
           {
            "colorbar": {
             "outlinewidth": 0,
             "ticks": ""
            },
            "colorscale": [
             [
              0,
              "#0d0887"
             ],
             [
              0.1111111111111111,
              "#46039f"
             ],
             [
              0.2222222222222222,
              "#7201a8"
             ],
             [
              0.3333333333333333,
              "#9c179e"
             ],
             [
              0.4444444444444444,
              "#bd3786"
             ],
             [
              0.5555555555555556,
              "#d8576b"
             ],
             [
              0.6666666666666666,
              "#ed7953"
             ],
             [
              0.7777777777777778,
              "#fb9f3a"
             ],
             [
              0.8888888888888888,
              "#fdca26"
             ],
             [
              1,
              "#f0f921"
             ]
            ],
            "type": "heatmap"
           }
          ],
          "heatmapgl": [
           {
            "colorbar": {
             "outlinewidth": 0,
             "ticks": ""
            },
            "colorscale": [
             [
              0,
              "#0d0887"
             ],
             [
              0.1111111111111111,
              "#46039f"
             ],
             [
              0.2222222222222222,
              "#7201a8"
             ],
             [
              0.3333333333333333,
              "#9c179e"
             ],
             [
              0.4444444444444444,
              "#bd3786"
             ],
             [
              0.5555555555555556,
              "#d8576b"
             ],
             [
              0.6666666666666666,
              "#ed7953"
             ],
             [
              0.7777777777777778,
              "#fb9f3a"
             ],
             [
              0.8888888888888888,
              "#fdca26"
             ],
             [
              1,
              "#f0f921"
             ]
            ],
            "type": "heatmapgl"
           }
          ],
          "histogram": [
           {
            "marker": {
             "pattern": {
              "fillmode": "overlay",
              "size": 10,
              "solidity": 0.2
             }
            },
            "type": "histogram"
           }
          ],
          "histogram2d": [
           {
            "colorbar": {
             "outlinewidth": 0,
             "ticks": ""
            },
            "colorscale": [
             [
              0,
              "#0d0887"
             ],
             [
              0.1111111111111111,
              "#46039f"
             ],
             [
              0.2222222222222222,
              "#7201a8"
             ],
             [
              0.3333333333333333,
              "#9c179e"
             ],
             [
              0.4444444444444444,
              "#bd3786"
             ],
             [
              0.5555555555555556,
              "#d8576b"
             ],
             [
              0.6666666666666666,
              "#ed7953"
             ],
             [
              0.7777777777777778,
              "#fb9f3a"
             ],
             [
              0.8888888888888888,
              "#fdca26"
             ],
             [
              1,
              "#f0f921"
             ]
            ],
            "type": "histogram2d"
           }
          ],
          "histogram2dcontour": [
           {
            "colorbar": {
             "outlinewidth": 0,
             "ticks": ""
            },
            "colorscale": [
             [
              0,
              "#0d0887"
             ],
             [
              0.1111111111111111,
              "#46039f"
             ],
             [
              0.2222222222222222,
              "#7201a8"
             ],
             [
              0.3333333333333333,
              "#9c179e"
             ],
             [
              0.4444444444444444,
              "#bd3786"
             ],
             [
              0.5555555555555556,
              "#d8576b"
             ],
             [
              0.6666666666666666,
              "#ed7953"
             ],
             [
              0.7777777777777778,
              "#fb9f3a"
             ],
             [
              0.8888888888888888,
              "#fdca26"
             ],
             [
              1,
              "#f0f921"
             ]
            ],
            "type": "histogram2dcontour"
           }
          ],
          "mesh3d": [
           {
            "colorbar": {
             "outlinewidth": 0,
             "ticks": ""
            },
            "type": "mesh3d"
           }
          ],
          "parcoords": [
           {
            "line": {
             "colorbar": {
              "outlinewidth": 0,
              "ticks": ""
             }
            },
            "type": "parcoords"
           }
          ],
          "pie": [
           {
            "automargin": true,
            "type": "pie"
           }
          ],
          "scatter": [
           {
            "marker": {
             "colorbar": {
              "outlinewidth": 0,
              "ticks": ""
             }
            },
            "type": "scatter"
           }
          ],
          "scatter3d": [
           {
            "line": {
             "colorbar": {
              "outlinewidth": 0,
              "ticks": ""
             }
            },
            "marker": {
             "colorbar": {
              "outlinewidth": 0,
              "ticks": ""
             }
            },
            "type": "scatter3d"
           }
          ],
          "scattercarpet": [
           {
            "marker": {
             "colorbar": {
              "outlinewidth": 0,
              "ticks": ""
             }
            },
            "type": "scattercarpet"
           }
          ],
          "scattergeo": [
           {
            "marker": {
             "colorbar": {
              "outlinewidth": 0,
              "ticks": ""
             }
            },
            "type": "scattergeo"
           }
          ],
          "scattergl": [
           {
            "marker": {
             "colorbar": {
              "outlinewidth": 0,
              "ticks": ""
             }
            },
            "type": "scattergl"
           }
          ],
          "scattermapbox": [
           {
            "marker": {
             "colorbar": {
              "outlinewidth": 0,
              "ticks": ""
             }
            },
            "type": "scattermapbox"
           }
          ],
          "scatterpolar": [
           {
            "marker": {
             "colorbar": {
              "outlinewidth": 0,
              "ticks": ""
             }
            },
            "type": "scatterpolar"
           }
          ],
          "scatterpolargl": [
           {
            "marker": {
             "colorbar": {
              "outlinewidth": 0,
              "ticks": ""
             }
            },
            "type": "scatterpolargl"
           }
          ],
          "scatterternary": [
           {
            "marker": {
             "colorbar": {
              "outlinewidth": 0,
              "ticks": ""
             }
            },
            "type": "scatterternary"
           }
          ],
          "surface": [
           {
            "colorbar": {
             "outlinewidth": 0,
             "ticks": ""
            },
            "colorscale": [
             [
              0,
              "#0d0887"
             ],
             [
              0.1111111111111111,
              "#46039f"
             ],
             [
              0.2222222222222222,
              "#7201a8"
             ],
             [
              0.3333333333333333,
              "#9c179e"
             ],
             [
              0.4444444444444444,
              "#bd3786"
             ],
             [
              0.5555555555555556,
              "#d8576b"
             ],
             [
              0.6666666666666666,
              "#ed7953"
             ],
             [
              0.7777777777777778,
              "#fb9f3a"
             ],
             [
              0.8888888888888888,
              "#fdca26"
             ],
             [
              1,
              "#f0f921"
             ]
            ],
            "type": "surface"
           }
          ],
          "table": [
           {
            "cells": {
             "fill": {
              "color": "#EBF0F8"
             },
             "line": {
              "color": "white"
             }
            },
            "header": {
             "fill": {
              "color": "#C8D4E3"
             },
             "line": {
              "color": "white"
             }
            },
            "type": "table"
           }
          ]
         },
         "layout": {
          "annotationdefaults": {
           "arrowcolor": "#2a3f5f",
           "arrowhead": 0,
           "arrowwidth": 1
          },
          "autotypenumbers": "strict",
          "coloraxis": {
           "colorbar": {
            "outlinewidth": 0,
            "ticks": ""
           }
          },
          "colorscale": {
           "diverging": [
            [
             0,
             "#8e0152"
            ],
            [
             0.1,
             "#c51b7d"
            ],
            [
             0.2,
             "#de77ae"
            ],
            [
             0.3,
             "#f1b6da"
            ],
            [
             0.4,
             "#fde0ef"
            ],
            [
             0.5,
             "#f7f7f7"
            ],
            [
             0.6,
             "#e6f5d0"
            ],
            [
             0.7,
             "#b8e186"
            ],
            [
             0.8,
             "#7fbc41"
            ],
            [
             0.9,
             "#4d9221"
            ],
            [
             1,
             "#276419"
            ]
           ],
           "sequential": [
            [
             0,
             "#0d0887"
            ],
            [
             0.1111111111111111,
             "#46039f"
            ],
            [
             0.2222222222222222,
             "#7201a8"
            ],
            [
             0.3333333333333333,
             "#9c179e"
            ],
            [
             0.4444444444444444,
             "#bd3786"
            ],
            [
             0.5555555555555556,
             "#d8576b"
            ],
            [
             0.6666666666666666,
             "#ed7953"
            ],
            [
             0.7777777777777778,
             "#fb9f3a"
            ],
            [
             0.8888888888888888,
             "#fdca26"
            ],
            [
             1,
             "#f0f921"
            ]
           ],
           "sequentialminus": [
            [
             0,
             "#0d0887"
            ],
            [
             0.1111111111111111,
             "#46039f"
            ],
            [
             0.2222222222222222,
             "#7201a8"
            ],
            [
             0.3333333333333333,
             "#9c179e"
            ],
            [
             0.4444444444444444,
             "#bd3786"
            ],
            [
             0.5555555555555556,
             "#d8576b"
            ],
            [
             0.6666666666666666,
             "#ed7953"
            ],
            [
             0.7777777777777778,
             "#fb9f3a"
            ],
            [
             0.8888888888888888,
             "#fdca26"
            ],
            [
             1,
             "#f0f921"
            ]
           ]
          },
          "colorway": [
           "#636efa",
           "#EF553B",
           "#00cc96",
           "#ab63fa",
           "#FFA15A",
           "#19d3f3",
           "#FF6692",
           "#B6E880",
           "#FF97FF",
           "#FECB52"
          ],
          "font": {
           "color": "#2a3f5f"
          },
          "geo": {
           "bgcolor": "white",
           "lakecolor": "white",
           "landcolor": "#E5ECF6",
           "showlakes": true,
           "showland": true,
           "subunitcolor": "white"
          },
          "hoverlabel": {
           "align": "left"
          },
          "hovermode": "closest",
          "mapbox": {
           "style": "light"
          },
          "paper_bgcolor": "white",
          "plot_bgcolor": "#E5ECF6",
          "polar": {
           "angularaxis": {
            "gridcolor": "white",
            "linecolor": "white",
            "ticks": ""
           },
           "bgcolor": "#E5ECF6",
           "radialaxis": {
            "gridcolor": "white",
            "linecolor": "white",
            "ticks": ""
           }
          },
          "scene": {
           "xaxis": {
            "backgroundcolor": "#E5ECF6",
            "gridcolor": "white",
            "gridwidth": 2,
            "linecolor": "white",
            "showbackground": true,
            "ticks": "",
            "zerolinecolor": "white"
           },
           "yaxis": {
            "backgroundcolor": "#E5ECF6",
            "gridcolor": "white",
            "gridwidth": 2,
            "linecolor": "white",
            "showbackground": true,
            "ticks": "",
            "zerolinecolor": "white"
           },
           "zaxis": {
            "backgroundcolor": "#E5ECF6",
            "gridcolor": "white",
            "gridwidth": 2,
            "linecolor": "white",
            "showbackground": true,
            "ticks": "",
            "zerolinecolor": "white"
           }
          },
          "shapedefaults": {
           "line": {
            "color": "#2a3f5f"
           }
          },
          "ternary": {
           "aaxis": {
            "gridcolor": "white",
            "linecolor": "white",
            "ticks": ""
           },
           "baxis": {
            "gridcolor": "white",
            "linecolor": "white",
            "ticks": ""
           },
           "bgcolor": "#E5ECF6",
           "caxis": {
            "gridcolor": "white",
            "linecolor": "white",
            "ticks": ""
           }
          },
          "title": {
           "x": 0.05
          },
          "xaxis": {
           "automargin": true,
           "gridcolor": "white",
           "linecolor": "white",
           "ticks": "",
           "title": {
            "standoff": 15
           },
           "zerolinecolor": "white",
           "zerolinewidth": 2
          },
          "yaxis": {
           "automargin": true,
           "gridcolor": "white",
           "linecolor": "white",
           "ticks": "",
           "title": {
            "standoff": 15
           },
           "zerolinecolor": "white",
           "zerolinewidth": 2
          }
         }
        },
        "title": {
         "text": "Mean price and number of property for each type  of property"
        }
       }
      },
      "text/html": [
       "<div>                            <div id=\"75901890-268d-4548-8d2a-f6c48d78a2c9\" class=\"plotly-graph-div\" style=\"height:525px; width:100%;\"></div>            <script type=\"text/javascript\">                require([\"plotly\"], function(Plotly) {                    window.PLOTLYENV=window.PLOTLYENV || {};                                    if (document.getElementById(\"75901890-268d-4548-8d2a-f6c48d78a2c9\")) {                    Plotly.newPlot(                        \"75901890-268d-4548-8d2a-f6c48d78a2c9\",                        [{\"name\":\"Number of properties\",\"x\":[\"Houses\",\"Condos\",\"Townhouses\"],\"y\":[805,1743,310],\"type\":\"bar\"},{\"name\":\"Mean price in $k \",\"x\":[\"Houses\",\"Condos\",\"Townhouses\"],\"y\":[2497.7995428571426,1034.3680734366035,1751.1237645161289],\"type\":\"bar\"}],                        {\"template\":{\"data\":{\"bar\":[{\"error_x\":{\"color\":\"#2a3f5f\"},\"error_y\":{\"color\":\"#2a3f5f\"},\"marker\":{\"line\":{\"color\":\"#E5ECF6\",\"width\":0.5},\"pattern\":{\"fillmode\":\"overlay\",\"size\":10,\"solidity\":0.2}},\"type\":\"bar\"}],\"barpolar\":[{\"marker\":{\"line\":{\"color\":\"#E5ECF6\",\"width\":0.5},\"pattern\":{\"fillmode\":\"overlay\",\"size\":10,\"solidity\":0.2}},\"type\":\"barpolar\"}],\"carpet\":[{\"aaxis\":{\"endlinecolor\":\"#2a3f5f\",\"gridcolor\":\"white\",\"linecolor\":\"white\",\"minorgridcolor\":\"white\",\"startlinecolor\":\"#2a3f5f\"},\"baxis\":{\"endlinecolor\":\"#2a3f5f\",\"gridcolor\":\"white\",\"linecolor\":\"white\",\"minorgridcolor\":\"white\",\"startlinecolor\":\"#2a3f5f\"},\"type\":\"carpet\"}],\"choropleth\":[{\"colorbar\":{\"outlinewidth\":0,\"ticks\":\"\"},\"type\":\"choropleth\"}],\"contour\":[{\"colorbar\":{\"outlinewidth\":0,\"ticks\":\"\"},\"colorscale\":[[0.0,\"#0d0887\"],[0.1111111111111111,\"#46039f\"],[0.2222222222222222,\"#7201a8\"],[0.3333333333333333,\"#9c179e\"],[0.4444444444444444,\"#bd3786\"],[0.5555555555555556,\"#d8576b\"],[0.6666666666666666,\"#ed7953\"],[0.7777777777777778,\"#fb9f3a\"],[0.8888888888888888,\"#fdca26\"],[1.0,\"#f0f921\"]],\"type\":\"contour\"}],\"contourcarpet\":[{\"colorbar\":{\"outlinewidth\":0,\"ticks\":\"\"},\"type\":\"contourcarpet\"}],\"heatmap\":[{\"colorbar\":{\"outlinewidth\":0,\"ticks\":\"\"},\"colorscale\":[[0.0,\"#0d0887\"],[0.1111111111111111,\"#46039f\"],[0.2222222222222222,\"#7201a8\"],[0.3333333333333333,\"#9c179e\"],[0.4444444444444444,\"#bd3786\"],[0.5555555555555556,\"#d8576b\"],[0.6666666666666666,\"#ed7953\"],[0.7777777777777778,\"#fb9f3a\"],[0.8888888888888888,\"#fdca26\"],[1.0,\"#f0f921\"]],\"type\":\"heatmap\"}],\"heatmapgl\":[{\"colorbar\":{\"outlinewidth\":0,\"ticks\":\"\"},\"colorscale\":[[0.0,\"#0d0887\"],[0.1111111111111111,\"#46039f\"],[0.2222222222222222,\"#7201a8\"],[0.3333333333333333,\"#9c179e\"],[0.4444444444444444,\"#bd3786\"],[0.5555555555555556,\"#d8576b\"],[0.6666666666666666,\"#ed7953\"],[0.7777777777777778,\"#fb9f3a\"],[0.8888888888888888,\"#fdca26\"],[1.0,\"#f0f921\"]],\"type\":\"heatmapgl\"}],\"histogram\":[{\"marker\":{\"pattern\":{\"fillmode\":\"overlay\",\"size\":10,\"solidity\":0.2}},\"type\":\"histogram\"}],\"histogram2d\":[{\"colorbar\":{\"outlinewidth\":0,\"ticks\":\"\"},\"colorscale\":[[0.0,\"#0d0887\"],[0.1111111111111111,\"#46039f\"],[0.2222222222222222,\"#7201a8\"],[0.3333333333333333,\"#9c179e\"],[0.4444444444444444,\"#bd3786\"],[0.5555555555555556,\"#d8576b\"],[0.6666666666666666,\"#ed7953\"],[0.7777777777777778,\"#fb9f3a\"],[0.8888888888888888,\"#fdca26\"],[1.0,\"#f0f921\"]],\"type\":\"histogram2d\"}],\"histogram2dcontour\":[{\"colorbar\":{\"outlinewidth\":0,\"ticks\":\"\"},\"colorscale\":[[0.0,\"#0d0887\"],[0.1111111111111111,\"#46039f\"],[0.2222222222222222,\"#7201a8\"],[0.3333333333333333,\"#9c179e\"],[0.4444444444444444,\"#bd3786\"],[0.5555555555555556,\"#d8576b\"],[0.6666666666666666,\"#ed7953\"],[0.7777777777777778,\"#fb9f3a\"],[0.8888888888888888,\"#fdca26\"],[1.0,\"#f0f921\"]],\"type\":\"histogram2dcontour\"}],\"mesh3d\":[{\"colorbar\":{\"outlinewidth\":0,\"ticks\":\"\"},\"type\":\"mesh3d\"}],\"parcoords\":[{\"line\":{\"colorbar\":{\"outlinewidth\":0,\"ticks\":\"\"}},\"type\":\"parcoords\"}],\"pie\":[{\"automargin\":true,\"type\":\"pie\"}],\"scatter\":[{\"marker\":{\"colorbar\":{\"outlinewidth\":0,\"ticks\":\"\"}},\"type\":\"scatter\"}],\"scatter3d\":[{\"line\":{\"colorbar\":{\"outlinewidth\":0,\"ticks\":\"\"}},\"marker\":{\"colorbar\":{\"outlinewidth\":0,\"ticks\":\"\"}},\"type\":\"scatter3d\"}],\"scattercarpet\":[{\"marker\":{\"colorbar\":{\"outlinewidth\":0,\"ticks\":\"\"}},\"type\":\"scattercarpet\"}],\"scattergeo\":[{\"marker\":{\"colorbar\":{\"outlinewidth\":0,\"ticks\":\"\"}},\"type\":\"scattergeo\"}],\"scattergl\":[{\"marker\":{\"colorbar\":{\"outlinewidth\":0,\"ticks\":\"\"}},\"type\":\"scattergl\"}],\"scattermapbox\":[{\"marker\":{\"colorbar\":{\"outlinewidth\":0,\"ticks\":\"\"}},\"type\":\"scattermapbox\"}],\"scatterpolar\":[{\"marker\":{\"colorbar\":{\"outlinewidth\":0,\"ticks\":\"\"}},\"type\":\"scatterpolar\"}],\"scatterpolargl\":[{\"marker\":{\"colorbar\":{\"outlinewidth\":0,\"ticks\":\"\"}},\"type\":\"scatterpolargl\"}],\"scatterternary\":[{\"marker\":{\"colorbar\":{\"outlinewidth\":0,\"ticks\":\"\"}},\"type\":\"scatterternary\"}],\"surface\":[{\"colorbar\":{\"outlinewidth\":0,\"ticks\":\"\"},\"colorscale\":[[0.0,\"#0d0887\"],[0.1111111111111111,\"#46039f\"],[0.2222222222222222,\"#7201a8\"],[0.3333333333333333,\"#9c179e\"],[0.4444444444444444,\"#bd3786\"],[0.5555555555555556,\"#d8576b\"],[0.6666666666666666,\"#ed7953\"],[0.7777777777777778,\"#fb9f3a\"],[0.8888888888888888,\"#fdca26\"],[1.0,\"#f0f921\"]],\"type\":\"surface\"}],\"table\":[{\"cells\":{\"fill\":{\"color\":\"#EBF0F8\"},\"line\":{\"color\":\"white\"}},\"header\":{\"fill\":{\"color\":\"#C8D4E3\"},\"line\":{\"color\":\"white\"}},\"type\":\"table\"}]},\"layout\":{\"annotationdefaults\":{\"arrowcolor\":\"#2a3f5f\",\"arrowhead\":0,\"arrowwidth\":1},\"autotypenumbers\":\"strict\",\"coloraxis\":{\"colorbar\":{\"outlinewidth\":0,\"ticks\":\"\"}},\"colorscale\":{\"diverging\":[[0,\"#8e0152\"],[0.1,\"#c51b7d\"],[0.2,\"#de77ae\"],[0.3,\"#f1b6da\"],[0.4,\"#fde0ef\"],[0.5,\"#f7f7f7\"],[0.6,\"#e6f5d0\"],[0.7,\"#b8e186\"],[0.8,\"#7fbc41\"],[0.9,\"#4d9221\"],[1,\"#276419\"]],\"sequential\":[[0.0,\"#0d0887\"],[0.1111111111111111,\"#46039f\"],[0.2222222222222222,\"#7201a8\"],[0.3333333333333333,\"#9c179e\"],[0.4444444444444444,\"#bd3786\"],[0.5555555555555556,\"#d8576b\"],[0.6666666666666666,\"#ed7953\"],[0.7777777777777778,\"#fb9f3a\"],[0.8888888888888888,\"#fdca26\"],[1.0,\"#f0f921\"]],\"sequentialminus\":[[0.0,\"#0d0887\"],[0.1111111111111111,\"#46039f\"],[0.2222222222222222,\"#7201a8\"],[0.3333333333333333,\"#9c179e\"],[0.4444444444444444,\"#bd3786\"],[0.5555555555555556,\"#d8576b\"],[0.6666666666666666,\"#ed7953\"],[0.7777777777777778,\"#fb9f3a\"],[0.8888888888888888,\"#fdca26\"],[1.0,\"#f0f921\"]]},\"colorway\":[\"#636efa\",\"#EF553B\",\"#00cc96\",\"#ab63fa\",\"#FFA15A\",\"#19d3f3\",\"#FF6692\",\"#B6E880\",\"#FF97FF\",\"#FECB52\"],\"font\":{\"color\":\"#2a3f5f\"},\"geo\":{\"bgcolor\":\"white\",\"lakecolor\":\"white\",\"landcolor\":\"#E5ECF6\",\"showlakes\":true,\"showland\":true,\"subunitcolor\":\"white\"},\"hoverlabel\":{\"align\":\"left\"},\"hovermode\":\"closest\",\"mapbox\":{\"style\":\"light\"},\"paper_bgcolor\":\"white\",\"plot_bgcolor\":\"#E5ECF6\",\"polar\":{\"angularaxis\":{\"gridcolor\":\"white\",\"linecolor\":\"white\",\"ticks\":\"\"},\"bgcolor\":\"#E5ECF6\",\"radialaxis\":{\"gridcolor\":\"white\",\"linecolor\":\"white\",\"ticks\":\"\"}},\"scene\":{\"xaxis\":{\"backgroundcolor\":\"#E5ECF6\",\"gridcolor\":\"white\",\"gridwidth\":2,\"linecolor\":\"white\",\"showbackground\":true,\"ticks\":\"\",\"zerolinecolor\":\"white\"},\"yaxis\":{\"backgroundcolor\":\"#E5ECF6\",\"gridcolor\":\"white\",\"gridwidth\":2,\"linecolor\":\"white\",\"showbackground\":true,\"ticks\":\"\",\"zerolinecolor\":\"white\"},\"zaxis\":{\"backgroundcolor\":\"#E5ECF6\",\"gridcolor\":\"white\",\"gridwidth\":2,\"linecolor\":\"white\",\"showbackground\":true,\"ticks\":\"\",\"zerolinecolor\":\"white\"}},\"shapedefaults\":{\"line\":{\"color\":\"#2a3f5f\"}},\"ternary\":{\"aaxis\":{\"gridcolor\":\"white\",\"linecolor\":\"white\",\"ticks\":\"\"},\"baxis\":{\"gridcolor\":\"white\",\"linecolor\":\"white\",\"ticks\":\"\"},\"bgcolor\":\"#E5ECF6\",\"caxis\":{\"gridcolor\":\"white\",\"linecolor\":\"white\",\"ticks\":\"\"}},\"title\":{\"x\":0.05},\"xaxis\":{\"automargin\":true,\"gridcolor\":\"white\",\"linecolor\":\"white\",\"ticks\":\"\",\"title\":{\"standoff\":15},\"zerolinecolor\":\"white\",\"zerolinewidth\":2},\"yaxis\":{\"automargin\":true,\"gridcolor\":\"white\",\"linecolor\":\"white\",\"ticks\":\"\",\"title\":{\"standoff\":15},\"zerolinecolor\":\"white\",\"zerolinewidth\":2}}},\"title\":{\"text\":\"Mean price and number of property for each type  of property\"}},                        {\"responsive\": true}                    ).then(function(){\n",
       "                            \n",
       "var gd = document.getElementById('75901890-268d-4548-8d2a-f6c48d78a2c9');\n",
       "var x = new MutationObserver(function (mutations, observer) {{\n",
       "        var display = window.getComputedStyle(gd).display;\n",
       "        if (!display || display === 'none') {{\n",
       "            console.log([gd, 'removed!']);\n",
       "            Plotly.purge(gd);\n",
       "            observer.disconnect();\n",
       "        }}\n",
       "}});\n",
       "\n",
       "// Listen for the removal of the full notebook cells\n",
       "var notebookContainer = gd.closest('#notebook-container');\n",
       "if (notebookContainer) {{\n",
       "    x.observe(notebookContainer, {childList: true});\n",
       "}}\n",
       "\n",
       "// Listen for the clearing of the current output cell\n",
       "var outputEl = gd.closest('.output');\n",
       "if (outputEl) {{\n",
       "    x.observe(outputEl, {childList: true});\n",
       "}}\n",
       "\n",
       "                        })                };                });            </script>        </div>"
      ]
     },
     "metadata": {},
     "output_type": "display_data"
    }
   ],
   "source": [
    "# For each type of propety, we have the average price and the number of property\n",
    "\n",
    "fig = go.Figure()\n",
    "\n",
    "fig.add_trace(go.Bar(\n",
    "  x = Count_type.index,\n",
    "  y = Count_type.values,\n",
    "  name = \"Number of properties\",\n",
    "))\n",
    "\n",
    "fig.add_trace(go.Bar(\n",
    "  x = Mean_type.index,\n",
    "  y = Mean_type.values/1000,\n",
    "  name = \"Mean price in $k \",\n",
    ")) \n",
    "\n",
    "fig.update_layout(title_text=\"Mean price and number of property for each type  of property\")\n",
    "\n",
    "fig.show()"
   ]
  },
  {
   "cell_type": "code",
   "execution_count": 26,
   "id": "93c00745",
   "metadata": {},
   "outputs": [
    {
     "data": {
      "text/plain": [
       "Houses        0     1399000\n",
       "1        <NA>\n",
       "2        <NA>\n",
       "3   ...\n",
       "Condos                    0    599000\n",
       "Name: Price, dtype: Int64\n",
       "Townhouses    0    999000\n",
       "1      <NA>\n",
       "2      <NA>\n",
       "Name: Pric...\n",
       "dtype: object"
      ]
     },
     "execution_count": 26,
     "metadata": {},
     "output_type": "execute_result"
    }
   ],
   "source": [
    "# Most occurency\n",
    "\n",
    "Mode_type = pd.Series({'Houses': houses.mode()['Price'],\n",
    "                         'Condos' : condos.mode()['Price'],\n",
    "                         'Townhouses' : townhouses.mode()['Price']})\n",
    "\n",
    "Mode_type"
   ]
  },
  {
   "cell_type": "code",
   "execution_count": 27,
   "id": "9888b353",
   "metadata": {
    "scrolled": true
   },
   "outputs": [
    {
     "name": "stderr",
     "output_type": "stream",
     "text": [
      "C:\\Users\\david\\AppData\\Local\\Temp/ipykernel_5764/1473618061.py:4: FutureWarning:\n",
      "\n",
      "Dropping of nuisance columns in DataFrame reductions (with 'numeric_only=None') is deprecated; in a future version this will raise TypeError.  Select only valid columns before calling the reduction.\n",
      "\n",
      "C:\\Users\\david\\AppData\\Local\\Temp/ipykernel_5764/1473618061.py:5: FutureWarning:\n",
      "\n",
      "Dropping of nuisance columns in DataFrame reductions (with 'numeric_only=None') is deprecated; in a future version this will raise TypeError.  Select only valid columns before calling the reduction.\n",
      "\n",
      "C:\\Users\\david\\AppData\\Local\\Temp/ipykernel_5764/1473618061.py:6: FutureWarning:\n",
      "\n",
      "Dropping of nuisance columns in DataFrame reductions (with 'numeric_only=None') is deprecated; in a future version this will raise TypeError.  Select only valid columns before calling the reduction.\n",
      "\n"
     ]
    },
    {
     "data": {
      "text/plain": [
       "Houses        1681505\n",
       "Condos         866233\n",
       "Townhouses    1103079\n",
       "dtype: int64"
      ]
     },
     "execution_count": 27,
     "metadata": {},
     "output_type": "execute_result"
    }
   ],
   "source": [
    "# for each type, we have the standard deviation which how dispersed\n",
    "# the data is in relation to the mean. the plage of the price.\n",
    "\n",
    "Mode_type = pd.Series({'Houses': houses.std()['Price'],\n",
    "                         'Condos' : condos.std()['Price'],\n",
    "                         'Townhouses' : townhouses.std()['Price']})\n",
    "\n",
    "Mode_type.astype(np.int64)"
   ]
  },
  {
   "cell_type": "markdown",
   "id": "096823ea",
   "metadata": {},
   "source": [
    "## Variability of the price for each neighbourhood."
   ]
  },
  {
   "cell_type": "code",
   "execution_count": 28,
   "id": "d1e14fca",
   "metadata": {},
   "outputs": [
    {
     "data": {
      "text/plain": [
       "Willowdale East                      41\n",
       "St. Andrew-Windfields                33\n",
       "Banbury-Don Mills                    30\n",
       "Bridle Path-Sunnybrook-York Mills    24\n",
       "Newtonbrook East                     21\n",
       "                                     ..\n",
       "Broadview North                       1\n",
       "Church-Yonge Corridor                 1\n",
       "Regent Park                           1\n",
       "Yonge-St. Clair                       1\n",
       "Niagara                               1\n",
       "Name: Neighbourhood, Length: 131, dtype: Int64"
      ]
     },
     "execution_count": 28,
     "metadata": {},
     "output_type": "execute_result"
    }
   ],
   "source": [
    "# the Number of houses fr each neighbourhood\n",
    "\n",
    "houses['Neighbourhood'].value_counts()"
   ]
  },
  {
   "cell_type": "code",
   "execution_count": 29,
   "id": "b9630bc8",
   "metadata": {},
   "outputs": [
    {
     "data": {
      "text/plain": [
       "Waterfront Communities C1           238\n",
       "Church-Yonge Corridor               130\n",
       "Mimico                              106\n",
       "Bay Street Corridor                  86\n",
       "Niagara                              71\n",
       "                                   ... \n",
       "Willowridge-Martingrove-Richview      1\n",
       "Maple Leaf                            1\n",
       "Forest Hill North                     1\n",
       "Guildwood                             1\n",
       "Playter Estates-Danforth              1\n",
       "Name: Neighbourhood, Length: 118, dtype: Int64"
      ]
     },
     "execution_count": 29,
     "metadata": {},
     "output_type": "execute_result"
    }
   ],
   "source": [
    "# The Number of condos for each neighbourhood\n",
    "\n",
    "condos['Neighbourhood'].value_counts()"
   ]
  },
  {
   "cell_type": "code",
   "execution_count": 30,
   "id": "af5a530e",
   "metadata": {},
   "outputs": [
    {
     "data": {
      "text/plain": [
       "Corso Italia-Davenport                 12\n",
       "South Riverdale                        11\n",
       "Little Portugal                        11\n",
       "Trinity-Bellwoods                      10\n",
       "Dovercourt-Wallace Emerson-Junction     9\n",
       "                                       ..\n",
       "Humewood-Cedarvale                      1\n",
       "Ionview                                 1\n",
       "Briar Hill-Belgravia                    1\n",
       "Dorset Park                             1\n",
       "Alderwood                               1\n",
       "Name: Neighbourhood, Length: 90, dtype: Int64"
      ]
     },
     "execution_count": 30,
     "metadata": {},
     "output_type": "execute_result"
    }
   ],
   "source": [
    "# The Number of townhouses fr each neighbourhood\n",
    "\n",
    "townhouses['Neighbourhood'].value_counts()"
   ]
  },
  {
   "cell_type": "code",
   "execution_count": 31,
   "id": "f77f66c8",
   "metadata": {},
   "outputs": [
    {
     "data": {
      "text/html": [
       "<div>\n",
       "<style scoped>\n",
       "    .dataframe tbody tr th:only-of-type {\n",
       "        vertical-align: middle;\n",
       "    }\n",
       "\n",
       "    .dataframe tbody tr th {\n",
       "        vertical-align: top;\n",
       "    }\n",
       "\n",
       "    .dataframe thead th {\n",
       "        text-align: right;\n",
       "    }\n",
       "</style>\n",
       "<table border=\"1\" class=\"dataframe\">\n",
       "  <thead>\n",
       "    <tr style=\"text-align: right;\">\n",
       "      <th></th>\n",
       "      <th>Mean_h</th>\n",
       "      <th>Count_h</th>\n",
       "    </tr>\n",
       "  </thead>\n",
       "  <tbody>\n",
       "    <tr>\n",
       "      <th>Bridle Path-Sunnybrook-York Mills</th>\n",
       "      <td>6407624.5</td>\n",
       "      <td>24</td>\n",
       "    </tr>\n",
       "    <tr>\n",
       "      <th>Rosedale-Moore Park</th>\n",
       "      <td>5642818.181818</td>\n",
       "      <td>11</td>\n",
       "    </tr>\n",
       "    <tr>\n",
       "      <th>Casa Loma</th>\n",
       "      <td>5510000.0</td>\n",
       "      <td>3</td>\n",
       "    </tr>\n",
       "    <tr>\n",
       "      <th>Niagara</th>\n",
       "      <td>4985000.0</td>\n",
       "      <td>1</td>\n",
       "    </tr>\n",
       "    <tr>\n",
       "      <th>St. Andrew-Windfields</th>\n",
       "      <td>4940593.575758</td>\n",
       "      <td>33</td>\n",
       "    </tr>\n",
       "    <tr>\n",
       "      <th>Trinity-Bellwoods</th>\n",
       "      <td>4666333.333333</td>\n",
       "      <td>6</td>\n",
       "    </tr>\n",
       "    <tr>\n",
       "      <th>Forest Hill South</th>\n",
       "      <td>4533599.875</td>\n",
       "      <td>8</td>\n",
       "    </tr>\n",
       "    <tr>\n",
       "      <th>Henry Farm</th>\n",
       "      <td>4498000.0</td>\n",
       "      <td>1</td>\n",
       "    </tr>\n",
       "    <tr>\n",
       "      <th>Yonge-St. Clair</th>\n",
       "      <td>4495000.0</td>\n",
       "      <td>1</td>\n",
       "    </tr>\n",
       "    <tr>\n",
       "      <th>Lawrence Park South</th>\n",
       "      <td>4486545.454545</td>\n",
       "      <td>11</td>\n",
       "    </tr>\n",
       "    <tr>\n",
       "      <th>Kingsway South</th>\n",
       "      <td>3628800.0</td>\n",
       "      <td>5</td>\n",
       "    </tr>\n",
       "    <tr>\n",
       "      <th>Banbury-Don Mills</th>\n",
       "      <td>3617902.933333</td>\n",
       "      <td>30</td>\n",
       "    </tr>\n",
       "    <tr>\n",
       "      <th>Yonge-Eglinton</th>\n",
       "      <td>3556666.666667</td>\n",
       "      <td>3</td>\n",
       "    </tr>\n",
       "    <tr>\n",
       "      <th>High Park-Swansea</th>\n",
       "      <td>3553800.0</td>\n",
       "      <td>6</td>\n",
       "    </tr>\n",
       "    <tr>\n",
       "      <th>Annex</th>\n",
       "      <td>3549725.0</td>\n",
       "      <td>4</td>\n",
       "    </tr>\n",
       "    <tr>\n",
       "      <th>Bayview Village</th>\n",
       "      <td>3500158.117647</td>\n",
       "      <td>17</td>\n",
       "    </tr>\n",
       "    <tr>\n",
       "      <th>Leaside</th>\n",
       "      <td>3493580.0</td>\n",
       "      <td>5</td>\n",
       "    </tr>\n",
       "    <tr>\n",
       "      <th>The Beaches</th>\n",
       "      <td>3379166.5</td>\n",
       "      <td>6</td>\n",
       "    </tr>\n",
       "    <tr>\n",
       "      <th>Playter Estates-Danforth</th>\n",
       "      <td>3297000.0</td>\n",
       "      <td>2</td>\n",
       "    </tr>\n",
       "    <tr>\n",
       "      <th>Willowdale East</th>\n",
       "      <td>3129378.0</td>\n",
       "      <td>41</td>\n",
       "    </tr>\n",
       "  </tbody>\n",
       "</table>\n",
       "</div>"
      ],
      "text/plain": [
       "                                           Mean_h  Count_h\n",
       "Bridle Path-Sunnybrook-York Mills       6407624.5       24\n",
       "Rosedale-Moore Park                5642818.181818       11\n",
       "Casa Loma                               5510000.0        3\n",
       "Niagara                                 4985000.0        1\n",
       "St. Andrew-Windfields              4940593.575758       33\n",
       "Trinity-Bellwoods                  4666333.333333        6\n",
       "Forest Hill South                     4533599.875        8\n",
       "Henry Farm                              4498000.0        1\n",
       "Yonge-St. Clair                         4495000.0        1\n",
       "Lawrence Park South                4486545.454545       11\n",
       "Kingsway South                          3628800.0        5\n",
       "Banbury-Don Mills                  3617902.933333       30\n",
       "Yonge-Eglinton                     3556666.666667        3\n",
       "High Park-Swansea                       3553800.0        6\n",
       "Annex                                   3549725.0        4\n",
       "Bayview Village                    3500158.117647       17\n",
       "Leaside                                 3493580.0        5\n",
       "The Beaches                             3379166.5        6\n",
       "Playter Estates-Danforth                3297000.0        2\n",
       "Willowdale East                         3129378.0       41"
      ]
     },
     "execution_count": 31,
     "metadata": {},
     "output_type": "execute_result"
    }
   ],
   "source": [
    "Nbh_houses = pd.DataFrame({\n",
    "                   'Mean_h': houses.groupby('Neighbourhood').mean()['Price'],\n",
    "                   'Count_h': houses['Neighbourhood'].value_counts()},\n",
    "                   columns = [ 'Mean_h', 'Count_h'])\n",
    "\n",
    "Nbh_houses.sort_values(by='Mean_h', ascending= False).head(20)"
   ]
  },
  {
   "cell_type": "code",
   "execution_count": 32,
   "id": "4a8a685e",
   "metadata": {},
   "outputs": [
    {
     "data": {
      "text/plain": [
       "<AxesSubplot:>"
      ]
     },
     "execution_count": 32,
     "metadata": {},
     "output_type": "execute_result"
    },
    {
     "data": {
      "image/png": "[encoded data removed]",
      "text/plain": [
       "<Figure size 432x288 with 1 Axes>"
      ]
     },
     "metadata": {},
     "output_type": "display_data"
    }
   ],
   "source": [
    "Nbh_houses.sort_values(by='Mean_h', ascending= False)['Mean_h'].head(20).plot(kind= 'bar')"
   ]
  },
  {
   "cell_type": "code",
   "execution_count": 33,
   "id": "187f09ad",
   "metadata": {},
   "outputs": [
    {
     "data": {
      "text/html": [
       "<div>\n",
       "<style scoped>\n",
       "    .dataframe tbody tr th:only-of-type {\n",
       "        vertical-align: middle;\n",
       "    }\n",
       "\n",
       "    .dataframe tbody tr th {\n",
       "        vertical-align: top;\n",
       "    }\n",
       "\n",
       "    .dataframe thead th {\n",
       "        text-align: right;\n",
       "    }\n",
       "</style>\n",
       "<table border=\"1\" class=\"dataframe\">\n",
       "  <thead>\n",
       "    <tr style=\"text-align: right;\">\n",
       "      <th></th>\n",
       "      <th>Mean_c</th>\n",
       "      <th>Count_c</th>\n",
       "    </tr>\n",
       "  </thead>\n",
       "  <tbody>\n",
       "    <tr>\n",
       "      <th>Bridle Path-Sunnybrook-York Mills</th>\n",
       "      <td>4393214.285714</td>\n",
       "      <td>7</td>\n",
       "    </tr>\n",
       "    <tr>\n",
       "      <th>Lawrence Park South</th>\n",
       "      <td>2895000.0</td>\n",
       "      <td>1</td>\n",
       "    </tr>\n",
       "    <tr>\n",
       "      <th>Bedford Park-Nortown</th>\n",
       "      <td>2842250.0</td>\n",
       "      <td>12</td>\n",
       "    </tr>\n",
       "    <tr>\n",
       "      <th>Palmerston-Little Italy</th>\n",
       "      <td>2296999.75</td>\n",
       "      <td>4</td>\n",
       "    </tr>\n",
       "    <tr>\n",
       "      <th>Annex</th>\n",
       "      <td>2234534.1</td>\n",
       "      <td>70</td>\n",
       "    </tr>\n",
       "    <tr>\n",
       "      <th>Yonge-St. Clair</th>\n",
       "      <td>1888546.666667</td>\n",
       "      <td>15</td>\n",
       "    </tr>\n",
       "    <tr>\n",
       "      <th>St. Andrew-Windfields</th>\n",
       "      <td>1862000.0</td>\n",
       "      <td>2</td>\n",
       "    </tr>\n",
       "    <tr>\n",
       "      <th>South Parkdale</th>\n",
       "      <td>1840714.285714</td>\n",
       "      <td>7</td>\n",
       "    </tr>\n",
       "    <tr>\n",
       "      <th>Forest Hill South</th>\n",
       "      <td>1675638.333333</td>\n",
       "      <td>18</td>\n",
       "    </tr>\n",
       "    <tr>\n",
       "      <th>Kingsway South</th>\n",
       "      <td>1613500.0</td>\n",
       "      <td>2</td>\n",
       "    </tr>\n",
       "    <tr>\n",
       "      <th>Cabbagetown-South St. James Town</th>\n",
       "      <td>1559333.333333</td>\n",
       "      <td>6</td>\n",
       "    </tr>\n",
       "    <tr>\n",
       "      <th>Bay Street Corridor</th>\n",
       "      <td>1466015.465116</td>\n",
       "      <td>86</td>\n",
       "    </tr>\n",
       "    <tr>\n",
       "      <th>Rosedale-Moore Park</th>\n",
       "      <td>1401595.321429</td>\n",
       "      <td>28</td>\n",
       "    </tr>\n",
       "    <tr>\n",
       "      <th>Edenbridge-Humber Valley</th>\n",
       "      <td>1353490.909091</td>\n",
       "      <td>11</td>\n",
       "    </tr>\n",
       "    <tr>\n",
       "      <th>Mount Pleasant East</th>\n",
       "      <td>1285066.769231</td>\n",
       "      <td>13</td>\n",
       "    </tr>\n",
       "    <tr>\n",
       "      <th>Dufferin Grove</th>\n",
       "      <td>1274000.0</td>\n",
       "      <td>4</td>\n",
       "    </tr>\n",
       "    <tr>\n",
       "      <th>University</th>\n",
       "      <td>1247100.0</td>\n",
       "      <td>7</td>\n",
       "    </tr>\n",
       "    <tr>\n",
       "      <th>Waterfront Communities C8</th>\n",
       "      <td>1237122.561404</td>\n",
       "      <td>57</td>\n",
       "    </tr>\n",
       "    <tr>\n",
       "      <th>Playter Estates-Danforth</th>\n",
       "      <td>1176900.0</td>\n",
       "      <td>1</td>\n",
       "    </tr>\n",
       "    <tr>\n",
       "      <th>Church-Yonge Corridor</th>\n",
       "      <td>1126456.092308</td>\n",
       "      <td>130</td>\n",
       "    </tr>\n",
       "  </tbody>\n",
       "</table>\n",
       "</div>"
      ],
      "text/plain": [
       "                                           Mean_c  Count_c\n",
       "Bridle Path-Sunnybrook-York Mills  4393214.285714        7\n",
       "Lawrence Park South                     2895000.0        1\n",
       "Bedford Park-Nortown                    2842250.0       12\n",
       "Palmerston-Little Italy                2296999.75        4\n",
       "Annex                                   2234534.1       70\n",
       "Yonge-St. Clair                    1888546.666667       15\n",
       "St. Andrew-Windfields                   1862000.0        2\n",
       "South Parkdale                     1840714.285714        7\n",
       "Forest Hill South                  1675638.333333       18\n",
       "Kingsway South                          1613500.0        2\n",
       "Cabbagetown-South St. James Town   1559333.333333        6\n",
       "Bay Street Corridor                1466015.465116       86\n",
       "Rosedale-Moore Park                1401595.321429       28\n",
       "Edenbridge-Humber Valley           1353490.909091       11\n",
       "Mount Pleasant East                1285066.769231       13\n",
       "Dufferin Grove                          1274000.0        4\n",
       "University                              1247100.0        7\n",
       "Waterfront Communities C8          1237122.561404       57\n",
       "Playter Estates-Danforth                1176900.0        1\n",
       "Church-Yonge Corridor              1126456.092308      130"
      ]
     },
     "execution_count": 33,
     "metadata": {},
     "output_type": "execute_result"
    }
   ],
   "source": [
    "Nbh_condos = pd.DataFrame({\n",
    "                   'Mean_c': condos.groupby('Neighbourhood').mean()['Price'],\n",
    "                   'Count_c': condos['Neighbourhood'].value_counts()},\n",
    "                   columns = [ 'Mean_c', 'Count_c'])\n",
    "\n",
    "Nbh_condos.sort_values(by='Mean_c', ascending= False).head(20)"
   ]
  },
  {
   "cell_type": "code",
   "execution_count": 34,
   "id": "f6fdfbc1",
   "metadata": {},
   "outputs": [
    {
     "data": {
      "text/plain": [
       "<AxesSubplot:>"
      ]
     },
     "execution_count": 34,
     "metadata": {},
     "output_type": "execute_result"
    },
    {
     "data": {
      "image/png": "[encoded data removed]",
      "text/plain": [
       "<Figure size 432x288 with 1 Axes>"
      ]
     },
     "metadata": {},
     "output_type": "display_data"
    }
   ],
   "source": [
    "Nbh_condos.sort_values(by='Mean_c', ascending= False)['Mean_c'].head(20).plot(kind= 'bar')"
   ]
  },
  {
   "cell_type": "code",
   "execution_count": 35,
   "id": "2832999c",
   "metadata": {},
   "outputs": [
    {
     "data": {
      "text/html": [
       "<div>\n",
       "<style scoped>\n",
       "    .dataframe tbody tr th:only-of-type {\n",
       "        vertical-align: middle;\n",
       "    }\n",
       "\n",
       "    .dataframe tbody tr th {\n",
       "        vertical-align: top;\n",
       "    }\n",
       "\n",
       "    .dataframe thead th {\n",
       "        text-align: right;\n",
       "    }\n",
       "</style>\n",
       "<table border=\"1\" class=\"dataframe\">\n",
       "  <thead>\n",
       "    <tr style=\"text-align: right;\">\n",
       "      <th></th>\n",
       "      <th>Mean_th</th>\n",
       "      <th>Count_th</th>\n",
       "    </tr>\n",
       "  </thead>\n",
       "  <tbody>\n",
       "    <tr>\n",
       "      <th>Ionview</th>\n",
       "      <td>6600000.0</td>\n",
       "      <td>1</td>\n",
       "    </tr>\n",
       "    <tr>\n",
       "      <th>South Parkdale</th>\n",
       "      <td>4447966.666667</td>\n",
       "      <td>3</td>\n",
       "    </tr>\n",
       "    <tr>\n",
       "      <th>Lawrence Park South</th>\n",
       "      <td>4194666.666667</td>\n",
       "      <td>3</td>\n",
       "    </tr>\n",
       "    <tr>\n",
       "      <th>Forest Hill South</th>\n",
       "      <td>3995000.0</td>\n",
       "      <td>1</td>\n",
       "    </tr>\n",
       "    <tr>\n",
       "      <th>Humewood-Cedarvale</th>\n",
       "      <td>3925000.0</td>\n",
       "      <td>1</td>\n",
       "    </tr>\n",
       "    <tr>\n",
       "      <th>Casa Loma</th>\n",
       "      <td>3845000.0</td>\n",
       "      <td>2</td>\n",
       "    </tr>\n",
       "    <tr>\n",
       "      <th>Annex</th>\n",
       "      <td>3727098.5</td>\n",
       "      <td>8</td>\n",
       "    </tr>\n",
       "    <tr>\n",
       "      <th>Rosedale-Moore Park</th>\n",
       "      <td>3432666.666667</td>\n",
       "      <td>6</td>\n",
       "    </tr>\n",
       "    <tr>\n",
       "      <th>Cabbagetown-South St. James Town</th>\n",
       "      <td>3016800.0</td>\n",
       "      <td>6</td>\n",
       "    </tr>\n",
       "    <tr>\n",
       "      <th>Church-Yonge Corridor</th>\n",
       "      <td>2857250.0</td>\n",
       "      <td>4</td>\n",
       "    </tr>\n",
       "    <tr>\n",
       "      <th>St. Andrew-Windfields</th>\n",
       "      <td>2695000.0</td>\n",
       "      <td>1</td>\n",
       "    </tr>\n",
       "    <tr>\n",
       "      <th>East End-Danforth</th>\n",
       "      <td>2677537.6</td>\n",
       "      <td>5</td>\n",
       "    </tr>\n",
       "    <tr>\n",
       "      <th>Yonge-St. Clair</th>\n",
       "      <td>2667800.0</td>\n",
       "      <td>5</td>\n",
       "    </tr>\n",
       "    <tr>\n",
       "      <th>Lawrence Park North</th>\n",
       "      <td>2641500.0</td>\n",
       "      <td>2</td>\n",
       "    </tr>\n",
       "    <tr>\n",
       "      <th>Keelesdale-Eglinton West</th>\n",
       "      <td>2599999.0</td>\n",
       "      <td>1</td>\n",
       "    </tr>\n",
       "    <tr>\n",
       "      <th>Stonegate-Queensway</th>\n",
       "      <td>2498500.0</td>\n",
       "      <td>2</td>\n",
       "    </tr>\n",
       "    <tr>\n",
       "      <th>Long Branch</th>\n",
       "      <td>2415600.0</td>\n",
       "      <td>3</td>\n",
       "    </tr>\n",
       "    <tr>\n",
       "      <th>Bayview Village</th>\n",
       "      <td>2280000.0</td>\n",
       "      <td>1</td>\n",
       "    </tr>\n",
       "    <tr>\n",
       "      <th>University</th>\n",
       "      <td>2277780.0</td>\n",
       "      <td>5</td>\n",
       "    </tr>\n",
       "    <tr>\n",
       "      <th>Caledonia-Fairbank</th>\n",
       "      <td>2199000.0</td>\n",
       "      <td>2</td>\n",
       "    </tr>\n",
       "  </tbody>\n",
       "</table>\n",
       "</div>"
      ],
      "text/plain": [
       "                                         Mean_th  Count_th\n",
       "Ionview                                6600000.0         1\n",
       "South Parkdale                    4447966.666667         3\n",
       "Lawrence Park South               4194666.666667         3\n",
       "Forest Hill South                      3995000.0         1\n",
       "Humewood-Cedarvale                     3925000.0         1\n",
       "Casa Loma                              3845000.0         2\n",
       "Annex                                  3727098.5         8\n",
       "Rosedale-Moore Park               3432666.666667         6\n",
       "Cabbagetown-South St. James Town       3016800.0         6\n",
       "Church-Yonge Corridor                  2857250.0         4\n",
       "St. Andrew-Windfields                  2695000.0         1\n",
       "East End-Danforth                      2677537.6         5\n",
       "Yonge-St. Clair                        2667800.0         5\n",
       "Lawrence Park North                    2641500.0         2\n",
       "Keelesdale-Eglinton West               2599999.0         1\n",
       "Stonegate-Queensway                    2498500.0         2\n",
       "Long Branch                            2415600.0         3\n",
       "Bayview Village                        2280000.0         1\n",
       "University                             2277780.0         5\n",
       "Caledonia-Fairbank                     2199000.0         2"
      ]
     },
     "execution_count": 35,
     "metadata": {},
     "output_type": "execute_result"
    }
   ],
   "source": [
    "Nbh_townhouses = pd.DataFrame({\n",
    "                   'Mean_th': townhouses.groupby('Neighbourhood').mean()['Price'],\n",
    "                   'Count_th': townhouses['Neighbourhood'].value_counts()},\n",
    "                   columns = [ 'Mean_th', 'Count_th'])\n",
    "\n",
    "Nbh_townhouses.sort_values(by='Mean_th', ascending= False).head(20)"
   ]
  },
  {
   "cell_type": "code",
   "execution_count": 36,
   "id": "ab4a8cda",
   "metadata": {},
   "outputs": [
    {
     "data": {
      "text/plain": [
       "<AxesSubplot:>"
      ]
     },
     "execution_count": 36,
     "metadata": {},
     "output_type": "execute_result"
    },
    {
     "data": {
      "image/png": "[encoded data removed]",
      "text/plain": [
       "<Figure size 432x288 with 1 Axes>"
      ]
     },
     "metadata": {},
     "output_type": "display_data"
    }
   ],
   "source": [
    "Nbh_townhouses.sort_values(by='Mean_th', ascending= False)['Mean_th'].head(20).plot(kind= 'bar')"
   ]
  },
  {
   "cell_type": "code",
   "execution_count": null,
   "id": "2d696b54",
   "metadata": {},
   "outputs": [],
   "source": []
  },
  {
   "cell_type": "code",
   "execution_count": 37,
   "id": "4b4fe514",
   "metadata": {},
   "outputs": [
    {
     "data": {
      "text/plain": [
       "Dorset Park            1\n",
       "Rouge E11              5\n",
       "Malvern                7\n",
       "Milliken               1\n",
       "Woburn                 1\n",
       "                      ..\n",
       "Humewood-Cedarvale     1\n",
       "Forest Hill South      1\n",
       "Lawrence Park South    3\n",
       "South Parkdale         3\n",
       "Ionview                1\n",
       "Name: Count_th, Length: 90, dtype: Int64"
      ]
     },
     "execution_count": 37,
     "metadata": {},
     "output_type": "execute_result"
    }
   ],
   "source": [
    "Nbh_townhouses.sort_values('Mean_th')['Count_th']"
   ]
  },
  {
   "cell_type": "code",
   "execution_count": 38,
   "id": "ceb9df6b",
   "metadata": {},
   "outputs": [
    {
     "data": {
      "application/vnd.plotly.v1+json": {
       "config": {
        "plotlyServerURL": "https://plot.ly"
       },
       "data": [
        {
         "marker": {
          "color": "rgba(50, 171, 96, 0.6)",
          "line": {
           "color": "rgba(50, 171, 96, 1.0)",
           "width": 1
          }
         },
         "name": "Mean price",
         "orientation": "h",
         "type": "bar",
         "x": [
          2677537.6,
          859379.8,
          1847166.6666666667,
          1645816.6666666667,
          1218833.3333333333,
          3016800,
          1884333.3333333333,
          3432666.6666666665,
          1449526.857142857,
          874400,
          1970862.375,
          3727098.5,
          1551725,
          1469473.5,
          1301422.111111111,
          1062954,
          1896499.8,
          1302899.9090909092,
          1784618.0909090908,
          1273557.3333333333
         ],
         "xaxis": "x",
         "y": [
          "York University Heights",
          "Hillcrest Village",
          "Humewood-Cedarvale",
          "Ionview",
          "Islington-City Centre West",
          "Keelesdale-Eglinton West",
          "Forest Hill South",
          "Eglinton East",
          "Edenbridge-Humber Valley",
          "Milliken",
          "Mount Pleasant West",
          "Dorset Park",
          "New Toronto",
          "North Riverdale",
          "Humbermede",
          "North St. James Town",
          "Danforth Village",
          "Humberlea-Pelmo Park W5",
          "Alderwood",
          "Woburn",
          "Willowridge-Martingrove-Richview",
          "St. Andrew-Windfields",
          "Bayview Village",
          "Brookhaven-Amesbury",
          "Weston",
          "Briar Hill-Belgravia",
          "Westminster-Branson",
          "Pleasant View",
          "Kensington-Chinatown",
          "Leaside",
          "Mount Pleasant East",
          "Rustic",
          "Rouge E10",
          "Rockcliffe-Smythe",
          "Playter Estates-Danforth",
          "Stonegate-Queensway",
          "Agincourt North",
          "High Park-Swansea",
          "Bendale",
          "Blake-Jones",
          "Caledonia-Fairbank",
          "Casa Loma",
          "Don Valley Village",
          "Lawrence Park North",
          "East York",
          "Humber Summit",
          "South Parkdale",
          "Danforth Village-East York",
          "L'Amoreaux",
          "High Park North",
          "Weston-Pellam Park",
          "Glenfield-Jane Heights",
          "Bathurst Manor",
          "Long Branch",
          "Yonge-Eglinton",
          "Lawrence Park South",
          "Willowdale East",
          "Victoria Village",
          "Niagara",
          "Wychwood",
          "Danforth",
          "Broadview North",
          "Parkwoods-Donalda",
          "Junction Area",
          "Church-Yonge Corridor",
          "Clairlea-Birchmount",
          "University",
          "Runnymede-Bloor West Village",
          "Yonge-St. Clair",
          "Roncesvalles",
          "East End-Danforth",
          "Rouge E11",
          "Mimico",
          "The Beaches",
          "Greenwood-Coxwell",
          "Cabbagetown-South St. James Town",
          "Palmerston-Little Italy",
          "Rosedale-Moore Park",
          "Dufferin Grove",
          "Malvern",
          "Moss Park",
          "Annex",
          "Woodbine Corridor",
          "Oakwood-Vaughan",
          "Dovercourt-Wallace Emerson-Junction",
          "Downsview-Roding-CFB",
          "Trinity-Bellwoods",
          "South Riverdale",
          "Little Portugal",
          "Corso Italia-Davenport"
         ],
         "yaxis": "y"
        },
        {
         "marker": {
          "color": "rgb(128, 0, 128)",
          "line": {
           "color": "rgb(128, 0, 128)",
           "width": 1
          }
         },
         "name": "Number of townhouses",
         "orientation": "h",
         "type": "bar",
         "x": [
          5,
          5,
          6,
          6,
          6,
          6,
          6,
          6,
          7,
          7,
          8,
          8,
          8,
          8,
          9,
          9,
          10,
          11,
          11,
          12
         ],
         "xaxis": "x2",
         "y": [
          "York University Heights",
          "Hillcrest Village",
          "Humewood-Cedarvale",
          "Ionview",
          "Islington-City Centre West",
          "Keelesdale-Eglinton West",
          "Forest Hill South",
          "Eglinton East",
          "Edenbridge-Humber Valley",
          "Milliken",
          "Mount Pleasant West",
          "Dorset Park",
          "New Toronto",
          "North Riverdale",
          "Humbermede",
          "North St. James Town",
          "Danforth Village",
          "Humberlea-Pelmo Park W5",
          "Alderwood",
          "Woburn",
          "Willowridge-Martingrove-Richview",
          "St. Andrew-Windfields",
          "Bayview Village",
          "Brookhaven-Amesbury",
          "Weston",
          "Briar Hill-Belgravia",
          "Westminster-Branson",
          "Pleasant View",
          "Kensington-Chinatown",
          "Leaside",
          "Mount Pleasant East",
          "Rustic",
          "Rouge E10",
          "Rockcliffe-Smythe",
          "Playter Estates-Danforth",
          "Stonegate-Queensway",
          "Agincourt North",
          "High Park-Swansea",
          "Bendale",
          "Blake-Jones",
          "Caledonia-Fairbank",
          "Casa Loma",
          "Don Valley Village",
          "Lawrence Park North",
          "East York",
          "Humber Summit",
          "South Parkdale",
          "Danforth Village-East York",
          "L'Amoreaux",
          "High Park North",
          "Weston-Pellam Park",
          "Glenfield-Jane Heights",
          "Bathurst Manor",
          "Long Branch",
          "Yonge-Eglinton",
          "Lawrence Park South",
          "Willowdale East",
          "Victoria Village",
          "Niagara",
          "Wychwood",
          "Danforth",
          "Broadview North",
          "Parkwoods-Donalda",
          "Junction Area",
          "Church-Yonge Corridor",
          "Clairlea-Birchmount",
          "University",
          "Runnymede-Bloor West Village",
          "Yonge-St. Clair",
          "Roncesvalles",
          "East End-Danforth",
          "Rouge E11",
          "Mimico",
          "The Beaches",
          "Greenwood-Coxwell",
          "Cabbagetown-South St. James Town",
          "Palmerston-Little Italy",
          "Rosedale-Moore Park",
          "Dufferin Grove",
          "Malvern",
          "Moss Park",
          "Annex",
          "Woodbine Corridor",
          "Oakwood-Vaughan",
          "Dovercourt-Wallace Emerson-Junction",
          "Downsview-Roding-CFB",
          "Trinity-Bellwoods",
          "South Riverdale",
          "Little Portugal",
          "Corso Italia-Davenport"
         ],
         "yaxis": "y2"
        }
       ],
       "layout": {
        "legend": {
         "font": {
          "size": 10
         },
         "x": 0.029,
         "y": 1.038
        },
        "margin": {
         "b": 70,
         "l": 100,
         "r": 20,
         "t": 70
        },
        "paper_bgcolor": "rgb(248, 248, 255)",
        "plot_bgcolor": "rgb(248, 248, 255)",
        "template": {
         "data": {
          "bar": [
           {
            "error_x": {
             "color": "#2a3f5f"
            },
            "error_y": {
             "color": "#2a3f5f"
            },
            "marker": {
             "line": {
              "color": "#E5ECF6",
              "width": 0.5
             },
             "pattern": {
              "fillmode": "overlay",
              "size": 10,
              "solidity": 0.2
             }
            },
            "type": "bar"
           }
          ],
          "barpolar": [
           {
            "marker": {
             "line": {
              "color": "#E5ECF6",
              "width": 0.5
             },
             "pattern": {
              "fillmode": "overlay",
              "size": 10,
              "solidity": 0.2
             }
            },
            "type": "barpolar"
           }
          ],
          "carpet": [
           {
            "aaxis": {
             "endlinecolor": "#2a3f5f",
             "gridcolor": "white",
             "linecolor": "white",
             "minorgridcolor": "white",
             "startlinecolor": "#2a3f5f"
            },
            "baxis": {
             "endlinecolor": "#2a3f5f",
             "gridcolor": "white",
             "linecolor": "white",
             "minorgridcolor": "white",
             "startlinecolor": "#2a3f5f"
            },
            "type": "carpet"
           }
          ],
          "choropleth": [
           {
            "colorbar": {
             "outlinewidth": 0,
             "ticks": ""
            },
            "type": "choropleth"
           }
          ],
          "contour": [
           {
            "colorbar": {
             "outlinewidth": 0,
             "ticks": ""
            },
            "colorscale": [
             [
              0,
              "#0d0887"
             ],
             [
              0.1111111111111111,
              "#46039f"
             ],
             [
              0.2222222222222222,
              "#7201a8"
             ],
             [
              0.3333333333333333,
              "#9c179e"
             ],
             [
              0.4444444444444444,
              "#bd3786"
             ],
             [
              0.5555555555555556,
              "#d8576b"
             ],
             [
              0.6666666666666666,
              "#ed7953"
             ],
             [
              0.7777777777777778,
              "#fb9f3a"
             ],
             [
              0.8888888888888888,
              "#fdca26"
             ],
             [
              1,
              "#f0f921"
             ]
            ],
            "type": "contour"
           }
          ],
          "contourcarpet": [
           {
            "colorbar": {
             "outlinewidth": 0,
             "ticks": ""
            },
            "type": "contourcarpet"
           }
          ],
          "heatmap": [
           {
            "colorbar": {
             "outlinewidth": 0,
             "ticks": ""
            },
            "colorscale": [
             [
              0,
              "#0d0887"
             ],
             [
              0.1111111111111111,
              "#46039f"
             ],
             [
              0.2222222222222222,
              "#7201a8"
             ],
             [
              0.3333333333333333,
              "#9c179e"
             ],
             [
              0.4444444444444444,
              "#bd3786"
             ],
             [
              0.5555555555555556,
              "#d8576b"
             ],
             [
              0.6666666666666666,
              "#ed7953"
             ],
             [
              0.7777777777777778,
              "#fb9f3a"
             ],
             [
              0.8888888888888888,
              "#fdca26"
             ],
             [
              1,
              "#f0f921"
             ]
            ],
            "type": "heatmap"
           }
          ],
          "heatmapgl": [
           {
            "colorbar": {
             "outlinewidth": 0,
             "ticks": ""
            },
            "colorscale": [
             [
              0,
              "#0d0887"
             ],
             [
              0.1111111111111111,
              "#46039f"
             ],
             [
              0.2222222222222222,
              "#7201a8"
             ],
             [
              0.3333333333333333,
              "#9c179e"
             ],
             [
              0.4444444444444444,
              "#bd3786"
             ],
             [
              0.5555555555555556,
              "#d8576b"
             ],
             [
              0.6666666666666666,
              "#ed7953"
             ],
             [
              0.7777777777777778,
              "#fb9f3a"
             ],
             [
              0.8888888888888888,
              "#fdca26"
             ],
             [
              1,
              "#f0f921"
             ]
            ],
            "type": "heatmapgl"
           }
          ],
          "histogram": [
           {
            "marker": {
             "pattern": {
              "fillmode": "overlay",
              "size": 10,
              "solidity": 0.2
             }
            },
            "type": "histogram"
           }
          ],
          "histogram2d": [
           {
            "colorbar": {
             "outlinewidth": 0,
             "ticks": ""
            },
            "colorscale": [
             [
              0,
              "#0d0887"
             ],
             [
              0.1111111111111111,
              "#46039f"
             ],
             [
              0.2222222222222222,
              "#7201a8"
             ],
             [
              0.3333333333333333,
              "#9c179e"
             ],
             [
              0.4444444444444444,
              "#bd3786"
             ],
             [
              0.5555555555555556,
              "#d8576b"
             ],
             [
              0.6666666666666666,
              "#ed7953"
             ],
             [
              0.7777777777777778,
              "#fb9f3a"
             ],
             [
              0.8888888888888888,
              "#fdca26"
             ],
             [
              1,
              "#f0f921"
             ]
            ],
            "type": "histogram2d"
           }
          ],
          "histogram2dcontour": [
           {
            "colorbar": {
             "outlinewidth": 0,
             "ticks": ""
            },
            "colorscale": [
             [
              0,
              "#0d0887"
             ],
             [
              0.1111111111111111,
              "#46039f"
             ],
             [
              0.2222222222222222,
              "#7201a8"
             ],
             [
              0.3333333333333333,
              "#9c179e"
             ],
             [
              0.4444444444444444,
              "#bd3786"
             ],
             [
              0.5555555555555556,
              "#d8576b"
             ],
             [
              0.6666666666666666,
              "#ed7953"
             ],
             [
              0.7777777777777778,
              "#fb9f3a"
             ],
             [
              0.8888888888888888,
              "#fdca26"
             ],
             [
              1,
              "#f0f921"
             ]
            ],
            "type": "histogram2dcontour"
           }
          ],
          "mesh3d": [
           {
            "colorbar": {
             "outlinewidth": 0,
             "ticks": ""
            },
            "type": "mesh3d"
           }
          ],
          "parcoords": [
           {
            "line": {
             "colorbar": {
              "outlinewidth": 0,
              "ticks": ""
             }
            },
            "type": "parcoords"
           }
          ],
          "pie": [
           {
            "automargin": true,
            "type": "pie"
           }
          ],
          "scatter": [
           {
            "marker": {
             "colorbar": {
              "outlinewidth": 0,
              "ticks": ""
             }
            },
            "type": "scatter"
           }
          ],
          "scatter3d": [
           {
            "line": {
             "colorbar": {
              "outlinewidth": 0,
              "ticks": ""
             }
            },
            "marker": {
             "colorbar": {
              "outlinewidth": 0,
              "ticks": ""
             }
            },
            "type": "scatter3d"
           }
          ],
          "scattercarpet": [
           {
            "marker": {
             "colorbar": {
              "outlinewidth": 0,
              "ticks": ""
             }
            },
            "type": "scattercarpet"
           }
          ],
          "scattergeo": [
           {
            "marker": {
             "colorbar": {
              "outlinewidth": 0,
              "ticks": ""
             }
            },
            "type": "scattergeo"
           }
          ],
          "scattergl": [
           {
            "marker": {
             "colorbar": {
              "outlinewidth": 0,
              "ticks": ""
             }
            },
            "type": "scattergl"
           }
          ],
          "scattermapbox": [
           {
            "marker": {
             "colorbar": {
              "outlinewidth": 0,
              "ticks": ""
             }
            },
            "type": "scattermapbox"
           }
          ],
          "scatterpolar": [
           {
            "marker": {
             "colorbar": {
              "outlinewidth": 0,
              "ticks": ""
             }
            },
            "type": "scatterpolar"
           }
          ],
          "scatterpolargl": [
           {
            "marker": {
             "colorbar": {
              "outlinewidth": 0,
              "ticks": ""
             }
            },
            "type": "scatterpolargl"
           }
          ],
          "scatterternary": [
           {
            "marker": {
             "colorbar": {
              "outlinewidth": 0,
              "ticks": ""
             }
            },
            "type": "scatterternary"
           }
          ],
          "surface": [
           {
            "colorbar": {
             "outlinewidth": 0,
             "ticks": ""
            },
            "colorscale": [
             [
              0,
              "#0d0887"
             ],
             [
              0.1111111111111111,
              "#46039f"
             ],
             [
              0.2222222222222222,
              "#7201a8"
             ],
             [
              0.3333333333333333,
              "#9c179e"
             ],
             [
              0.4444444444444444,
              "#bd3786"
             ],
             [
              0.5555555555555556,
              "#d8576b"
             ],
             [
              0.6666666666666666,
              "#ed7953"
             ],
             [
              0.7777777777777778,
              "#fb9f3a"
             ],
             [
              0.8888888888888888,
              "#fdca26"
             ],
             [
              1,
              "#f0f921"
             ]
            ],
            "type": "surface"
           }
          ],
          "table": [
           {
            "cells": {
             "fill": {
              "color": "#EBF0F8"
             },
             "line": {
              "color": "white"
             }
            },
            "header": {
             "fill": {
              "color": "#C8D4E3"
             },
             "line": {
              "color": "white"
             }
            },
            "type": "table"
           }
          ]
         },
         "layout": {
          "annotationdefaults": {
           "arrowcolor": "#2a3f5f",
           "arrowhead": 0,
           "arrowwidth": 1
          },
          "autotypenumbers": "strict",
          "coloraxis": {
           "colorbar": {
            "outlinewidth": 0,
            "ticks": ""
           }
          },
          "colorscale": {
           "diverging": [
            [
             0,
             "#8e0152"
            ],
            [
             0.1,
             "#c51b7d"
            ],
            [
             0.2,
             "#de77ae"
            ],
            [
             0.3,
             "#f1b6da"
            ],
            [
             0.4,
             "#fde0ef"
            ],
            [
             0.5,
             "#f7f7f7"
            ],
            [
             0.6,
             "#e6f5d0"
            ],
            [
             0.7,
             "#b8e186"
            ],
            [
             0.8,
             "#7fbc41"
            ],
            [
             0.9,
             "#4d9221"
            ],
            [
             1,
             "#276419"
            ]
           ],
           "sequential": [
            [
             0,
             "#0d0887"
            ],
            [
             0.1111111111111111,
             "#46039f"
            ],
            [
             0.2222222222222222,
             "#7201a8"
            ],
            [
             0.3333333333333333,
             "#9c179e"
            ],
            [
             0.4444444444444444,
             "#bd3786"
            ],
            [
             0.5555555555555556,
             "#d8576b"
            ],
            [
             0.6666666666666666,
             "#ed7953"
            ],
            [
             0.7777777777777778,
             "#fb9f3a"
            ],
            [
             0.8888888888888888,
             "#fdca26"
            ],
            [
             1,
             "#f0f921"
            ]
           ],
           "sequentialminus": [
            [
             0,
             "#0d0887"
            ],
            [
             0.1111111111111111,
             "#46039f"
            ],
            [
             0.2222222222222222,
             "#7201a8"
            ],
            [
             0.3333333333333333,
             "#9c179e"
            ],
            [
             0.4444444444444444,
             "#bd3786"
            ],
            [
             0.5555555555555556,
             "#d8576b"
            ],
            [
             0.6666666666666666,
             "#ed7953"
            ],
            [
             0.7777777777777778,
             "#fb9f3a"
            ],
            [
             0.8888888888888888,
             "#fdca26"
            ],
            [
             1,
             "#f0f921"
            ]
           ]
          },
          "colorway": [
           "#636efa",
           "#EF553B",
           "#00cc96",
           "#ab63fa",
           "#FFA15A",
           "#19d3f3",
           "#FF6692",
           "#B6E880",
           "#FF97FF",
           "#FECB52"
          ],
          "font": {
           "color": "#2a3f5f"
          },
          "geo": {
           "bgcolor": "white",
           "lakecolor": "white",
           "landcolor": "#E5ECF6",
           "showlakes": true,
           "showland": true,
           "subunitcolor": "white"
          },
          "hoverlabel": {
           "align": "left"
          },
          "hovermode": "closest",
          "mapbox": {
           "style": "light"
          },
          "paper_bgcolor": "white",
          "plot_bgcolor": "#E5ECF6",
          "polar": {
           "angularaxis": {
            "gridcolor": "white",
            "linecolor": "white",
            "ticks": ""
           },
           "bgcolor": "#E5ECF6",
           "radialaxis": {
            "gridcolor": "white",
            "linecolor": "white",
            "ticks": ""
           }
          },
          "scene": {
           "xaxis": {
            "backgroundcolor": "#E5ECF6",
            "gridcolor": "white",
            "gridwidth": 2,
            "linecolor": "white",
            "showbackground": true,
            "ticks": "",
            "zerolinecolor": "white"
           },
           "yaxis": {
            "backgroundcolor": "#E5ECF6",
            "gridcolor": "white",
            "gridwidth": 2,
            "linecolor": "white",
            "showbackground": true,
            "ticks": "",
            "zerolinecolor": "white"
           },
           "zaxis": {
            "backgroundcolor": "#E5ECF6",
            "gridcolor": "white",
            "gridwidth": 2,
            "linecolor": "white",
            "showbackground": true,
            "ticks": "",
            "zerolinecolor": "white"
           }
          },
          "shapedefaults": {
           "line": {
            "color": "#2a3f5f"
           }
          },
          "ternary": {
           "aaxis": {
            "gridcolor": "white",
            "linecolor": "white",
            "ticks": ""
           },
           "baxis": {
            "gridcolor": "white",
            "linecolor": "white",
            "ticks": ""
           },
           "bgcolor": "#E5ECF6",
           "caxis": {
            "gridcolor": "white",
            "linecolor": "white",
            "ticks": ""
           }
          },
          "title": {
           "x": 0.05
          },
          "xaxis": {
           "automargin": true,
           "gridcolor": "white",
           "linecolor": "white",
           "ticks": "",
           "title": {
            "standoff": 15
           },
           "zerolinecolor": "white",
           "zerolinewidth": 2
          },
          "yaxis": {
           "automargin": true,
           "gridcolor": "white",
           "linecolor": "white",
           "ticks": "",
           "title": {
            "standoff": 15
           },
           "zerolinecolor": "white",
           "zerolinewidth": 2
          }
         }
        },
        "title": {
         "text": "Mean price and numbers of townhouses for the first 20 neighbourhoods order by numbers of townhouses"
        },
        "xaxis": {
         "anchor": "y",
         "domain": [
          0,
          0.42
         ],
         "showgrid": true,
         "showline": false,
         "showticklabels": true,
         "zeroline": false
        },
        "xaxis2": {
         "anchor": "y2",
         "domain": [
          0.47,
          1
         ],
         "showgrid": true,
         "showline": false,
         "showticklabels": true,
         "side": "top",
         "zeroline": false
        },
        "yaxis": {
         "anchor": "x",
         "domain": [
          0,
          0.9
         ],
         "showgrid": false,
         "showline": false,
         "showticklabels": true
        },
        "yaxis2": {
         "anchor": "x2",
         "domain": [
          0,
          0.9
         ],
         "showgrid": false,
         "showline": false,
         "showticklabels": false
        }
       }
      },
      "text/html": [
       "<div>                            <div id=\"fd2099f7-fb36-4aa4-99a3-f049eaaac44f\" class=\"plotly-graph-div\" style=\"height:525px; width:100%;\"></div>            <script type=\"text/javascript\">                require([\"plotly\"], function(Plotly) {                    window.PLOTLYENV=window.PLOTLYENV || {};                                    if (document.getElementById(\"fd2099f7-fb36-4aa4-99a3-f049eaaac44f\")) {                    Plotly.newPlot(                        \"fd2099f7-fb36-4aa4-99a3-f049eaaac44f\",                        [{\"marker\":{\"color\":\"rgba(50, 171, 96, 0.6)\",\"line\":{\"color\":\"rgba(50, 171, 96, 1.0)\",\"width\":1}},\"name\":\"Mean price\",\"orientation\":\"h\",\"x\":[2677537.6,859379.8,1847166.6666666667,1645816.6666666667,1218833.3333333333,3016800.0,1884333.3333333333,3432666.6666666665,1449526.857142857,874400.0,1970862.375,3727098.5,1551725.0,1469473.5,1301422.111111111,1062954.0,1896499.8,1302899.9090909092,1784618.0909090908,1273557.3333333333],\"y\":[\"York University Heights\",\"Hillcrest Village\",\"Humewood-Cedarvale\",\"Ionview\",\"Islington-City Centre West\",\"Keelesdale-Eglinton West\",\"Forest Hill South\",\"Eglinton East\",\"Edenbridge-Humber Valley\",\"Milliken\",\"Mount Pleasant West\",\"Dorset Park\",\"New Toronto\",\"North Riverdale\",\"Humbermede\",\"North St. James Town\",\"Danforth Village\",\"Humberlea-Pelmo Park W5\",\"Alderwood\",\"Woburn\",\"Willowridge-Martingrove-Richview\",\"St. Andrew-Windfields\",\"Bayview Village\",\"Brookhaven-Amesbury\",\"Weston\",\"Briar Hill-Belgravia\",\"Westminster-Branson\",\"Pleasant View\",\"Kensington-Chinatown\",\"Leaside\",\"Mount Pleasant East\",\"Rustic\",\"Rouge E10\",\"Rockcliffe-Smythe\",\"Playter Estates-Danforth\",\"Stonegate-Queensway\",\"Agincourt North\",\"High Park-Swansea\",\"Bendale\",\"Blake-Jones\",\"Caledonia-Fairbank\",\"Casa Loma\",\"Don Valley Village\",\"Lawrence Park North\",\"East York\",\"Humber Summit\",\"South Parkdale\",\"Danforth Village-East York\",\"L'Amoreaux\",\"High Park North\",\"Weston-Pellam Park\",\"Glenfield-Jane Heights\",\"Bathurst Manor\",\"Long Branch\",\"Yonge-Eglinton\",\"Lawrence Park South\",\"Willowdale East\",\"Victoria Village\",\"Niagara\",\"Wychwood\",\"Danforth\",\"Broadview North\",\"Parkwoods-Donalda\",\"Junction Area\",\"Church-Yonge Corridor\",\"Clairlea-Birchmount\",\"University\",\"Runnymede-Bloor West Village\",\"Yonge-St. Clair\",\"Roncesvalles\",\"East End-Danforth\",\"Rouge E11\",\"Mimico\",\"The Beaches\",\"Greenwood-Coxwell\",\"Cabbagetown-South St. James Town\",\"Palmerston-Little Italy\",\"Rosedale-Moore Park\",\"Dufferin Grove\",\"Malvern\",\"Moss Park\",\"Annex\",\"Woodbine Corridor\",\"Oakwood-Vaughan\",\"Dovercourt-Wallace Emerson-Junction\",\"Downsview-Roding-CFB\",\"Trinity-Bellwoods\",\"South Riverdale\",\"Little Portugal\",\"Corso Italia-Davenport\"],\"type\":\"bar\",\"xaxis\":\"x\",\"yaxis\":\"y\"},{\"marker\":{\"color\":\"rgb(128, 0, 128)\",\"line\":{\"color\":\"rgb(128, 0, 128)\",\"width\":1}},\"name\":\"Number of townhouses\",\"orientation\":\"h\",\"x\":[5,5,6,6,6,6,6,6,7,7,8,8,8,8,9,9,10,11,11,12],\"y\":[\"York University Heights\",\"Hillcrest Village\",\"Humewood-Cedarvale\",\"Ionview\",\"Islington-City Centre West\",\"Keelesdale-Eglinton West\",\"Forest Hill South\",\"Eglinton East\",\"Edenbridge-Humber Valley\",\"Milliken\",\"Mount Pleasant West\",\"Dorset Park\",\"New Toronto\",\"North Riverdale\",\"Humbermede\",\"North St. James Town\",\"Danforth Village\",\"Humberlea-Pelmo Park W5\",\"Alderwood\",\"Woburn\",\"Willowridge-Martingrove-Richview\",\"St. Andrew-Windfields\",\"Bayview Village\",\"Brookhaven-Amesbury\",\"Weston\",\"Briar Hill-Belgravia\",\"Westminster-Branson\",\"Pleasant View\",\"Kensington-Chinatown\",\"Leaside\",\"Mount Pleasant East\",\"Rustic\",\"Rouge E10\",\"Rockcliffe-Smythe\",\"Playter Estates-Danforth\",\"Stonegate-Queensway\",\"Agincourt North\",\"High Park-Swansea\",\"Bendale\",\"Blake-Jones\",\"Caledonia-Fairbank\",\"Casa Loma\",\"Don Valley Village\",\"Lawrence Park North\",\"East York\",\"Humber Summit\",\"South Parkdale\",\"Danforth Village-East York\",\"L'Amoreaux\",\"High Park North\",\"Weston-Pellam Park\",\"Glenfield-Jane Heights\",\"Bathurst Manor\",\"Long Branch\",\"Yonge-Eglinton\",\"Lawrence Park South\",\"Willowdale East\",\"Victoria Village\",\"Niagara\",\"Wychwood\",\"Danforth\",\"Broadview North\",\"Parkwoods-Donalda\",\"Junction Area\",\"Church-Yonge Corridor\",\"Clairlea-Birchmount\",\"University\",\"Runnymede-Bloor West Village\",\"Yonge-St. Clair\",\"Roncesvalles\",\"East End-Danforth\",\"Rouge E11\",\"Mimico\",\"The Beaches\",\"Greenwood-Coxwell\",\"Cabbagetown-South St. James Town\",\"Palmerston-Little Italy\",\"Rosedale-Moore Park\",\"Dufferin Grove\",\"Malvern\",\"Moss Park\",\"Annex\",\"Woodbine Corridor\",\"Oakwood-Vaughan\",\"Dovercourt-Wallace Emerson-Junction\",\"Downsview-Roding-CFB\",\"Trinity-Bellwoods\",\"South Riverdale\",\"Little Portugal\",\"Corso Italia-Davenport\"],\"type\":\"bar\",\"xaxis\":\"x2\",\"yaxis\":\"y2\"}],                        {\"template\":{\"data\":{\"bar\":[{\"error_x\":{\"color\":\"#2a3f5f\"},\"error_y\":{\"color\":\"#2a3f5f\"},\"marker\":{\"line\":{\"color\":\"#E5ECF6\",\"width\":0.5},\"pattern\":{\"fillmode\":\"overlay\",\"size\":10,\"solidity\":0.2}},\"type\":\"bar\"}],\"barpolar\":[{\"marker\":{\"line\":{\"color\":\"#E5ECF6\",\"width\":0.5},\"pattern\":{\"fillmode\":\"overlay\",\"size\":10,\"solidity\":0.2}},\"type\":\"barpolar\"}],\"carpet\":[{\"aaxis\":{\"endlinecolor\":\"#2a3f5f\",\"gridcolor\":\"white\",\"linecolor\":\"white\",\"minorgridcolor\":\"white\",\"startlinecolor\":\"#2a3f5f\"},\"baxis\":{\"endlinecolor\":\"#2a3f5f\",\"gridcolor\":\"white\",\"linecolor\":\"white\",\"minorgridcolor\":\"white\",\"startlinecolor\":\"#2a3f5f\"},\"type\":\"carpet\"}],\"choropleth\":[{\"colorbar\":{\"outlinewidth\":0,\"ticks\":\"\"},\"type\":\"choropleth\"}],\"contour\":[{\"colorbar\":{\"outlinewidth\":0,\"ticks\":\"\"},\"colorscale\":[[0.0,\"#0d0887\"],[0.1111111111111111,\"#46039f\"],[0.2222222222222222,\"#7201a8\"],[0.3333333333333333,\"#9c179e\"],[0.4444444444444444,\"#bd3786\"],[0.5555555555555556,\"#d8576b\"],[0.6666666666666666,\"#ed7953\"],[0.7777777777777778,\"#fb9f3a\"],[0.8888888888888888,\"#fdca26\"],[1.0,\"#f0f921\"]],\"type\":\"contour\"}],\"contourcarpet\":[{\"colorbar\":{\"outlinewidth\":0,\"ticks\":\"\"},\"type\":\"contourcarpet\"}],\"heatmap\":[{\"colorbar\":{\"outlinewidth\":0,\"ticks\":\"\"},\"colorscale\":[[0.0,\"#0d0887\"],[0.1111111111111111,\"#46039f\"],[0.2222222222222222,\"#7201a8\"],[0.3333333333333333,\"#9c179e\"],[0.4444444444444444,\"#bd3786\"],[0.5555555555555556,\"#d8576b\"],[0.6666666666666666,\"#ed7953\"],[0.7777777777777778,\"#fb9f3a\"],[0.8888888888888888,\"#fdca26\"],[1.0,\"#f0f921\"]],\"type\":\"heatmap\"}],\"heatmapgl\":[{\"colorbar\":{\"outlinewidth\":0,\"ticks\":\"\"},\"colorscale\":[[0.0,\"#0d0887\"],[0.1111111111111111,\"#46039f\"],[0.2222222222222222,\"#7201a8\"],[0.3333333333333333,\"#9c179e\"],[0.4444444444444444,\"#bd3786\"],[0.5555555555555556,\"#d8576b\"],[0.6666666666666666,\"#ed7953\"],[0.7777777777777778,\"#fb9f3a\"],[0.8888888888888888,\"#fdca26\"],[1.0,\"#f0f921\"]],\"type\":\"heatmapgl\"}],\"histogram\":[{\"marker\":{\"pattern\":{\"fillmode\":\"overlay\",\"size\":10,\"solidity\":0.2}},\"type\":\"histogram\"}],\"histogram2d\":[{\"colorbar\":{\"outlinewidth\":0,\"ticks\":\"\"},\"colorscale\":[[0.0,\"#0d0887\"],[0.1111111111111111,\"#46039f\"],[0.2222222222222222,\"#7201a8\"],[0.3333333333333333,\"#9c179e\"],[0.4444444444444444,\"#bd3786\"],[0.5555555555555556,\"#d8576b\"],[0.6666666666666666,\"#ed7953\"],[0.7777777777777778,\"#fb9f3a\"],[0.8888888888888888,\"#fdca26\"],[1.0,\"#f0f921\"]],\"type\":\"histogram2d\"}],\"histogram2dcontour\":[{\"colorbar\":{\"outlinewidth\":0,\"ticks\":\"\"},\"colorscale\":[[0.0,\"#0d0887\"],[0.1111111111111111,\"#46039f\"],[0.2222222222222222,\"#7201a8\"],[0.3333333333333333,\"#9c179e\"],[0.4444444444444444,\"#bd3786\"],[0.5555555555555556,\"#d8576b\"],[0.6666666666666666,\"#ed7953\"],[0.7777777777777778,\"#fb9f3a\"],[0.8888888888888888,\"#fdca26\"],[1.0,\"#f0f921\"]],\"type\":\"histogram2dcontour\"}],\"mesh3d\":[{\"colorbar\":{\"outlinewidth\":0,\"ticks\":\"\"},\"type\":\"mesh3d\"}],\"parcoords\":[{\"line\":{\"colorbar\":{\"outlinewidth\":0,\"ticks\":\"\"}},\"type\":\"parcoords\"}],\"pie\":[{\"automargin\":true,\"type\":\"pie\"}],\"scatter\":[{\"marker\":{\"colorbar\":{\"outlinewidth\":0,\"ticks\":\"\"}},\"type\":\"scatter\"}],\"scatter3d\":[{\"line\":{\"colorbar\":{\"outlinewidth\":0,\"ticks\":\"\"}},\"marker\":{\"colorbar\":{\"outlinewidth\":0,\"ticks\":\"\"}},\"type\":\"scatter3d\"}],\"scattercarpet\":[{\"marker\":{\"colorbar\":{\"outlinewidth\":0,\"ticks\":\"\"}},\"type\":\"scattercarpet\"}],\"scattergeo\":[{\"marker\":{\"colorbar\":{\"outlinewidth\":0,\"ticks\":\"\"}},\"type\":\"scattergeo\"}],\"scattergl\":[{\"marker\":{\"colorbar\":{\"outlinewidth\":0,\"ticks\":\"\"}},\"type\":\"scattergl\"}],\"scattermapbox\":[{\"marker\":{\"colorbar\":{\"outlinewidth\":0,\"ticks\":\"\"}},\"type\":\"scattermapbox\"}],\"scatterpolar\":[{\"marker\":{\"colorbar\":{\"outlinewidth\":0,\"ticks\":\"\"}},\"type\":\"scatterpolar\"}],\"scatterpolargl\":[{\"marker\":{\"colorbar\":{\"outlinewidth\":0,\"ticks\":\"\"}},\"type\":\"scatterpolargl\"}],\"scatterternary\":[{\"marker\":{\"colorbar\":{\"outlinewidth\":0,\"ticks\":\"\"}},\"type\":\"scatterternary\"}],\"surface\":[{\"colorbar\":{\"outlinewidth\":0,\"ticks\":\"\"},\"colorscale\":[[0.0,\"#0d0887\"],[0.1111111111111111,\"#46039f\"],[0.2222222222222222,\"#7201a8\"],[0.3333333333333333,\"#9c179e\"],[0.4444444444444444,\"#bd3786\"],[0.5555555555555556,\"#d8576b\"],[0.6666666666666666,\"#ed7953\"],[0.7777777777777778,\"#fb9f3a\"],[0.8888888888888888,\"#fdca26\"],[1.0,\"#f0f921\"]],\"type\":\"surface\"}],\"table\":[{\"cells\":{\"fill\":{\"color\":\"#EBF0F8\"},\"line\":{\"color\":\"white\"}},\"header\":{\"fill\":{\"color\":\"#C8D4E3\"},\"line\":{\"color\":\"white\"}},\"type\":\"table\"}]},\"layout\":{\"annotationdefaults\":{\"arrowcolor\":\"#2a3f5f\",\"arrowhead\":0,\"arrowwidth\":1},\"autotypenumbers\":\"strict\",\"coloraxis\":{\"colorbar\":{\"outlinewidth\":0,\"ticks\":\"\"}},\"colorscale\":{\"diverging\":[[0,\"#8e0152\"],[0.1,\"#c51b7d\"],[0.2,\"#de77ae\"],[0.3,\"#f1b6da\"],[0.4,\"#fde0ef\"],[0.5,\"#f7f7f7\"],[0.6,\"#e6f5d0\"],[0.7,\"#b8e186\"],[0.8,\"#7fbc41\"],[0.9,\"#4d9221\"],[1,\"#276419\"]],\"sequential\":[[0.0,\"#0d0887\"],[0.1111111111111111,\"#46039f\"],[0.2222222222222222,\"#7201a8\"],[0.3333333333333333,\"#9c179e\"],[0.4444444444444444,\"#bd3786\"],[0.5555555555555556,\"#d8576b\"],[0.6666666666666666,\"#ed7953\"],[0.7777777777777778,\"#fb9f3a\"],[0.8888888888888888,\"#fdca26\"],[1.0,\"#f0f921\"]],\"sequentialminus\":[[0.0,\"#0d0887\"],[0.1111111111111111,\"#46039f\"],[0.2222222222222222,\"#7201a8\"],[0.3333333333333333,\"#9c179e\"],[0.4444444444444444,\"#bd3786\"],[0.5555555555555556,\"#d8576b\"],[0.6666666666666666,\"#ed7953\"],[0.7777777777777778,\"#fb9f3a\"],[0.8888888888888888,\"#fdca26\"],[1.0,\"#f0f921\"]]},\"colorway\":[\"#636efa\",\"#EF553B\",\"#00cc96\",\"#ab63fa\",\"#FFA15A\",\"#19d3f3\",\"#FF6692\",\"#B6E880\",\"#FF97FF\",\"#FECB52\"],\"font\":{\"color\":\"#2a3f5f\"},\"geo\":{\"bgcolor\":\"white\",\"lakecolor\":\"white\",\"landcolor\":\"#E5ECF6\",\"showlakes\":true,\"showland\":true,\"subunitcolor\":\"white\"},\"hoverlabel\":{\"align\":\"left\"},\"hovermode\":\"closest\",\"mapbox\":{\"style\":\"light\"},\"paper_bgcolor\":\"white\",\"plot_bgcolor\":\"#E5ECF6\",\"polar\":{\"angularaxis\":{\"gridcolor\":\"white\",\"linecolor\":\"white\",\"ticks\":\"\"},\"bgcolor\":\"#E5ECF6\",\"radialaxis\":{\"gridcolor\":\"white\",\"linecolor\":\"white\",\"ticks\":\"\"}},\"scene\":{\"xaxis\":{\"backgroundcolor\":\"#E5ECF6\",\"gridcolor\":\"white\",\"gridwidth\":2,\"linecolor\":\"white\",\"showbackground\":true,\"ticks\":\"\",\"zerolinecolor\":\"white\"},\"yaxis\":{\"backgroundcolor\":\"#E5ECF6\",\"gridcolor\":\"white\",\"gridwidth\":2,\"linecolor\":\"white\",\"showbackground\":true,\"ticks\":\"\",\"zerolinecolor\":\"white\"},\"zaxis\":{\"backgroundcolor\":\"#E5ECF6\",\"gridcolor\":\"white\",\"gridwidth\":2,\"linecolor\":\"white\",\"showbackground\":true,\"ticks\":\"\",\"zerolinecolor\":\"white\"}},\"shapedefaults\":{\"line\":{\"color\":\"#2a3f5f\"}},\"ternary\":{\"aaxis\":{\"gridcolor\":\"white\",\"linecolor\":\"white\",\"ticks\":\"\"},\"baxis\":{\"gridcolor\":\"white\",\"linecolor\":\"white\",\"ticks\":\"\"},\"bgcolor\":\"#E5ECF6\",\"caxis\":{\"gridcolor\":\"white\",\"linecolor\":\"white\",\"ticks\":\"\"}},\"title\":{\"x\":0.05},\"xaxis\":{\"automargin\":true,\"gridcolor\":\"white\",\"linecolor\":\"white\",\"ticks\":\"\",\"title\":{\"standoff\":15},\"zerolinecolor\":\"white\",\"zerolinewidth\":2},\"yaxis\":{\"automargin\":true,\"gridcolor\":\"white\",\"linecolor\":\"white\",\"ticks\":\"\",\"title\":{\"standoff\":15},\"zerolinecolor\":\"white\",\"zerolinewidth\":2}}},\"xaxis\":{\"anchor\":\"y\",\"domain\":[0,0.42],\"zeroline\":false,\"showline\":false,\"showticklabels\":true,\"showgrid\":true},\"yaxis\":{\"anchor\":\"x\",\"domain\":[0,0.9],\"showgrid\":false,\"showline\":false,\"showticklabels\":true},\"xaxis2\":{\"anchor\":\"y2\",\"domain\":[0.47,1],\"zeroline\":false,\"showline\":false,\"showticklabels\":true,\"showgrid\":true,\"side\":\"top\"},\"yaxis2\":{\"anchor\":\"x2\",\"domain\":[0,0.9],\"showgrid\":false,\"showline\":false,\"showticklabels\":false},\"legend\":{\"font\":{\"size\":10},\"x\":0.029,\"y\":1.038},\"margin\":{\"l\":100,\"r\":20,\"t\":70,\"b\":70},\"title\":{\"text\":\"Mean price and numbers of townhouses for the first 20 neighbourhoods order by numbers of townhouses\"},\"paper_bgcolor\":\"rgb(248, 248, 255)\",\"plot_bgcolor\":\"rgb(248, 248, 255)\"},                        {\"responsive\": true}                    ).then(function(){\n",
       "                            \n",
       "var gd = document.getElementById('fd2099f7-fb36-4aa4-99a3-f049eaaac44f');\n",
       "var x = new MutationObserver(function (mutations, observer) {{\n",
       "        var display = window.getComputedStyle(gd).display;\n",
       "        if (!display || display === 'none') {{\n",
       "            console.log([gd, 'removed!']);\n",
       "            Plotly.purge(gd);\n",
       "            observer.disconnect();\n",
       "        }}\n",
       "}});\n",
       "\n",
       "// Listen for the removal of the full notebook cells\n",
       "var notebookContainer = gd.closest('#notebook-container');\n",
       "if (notebookContainer) {{\n",
       "    x.observe(notebookContainer, {childList: true});\n",
       "}}\n",
       "\n",
       "// Listen for the clearing of the current output cell\n",
       "var outputEl = gd.closest('.output');\n",
       "if (outputEl) {{\n",
       "    x.observe(outputEl, {childList: true});\n",
       "}}\n",
       "\n",
       "                        })                };                });            </script>        </div>"
      ]
     },
     "metadata": {},
     "output_type": "display_data"
    }
   ],
   "source": [
    "y_Mean = Nbh_townhouses.sort_values('Count_th').tail(20)['Mean_th']\n",
    "\n",
    "y_Count = Nbh_townhouses.sort_values('Count_th').tail(20)['Count_th']\n",
    "\n",
    "x = Nbh_townhouses.sort_values('Count_th').index\n",
    "\n",
    "\n",
    "# Creating two subplots\n",
    "fig = make_subplots(rows=1, cols=2, specs=[[{}, {}]], shared_xaxes=True,\n",
    "                    shared_yaxes=False, vertical_spacing=0.001)\n",
    "\n",
    "fig.append_trace(go.Bar(\n",
    "    x=y_Mean,\n",
    "    y=x,\n",
    "    marker=dict(\n",
    "        color='rgba(50, 171, 96, 0.6)',\n",
    "        line=dict(\n",
    "            color='rgba(50, 171, 96, 1.0)',\n",
    "            width=1),\n",
    "    ),\n",
    "    name='Mean price',\n",
    "    orientation='h',\n",
    "), 1, 1)\n",
    "\n",
    "fig.append_trace(go.Bar(\n",
    "    x=y_Count,\n",
    "    y=x,\n",
    "    marker=dict(\n",
    "        color='rgb(128, 0, 128)',\n",
    "        line=dict(\n",
    "            color='rgb(128, 0, 128)',\n",
    "            width=1),\n",
    "    ),\n",
    "    name='Number of townhouses',\n",
    "    orientation='h',\n",
    "), 1, 2)\n",
    "\n",
    "\n",
    "fig.update_layout(\n",
    "    title='Mean price and numbers of townhouses for the first 20 neighbourhoods order by numbers of townhouses',\n",
    "    yaxis=dict(\n",
    "        showgrid=False,\n",
    "        showline=False,\n",
    "        showticklabels=True,\n",
    "        domain=[0, 0.9],\n",
    "    ),\n",
    "    yaxis2=dict(\n",
    "        showgrid=False,\n",
    "        showline=False,\n",
    "        showticklabels=False,\n",
    "        domain=[0, 0.9],\n",
    "    ),\n",
    "    xaxis=dict(\n",
    "        zeroline=False,\n",
    "        showline=False,\n",
    "        showticklabels=True,\n",
    "        showgrid=True,\n",
    "        domain=[0, 0.42],\n",
    "    ),\n",
    "    xaxis2=dict(\n",
    "        zeroline=False,\n",
    "        showline=False,\n",
    "        showticklabels=True,\n",
    "        showgrid=True,\n",
    "        domain=[0.47, 1],\n",
    "        side='top',\n",
    "    ),\n",
    "    \n",
    "    legend=dict(x=0.029, y=1.038, font_size=10),\n",
    "    margin=dict(l=100, r=20, t=70, b=70),\n",
    "    paper_bgcolor='rgb(248, 248, 255)',\n",
    "    plot_bgcolor='rgb(248, 248, 255)',\n",
    ")\n",
    "\n",
    "\n",
    "fig.update_layout()\n"
   ]
  },
  {
   "cell_type": "code",
   "execution_count": 39,
   "id": "c70fbf19",
   "metadata": {},
   "outputs": [
    {
     "data": {
      "application/vnd.plotly.v1+json": {
       "config": {
        "plotlyServerURL": "https://plot.ly"
       },
       "data": [
        {
         "marker": {
          "color": "rgba(50, 171, 96, 0.6)",
          "line": {
           "color": "rgba(50, 171, 96, 1.0)",
           "width": 1
          }
         },
         "name": "Mean price",
         "orientation": "h",
         "type": "bar",
         "x": [
          4486545.454545454,
          1614254.4545454546,
          5642818.181818182,
          1163222.8333333333,
          2348908.3333333335,
          1435799.923076923,
          1833045.142857143,
          1642000,
          2273973.2666666666,
          1879933.2666666666,
          2579868.75,
          3102764.705882353,
          3500158.117647059,
          1381436.1578947369,
          2025164.35,
          2320842.285714286,
          6407624.5,
          3617902.933333333,
          4940593.575757576,
          3129378
         ],
         "xaxis": "x",
         "y": [
          "Broadview North",
          "Danforth Village",
          "Crescent Town",
          "Forest Hill North",
          "Guildwood",
          "Victoria Village",
          "Church-Yonge Corridor",
          "Henry Farm",
          "Rexdale-Kipling",
          "Regent Park",
          "Cabbagetown-South St. James Town",
          "Dorset Park",
          "Thistletown-Beaumonde Heights",
          "North Riverdale",
          "Yonge-St. Clair",
          "Kensington-Chinatown",
          "Niagara",
          "Black Creek",
          "South Parkdale",
          "Scarborough Village",
          "Mimico",
          "Little Portugal",
          "Roncesvalles",
          "Humewood-Cedarvale",
          "Palmerston-Little Italy",
          "Kennedy Park",
          "Junction Area",
          "Humber Heights",
          "Playter Estates-Danforth",
          "Humber Summit",
          "Pleasant View",
          "York University Heights",
          "Rustic",
          "Moss Park",
          "Blake-Jones",
          "Beechborough-Greenbrook",
          "University",
          "Steeles",
          "Briar Hill-Belgravia",
          "Corso Italia-Davenport",
          "Oakridge",
          "Woodbine Corridor",
          "Weston-Pellam Park",
          "Yonge-Eglinton",
          "Brookhaven-Amesbury",
          "Westminster-Branson",
          "Casa Loma",
          "New Toronto",
          "High Park North",
          "Centennial Scarborough",
          "Greenwood-Coxwell",
          "Long Branch",
          "Malvern",
          "Mount Pleasant West",
          "Don Valley Village",
          "Kingsview Village-The Westway",
          "Annex",
          "Wychwood",
          "Maple Leaf",
          "Markland Wood",
          "Agincourt South-Malvern West",
          "Bayview Woods-Steeles",
          "Dufferin Grove",
          "Keelesdale-Eglinton West",
          "Bendale",
          "Humberlea-Pelmo Park W4",
          "Weston",
          "Clanton Park",
          "Cliffcrest",
          "Etobicoke West Mall",
          "Rouge E10",
          "Runnymede-Bloor West Village",
          "East End-Danforth",
          "Willowridge-Martingrove-Richview",
          "Rockcliffe-Smythe",
          "Mount Olive-Silverstone-Jamestown",
          "Lawrence Park North",
          "Yorkdale-Glen Park",
          "Milliken",
          "Leaside",
          "Humberlea-Pelmo Park W5",
          "Kingsway South",
          "Hillcrest Village",
          "Eglinton East",
          "Morningside",
          "Princess-Rosethorn",
          "High Park-Swansea",
          "Eringate-Centennial-West Deane",
          "Highland Creek",
          "The Beaches",
          "Trinity-Bellwoods",
          "Woodbine-Lumsden",
          "Alderwood",
          "Downsview-Roding-CFB",
          "Mount Pleasant East",
          "South Riverdale",
          "Forest Hill South",
          "L'Amoreaux",
          "Edenbridge-Humber Valley",
          "Clairlea-Birchmount",
          "Agincourt North",
          "Parkwoods-Donalda",
          "Rouge E11",
          "Bathurst Manor",
          "West Hill",
          "O'Connor-Parkview",
          "Caledonia-Fairbank",
          "Dovercourt-Wallace Emerson-Junction",
          "Englemount-Lawrence",
          "West Humber-Clairville",
          "Tam O'Shanter-Sullivan",
          "Lawrence Park South",
          "Danforth Village-East York",
          "Rosedale-Moore Park",
          "Woburn",
          "Lansing-Westgate",
          "Wexford-Maryvale",
          "East York",
          "Oakwood-Vaughan",
          "Islington-City Centre West",
          "Stonegate-Queensway",
          "Willowdale West",
          "Bedford Park-Nortown",
          "Bayview Village",
          "Birchcliffe-Cliffside",
          "Newtonbrook West",
          "Newtonbrook East",
          "Bridle Path-Sunnybrook-York Mills",
          "Banbury-Don Mills",
          "St. Andrew-Windfields",
          "Willowdale East"
         ],
         "yaxis": "y"
        },
        {
         "marker": {
          "color": "rgb(128, 0, 128)",
          "line": {
           "color": "rgb(128, 0, 128)",
           "width": 1
          }
         },
         "name": "Number of houses",
         "orientation": "h",
         "type": "bar",
         "x": [
          11,
          11,
          11,
          12,
          12,
          13,
          14,
          14,
          15,
          15,
          16,
          17,
          17,
          19,
          20,
          21,
          24,
          30,
          33,
          41
         ],
         "xaxis": "x2",
         "y": [
          "Broadview North",
          "Danforth Village",
          "Crescent Town",
          "Forest Hill North",
          "Guildwood",
          "Victoria Village",
          "Church-Yonge Corridor",
          "Henry Farm",
          "Rexdale-Kipling",
          "Regent Park",
          "Cabbagetown-South St. James Town",
          "Dorset Park",
          "Thistletown-Beaumonde Heights",
          "North Riverdale",
          "Yonge-St. Clair",
          "Kensington-Chinatown",
          "Niagara",
          "Black Creek",
          "South Parkdale",
          "Scarborough Village",
          "Mimico",
          "Little Portugal",
          "Roncesvalles",
          "Humewood-Cedarvale",
          "Palmerston-Little Italy",
          "Kennedy Park",
          "Junction Area",
          "Humber Heights",
          "Playter Estates-Danforth",
          "Humber Summit",
          "Pleasant View",
          "York University Heights",
          "Rustic",
          "Moss Park",
          "Blake-Jones",
          "Beechborough-Greenbrook",
          "University",
          "Steeles",
          "Briar Hill-Belgravia",
          "Corso Italia-Davenport",
          "Oakridge",
          "Woodbine Corridor",
          "Weston-Pellam Park",
          "Yonge-Eglinton",
          "Brookhaven-Amesbury",
          "Westminster-Branson",
          "Casa Loma",
          "New Toronto",
          "High Park North",
          "Centennial Scarborough",
          "Greenwood-Coxwell",
          "Long Branch",
          "Malvern",
          "Mount Pleasant West",
          "Don Valley Village",
          "Kingsview Village-The Westway",
          "Annex",
          "Wychwood",
          "Maple Leaf",
          "Markland Wood",
          "Agincourt South-Malvern West",
          "Bayview Woods-Steeles",
          "Dufferin Grove",
          "Keelesdale-Eglinton West",
          "Bendale",
          "Humberlea-Pelmo Park W4",
          "Weston",
          "Clanton Park",
          "Cliffcrest",
          "Etobicoke West Mall",
          "Rouge E10",
          "Runnymede-Bloor West Village",
          "East End-Danforth",
          "Willowridge-Martingrove-Richview",
          "Rockcliffe-Smythe",
          "Mount Olive-Silverstone-Jamestown",
          "Lawrence Park North",
          "Yorkdale-Glen Park",
          "Milliken",
          "Leaside",
          "Humberlea-Pelmo Park W5",
          "Kingsway South",
          "Hillcrest Village",
          "Eglinton East",
          "Morningside",
          "Princess-Rosethorn",
          "High Park-Swansea",
          "Eringate-Centennial-West Deane",
          "Highland Creek",
          "The Beaches",
          "Trinity-Bellwoods",
          "Woodbine-Lumsden",
          "Alderwood",
          "Downsview-Roding-CFB",
          "Mount Pleasant East",
          "South Riverdale",
          "Forest Hill South",
          "L'Amoreaux",
          "Edenbridge-Humber Valley",
          "Clairlea-Birchmount",
          "Agincourt North",
          "Parkwoods-Donalda",
          "Rouge E11",
          "Bathurst Manor",
          "West Hill",
          "O'Connor-Parkview",
          "Caledonia-Fairbank",
          "Dovercourt-Wallace Emerson-Junction",
          "Englemount-Lawrence",
          "West Humber-Clairville",
          "Tam O'Shanter-Sullivan",
          "Lawrence Park South",
          "Danforth Village-East York",
          "Rosedale-Moore Park",
          "Woburn",
          "Lansing-Westgate",
          "Wexford-Maryvale",
          "East York",
          "Oakwood-Vaughan",
          "Islington-City Centre West",
          "Stonegate-Queensway",
          "Willowdale West",
          "Bedford Park-Nortown",
          "Bayview Village",
          "Birchcliffe-Cliffside",
          "Newtonbrook West",
          "Newtonbrook East",
          "Bridle Path-Sunnybrook-York Mills",
          "Banbury-Don Mills",
          "St. Andrew-Windfields",
          "Willowdale East"
         ],
         "yaxis": "y2"
        }
       ],
       "layout": {
        "legend": {
         "font": {
          "size": 10
         },
         "x": 0.029,
         "y": 1.038
        },
        "margin": {
         "b": 70,
         "l": 100,
         "r": 20,
         "t": 70
        },
        "paper_bgcolor": "rgb(248, 248, 255)",
        "plot_bgcolor": "rgb(248, 248, 255)",
        "template": {
         "data": {
          "bar": [
           {
            "error_x": {
             "color": "#2a3f5f"
            },
            "error_y": {
             "color": "#2a3f5f"
            },
            "marker": {
             "line": {
              "color": "#E5ECF6",
              "width": 0.5
             },
             "pattern": {
              "fillmode": "overlay",
              "size": 10,
              "solidity": 0.2
             }
            },
            "type": "bar"
           }
          ],
          "barpolar": [
           {
            "marker": {
             "line": {
              "color": "#E5ECF6",
              "width": 0.5
             },
             "pattern": {
              "fillmode": "overlay",
              "size": 10,
              "solidity": 0.2
             }
            },
            "type": "barpolar"
           }
          ],
          "carpet": [
           {
            "aaxis": {
             "endlinecolor": "#2a3f5f",
             "gridcolor": "white",
             "linecolor": "white",
             "minorgridcolor": "white",
             "startlinecolor": "#2a3f5f"
            },
            "baxis": {
             "endlinecolor": "#2a3f5f",
             "gridcolor": "white",
             "linecolor": "white",
             "minorgridcolor": "white",
             "startlinecolor": "#2a3f5f"
            },
            "type": "carpet"
           }
          ],
          "choropleth": [
           {
            "colorbar": {
             "outlinewidth": 0,
             "ticks": ""
            },
            "type": "choropleth"
           }
          ],
          "contour": [
           {
            "colorbar": {
             "outlinewidth": 0,
             "ticks": ""
            },
            "colorscale": [
             [
              0,
              "#0d0887"
             ],
             [
              0.1111111111111111,
              "#46039f"
             ],
             [
              0.2222222222222222,
              "#7201a8"
             ],
             [
              0.3333333333333333,
              "#9c179e"
             ],
             [
              0.4444444444444444,
              "#bd3786"
             ],
             [
              0.5555555555555556,
              "#d8576b"
             ],
             [
              0.6666666666666666,
              "#ed7953"
             ],
             [
              0.7777777777777778,
              "#fb9f3a"
             ],
             [
              0.8888888888888888,
              "#fdca26"
             ],
             [
              1,
              "#f0f921"
             ]
            ],
            "type": "contour"
           }
          ],
          "contourcarpet": [
           {
            "colorbar": {
             "outlinewidth": 0,
             "ticks": ""
            },
            "type": "contourcarpet"
           }
          ],
          "heatmap": [
           {
            "colorbar": {
             "outlinewidth": 0,
             "ticks": ""
            },
            "colorscale": [
             [
              0,
              "#0d0887"
             ],
             [
              0.1111111111111111,
              "#46039f"
             ],
             [
              0.2222222222222222,
              "#7201a8"
             ],
             [
              0.3333333333333333,
              "#9c179e"
             ],
             [
              0.4444444444444444,
              "#bd3786"
             ],
             [
              0.5555555555555556,
              "#d8576b"
             ],
             [
              0.6666666666666666,
              "#ed7953"
             ],
             [
              0.7777777777777778,
              "#fb9f3a"
             ],
             [
              0.8888888888888888,
              "#fdca26"
             ],
             [
              1,
              "#f0f921"
             ]
            ],
            "type": "heatmap"
           }
          ],
          "heatmapgl": [
           {
            "colorbar": {
             "outlinewidth": 0,
             "ticks": ""
            },
            "colorscale": [
             [
              0,
              "#0d0887"
             ],
             [
              0.1111111111111111,
              "#46039f"
             ],
             [
              0.2222222222222222,
              "#7201a8"
             ],
             [
              0.3333333333333333,
              "#9c179e"
             ],
             [
              0.4444444444444444,
              "#bd3786"
             ],
             [
              0.5555555555555556,
              "#d8576b"
             ],
             [
              0.6666666666666666,
              "#ed7953"
             ],
             [
              0.7777777777777778,
              "#fb9f3a"
             ],
             [
              0.8888888888888888,
              "#fdca26"
             ],
             [
              1,
              "#f0f921"
             ]
            ],
            "type": "heatmapgl"
           }
          ],
          "histogram": [
           {
            "marker": {
             "pattern": {
              "fillmode": "overlay",
              "size": 10,
              "solidity": 0.2
             }
            },
            "type": "histogram"
           }
          ],
          "histogram2d": [
           {
            "colorbar": {
             "outlinewidth": 0,
             "ticks": ""
            },
            "colorscale": [
             [
              0,
              "#0d0887"
             ],
             [
              0.1111111111111111,
              "#46039f"
             ],
             [
              0.2222222222222222,
              "#7201a8"
             ],
             [
              0.3333333333333333,
              "#9c179e"
             ],
             [
              0.4444444444444444,
              "#bd3786"
             ],
             [
              0.5555555555555556,
              "#d8576b"
             ],
             [
              0.6666666666666666,
              "#ed7953"
             ],
             [
              0.7777777777777778,
              "#fb9f3a"
             ],
             [
              0.8888888888888888,
              "#fdca26"
             ],
             [
              1,
              "#f0f921"
             ]
            ],
            "type": "histogram2d"
           }
          ],
          "histogram2dcontour": [
           {
            "colorbar": {
             "outlinewidth": 0,
             "ticks": ""
            },
            "colorscale": [
             [
              0,
              "#0d0887"
             ],
             [
              0.1111111111111111,
              "#46039f"
             ],
             [
              0.2222222222222222,
              "#7201a8"
             ],
             [
              0.3333333333333333,
              "#9c179e"
             ],
             [
              0.4444444444444444,
              "#bd3786"
             ],
             [
              0.5555555555555556,
              "#d8576b"
             ],
             [
              0.6666666666666666,
              "#ed7953"
             ],
             [
              0.7777777777777778,
              "#fb9f3a"
             ],
             [
              0.8888888888888888,
              "#fdca26"
             ],
             [
              1,
              "#f0f921"
             ]
            ],
            "type": "histogram2dcontour"
           }
          ],
          "mesh3d": [
           {
            "colorbar": {
             "outlinewidth": 0,
             "ticks": ""
            },
            "type": "mesh3d"
           }
          ],
          "parcoords": [
           {
            "line": {
             "colorbar": {
              "outlinewidth": 0,
              "ticks": ""
             }
            },
            "type": "parcoords"
           }
          ],
          "pie": [
           {
            "automargin": true,
            "type": "pie"
           }
          ],
          "scatter": [
           {
            "marker": {
             "colorbar": {
              "outlinewidth": 0,
              "ticks": ""
             }
            },
            "type": "scatter"
           }
          ],
          "scatter3d": [
           {
            "line": {
             "colorbar": {
              "outlinewidth": 0,
              "ticks": ""
             }
            },
            "marker": {
             "colorbar": {
              "outlinewidth": 0,
              "ticks": ""
             }
            },
            "type": "scatter3d"
           }
          ],
          "scattercarpet": [
           {
            "marker": {
             "colorbar": {
              "outlinewidth": 0,
              "ticks": ""
             }
            },
            "type": "scattercarpet"
           }
          ],
          "scattergeo": [
           {
            "marker": {
             "colorbar": {
              "outlinewidth": 0,
              "ticks": ""
             }
            },
            "type": "scattergeo"
           }
          ],
          "scattergl": [
           {
            "marker": {
             "colorbar": {
              "outlinewidth": 0,
              "ticks": ""
             }
            },
            "type": "scattergl"
           }
          ],
          "scattermapbox": [
           {
            "marker": {
             "colorbar": {
              "outlinewidth": 0,
              "ticks": ""
             }
            },
            "type": "scattermapbox"
           }
          ],
          "scatterpolar": [
           {
            "marker": {
             "colorbar": {
              "outlinewidth": 0,
              "ticks": ""
             }
            },
            "type": "scatterpolar"
           }
          ],
          "scatterpolargl": [
           {
            "marker": {
             "colorbar": {
              "outlinewidth": 0,
              "ticks": ""
             }
            },
            "type": "scatterpolargl"
           }
          ],
          "scatterternary": [
           {
            "marker": {
             "colorbar": {
              "outlinewidth": 0,
              "ticks": ""
             }
            },
            "type": "scatterternary"
           }
          ],
          "surface": [
           {
            "colorbar": {
             "outlinewidth": 0,
             "ticks": ""
            },
            "colorscale": [
             [
              0,
              "#0d0887"
             ],
             [
              0.1111111111111111,
              "#46039f"
             ],
             [
              0.2222222222222222,
              "#7201a8"
             ],
             [
              0.3333333333333333,
              "#9c179e"
             ],
             [
              0.4444444444444444,
              "#bd3786"
             ],
             [
              0.5555555555555556,
              "#d8576b"
             ],
             [
              0.6666666666666666,
              "#ed7953"
             ],
             [
              0.7777777777777778,
              "#fb9f3a"
             ],
             [
              0.8888888888888888,
              "#fdca26"
             ],
             [
              1,
              "#f0f921"
             ]
            ],
            "type": "surface"
           }
          ],
          "table": [
           {
            "cells": {
             "fill": {
              "color": "#EBF0F8"
             },
             "line": {
              "color": "white"
             }
            },
            "header": {
             "fill": {
              "color": "#C8D4E3"
             },
             "line": {
              "color": "white"
             }
            },
            "type": "table"
           }
          ]
         },
         "layout": {
          "annotationdefaults": {
           "arrowcolor": "#2a3f5f",
           "arrowhead": 0,
           "arrowwidth": 1
          },
          "autotypenumbers": "strict",
          "coloraxis": {
           "colorbar": {
            "outlinewidth": 0,
            "ticks": ""
           }
          },
          "colorscale": {
           "diverging": [
            [
             0,
             "#8e0152"
            ],
            [
             0.1,
             "#c51b7d"
            ],
            [
             0.2,
             "#de77ae"
            ],
            [
             0.3,
             "#f1b6da"
            ],
            [
             0.4,
             "#fde0ef"
            ],
            [
             0.5,
             "#f7f7f7"
            ],
            [
             0.6,
             "#e6f5d0"
            ],
            [
             0.7,
             "#b8e186"
            ],
            [
             0.8,
             "#7fbc41"
            ],
            [
             0.9,
             "#4d9221"
            ],
            [
             1,
             "#276419"
            ]
           ],
           "sequential": [
            [
             0,
             "#0d0887"
            ],
            [
             0.1111111111111111,
             "#46039f"
            ],
            [
             0.2222222222222222,
             "#7201a8"
            ],
            [
             0.3333333333333333,
             "#9c179e"
            ],
            [
             0.4444444444444444,
             "#bd3786"
            ],
            [
             0.5555555555555556,
             "#d8576b"
            ],
            [
             0.6666666666666666,
             "#ed7953"
            ],
            [
             0.7777777777777778,
             "#fb9f3a"
            ],
            [
             0.8888888888888888,
             "#fdca26"
            ],
            [
             1,
             "#f0f921"
            ]
           ],
           "sequentialminus": [
            [
             0,
             "#0d0887"
            ],
            [
             0.1111111111111111,
             "#46039f"
            ],
            [
             0.2222222222222222,
             "#7201a8"
            ],
            [
             0.3333333333333333,
             "#9c179e"
            ],
            [
             0.4444444444444444,
             "#bd3786"
            ],
            [
             0.5555555555555556,
             "#d8576b"
            ],
            [
             0.6666666666666666,
             "#ed7953"
            ],
            [
             0.7777777777777778,
             "#fb9f3a"
            ],
            [
             0.8888888888888888,
             "#fdca26"
            ],
            [
             1,
             "#f0f921"
            ]
           ]
          },
          "colorway": [
           "#636efa",
           "#EF553B",
           "#00cc96",
           "#ab63fa",
           "#FFA15A",
           "#19d3f3",
           "#FF6692",
           "#B6E880",
           "#FF97FF",
           "#FECB52"
          ],
          "font": {
           "color": "#2a3f5f"
          },
          "geo": {
           "bgcolor": "white",
           "lakecolor": "white",
           "landcolor": "#E5ECF6",
           "showlakes": true,
           "showland": true,
           "subunitcolor": "white"
          },
          "hoverlabel": {
           "align": "left"
          },
          "hovermode": "closest",
          "mapbox": {
           "style": "light"
          },
          "paper_bgcolor": "white",
          "plot_bgcolor": "#E5ECF6",
          "polar": {
           "angularaxis": {
            "gridcolor": "white",
            "linecolor": "white",
            "ticks": ""
           },
           "bgcolor": "#E5ECF6",
           "radialaxis": {
            "gridcolor": "white",
            "linecolor": "white",
            "ticks": ""
           }
          },
          "scene": {
           "xaxis": {
            "backgroundcolor": "#E5ECF6",
            "gridcolor": "white",
            "gridwidth": 2,
            "linecolor": "white",
            "showbackground": true,
            "ticks": "",
            "zerolinecolor": "white"
           },
           "yaxis": {
            "backgroundcolor": "#E5ECF6",
            "gridcolor": "white",
            "gridwidth": 2,
            "linecolor": "white",
            "showbackground": true,
            "ticks": "",
            "zerolinecolor": "white"
           },
           "zaxis": {
            "backgroundcolor": "#E5ECF6",
            "gridcolor": "white",
            "gridwidth": 2,
            "linecolor": "white",
            "showbackground": true,
            "ticks": "",
            "zerolinecolor": "white"
           }
          },
          "shapedefaults": {
           "line": {
            "color": "#2a3f5f"
           }
          },
          "ternary": {
           "aaxis": {
            "gridcolor": "white",
            "linecolor": "white",
            "ticks": ""
           },
           "baxis": {
            "gridcolor": "white",
            "linecolor": "white",
            "ticks": ""
           },
           "bgcolor": "#E5ECF6",
           "caxis": {
            "gridcolor": "white",
            "linecolor": "white",
            "ticks": ""
           }
          },
          "title": {
           "x": 0.05
          },
          "xaxis": {
           "automargin": true,
           "gridcolor": "white",
           "linecolor": "white",
           "ticks": "",
           "title": {
            "standoff": 15
           },
           "zerolinecolor": "white",
           "zerolinewidth": 2
          },
          "yaxis": {
           "automargin": true,
           "gridcolor": "white",
           "linecolor": "white",
           "ticks": "",
           "title": {
            "standoff": 15
           },
           "zerolinecolor": "white",
           "zerolinewidth": 2
          }
         }
        },
        "title": {
         "text": "Mean price and numbers of houses for the first 20 neighbourhoods order numbers of houses descending"
        },
        "xaxis": {
         "anchor": "y",
         "domain": [
          0,
          0.42
         ],
         "showgrid": true,
         "showline": false,
         "showticklabels": true,
         "zeroline": false
        },
        "xaxis2": {
         "anchor": "y2",
         "domain": [
          0.47,
          1
         ],
         "showgrid": true,
         "showline": false,
         "showticklabels": true,
         "side": "top",
         "zeroline": false
        },
        "yaxis": {
         "anchor": "x",
         "domain": [
          0,
          0.9
         ],
         "showgrid": false,
         "showline": false,
         "showticklabels": true
        },
        "yaxis2": {
         "anchor": "x2",
         "domain": [
          0,
          0.9
         ],
         "showgrid": false,
         "showline": false,
         "showticklabels": false
        }
       }
      },
      "text/html": [
       "<div>                            <div id=\"708a2c33-2d00-48a6-b859-c7ef875eede9\" class=\"plotly-graph-div\" style=\"height:525px; width:100%;\"></div>            <script type=\"text/javascript\">                require([\"plotly\"], function(Plotly) {                    window.PLOTLYENV=window.PLOTLYENV || {};                                    if (document.getElementById(\"708a2c33-2d00-48a6-b859-c7ef875eede9\")) {                    Plotly.newPlot(                        \"708a2c33-2d00-48a6-b859-c7ef875eede9\",                        [{\"marker\":{\"color\":\"rgba(50, 171, 96, 0.6)\",\"line\":{\"color\":\"rgba(50, 171, 96, 1.0)\",\"width\":1}},\"name\":\"Mean price\",\"orientation\":\"h\",\"x\":[4486545.454545454,1614254.4545454546,5642818.181818182,1163222.8333333333,2348908.3333333335,1435799.923076923,1833045.142857143,1642000.0,2273973.2666666666,1879933.2666666666,2579868.75,3102764.705882353,3500158.117647059,1381436.1578947369,2025164.35,2320842.285714286,6407624.5,3617902.933333333,4940593.575757576,3129378.0],\"y\":[\"Broadview North\",\"Danforth Village\",\"Crescent Town\",\"Forest Hill North\",\"Guildwood\",\"Victoria Village\",\"Church-Yonge Corridor\",\"Henry Farm\",\"Rexdale-Kipling\",\"Regent Park\",\"Cabbagetown-South St. James Town\",\"Dorset Park\",\"Thistletown-Beaumonde Heights\",\"North Riverdale\",\"Yonge-St. Clair\",\"Kensington-Chinatown\",\"Niagara\",\"Black Creek\",\"South Parkdale\",\"Scarborough Village\",\"Mimico\",\"Little Portugal\",\"Roncesvalles\",\"Humewood-Cedarvale\",\"Palmerston-Little Italy\",\"Kennedy Park\",\"Junction Area\",\"Humber Heights\",\"Playter Estates-Danforth\",\"Humber Summit\",\"Pleasant View\",\"York University Heights\",\"Rustic\",\"Moss Park\",\"Blake-Jones\",\"Beechborough-Greenbrook\",\"University\",\"Steeles\",\"Briar Hill-Belgravia\",\"Corso Italia-Davenport\",\"Oakridge\",\"Woodbine Corridor\",\"Weston-Pellam Park\",\"Yonge-Eglinton\",\"Brookhaven-Amesbury\",\"Westminster-Branson\",\"Casa Loma\",\"New Toronto\",\"High Park North\",\"Centennial Scarborough\",\"Greenwood-Coxwell\",\"Long Branch\",\"Malvern\",\"Mount Pleasant West\",\"Don Valley Village\",\"Kingsview Village-The Westway\",\"Annex\",\"Wychwood\",\"Maple Leaf\",\"Markland Wood\",\"Agincourt South-Malvern West\",\"Bayview Woods-Steeles\",\"Dufferin Grove\",\"Keelesdale-Eglinton West\",\"Bendale\",\"Humberlea-Pelmo Park W4\",\"Weston\",\"Clanton Park\",\"Cliffcrest\",\"Etobicoke West Mall\",\"Rouge E10\",\"Runnymede-Bloor West Village\",\"East End-Danforth\",\"Willowridge-Martingrove-Richview\",\"Rockcliffe-Smythe\",\"Mount Olive-Silverstone-Jamestown\",\"Lawrence Park North\",\"Yorkdale-Glen Park\",\"Milliken\",\"Leaside\",\"Humberlea-Pelmo Park W5\",\"Kingsway South\",\"Hillcrest Village\",\"Eglinton East\",\"Morningside\",\"Princess-Rosethorn\",\"High Park-Swansea\",\"Eringate-Centennial-West Deane\",\"Highland Creek\",\"The Beaches\",\"Trinity-Bellwoods\",\"Woodbine-Lumsden\",\"Alderwood\",\"Downsview-Roding-CFB\",\"Mount Pleasant East\",\"South Riverdale\",\"Forest Hill South\",\"L'Amoreaux\",\"Edenbridge-Humber Valley\",\"Clairlea-Birchmount\",\"Agincourt North\",\"Parkwoods-Donalda\",\"Rouge E11\",\"Bathurst Manor\",\"West Hill\",\"O'Connor-Parkview\",\"Caledonia-Fairbank\",\"Dovercourt-Wallace Emerson-Junction\",\"Englemount-Lawrence\",\"West Humber-Clairville\",\"Tam O'Shanter-Sullivan\",\"Lawrence Park South\",\"Danforth Village-East York\",\"Rosedale-Moore Park\",\"Woburn\",\"Lansing-Westgate\",\"Wexford-Maryvale\",\"East York\",\"Oakwood-Vaughan\",\"Islington-City Centre West\",\"Stonegate-Queensway\",\"Willowdale West\",\"Bedford Park-Nortown\",\"Bayview Village\",\"Birchcliffe-Cliffside\",\"Newtonbrook West\",\"Newtonbrook East\",\"Bridle Path-Sunnybrook-York Mills\",\"Banbury-Don Mills\",\"St. Andrew-Windfields\",\"Willowdale East\"],\"type\":\"bar\",\"xaxis\":\"x\",\"yaxis\":\"y\"},{\"marker\":{\"color\":\"rgb(128, 0, 128)\",\"line\":{\"color\":\"rgb(128, 0, 128)\",\"width\":1}},\"name\":\"Number of houses\",\"orientation\":\"h\",\"x\":[11,11,11,12,12,13,14,14,15,15,16,17,17,19,20,21,24,30,33,41],\"y\":[\"Broadview North\",\"Danforth Village\",\"Crescent Town\",\"Forest Hill North\",\"Guildwood\",\"Victoria Village\",\"Church-Yonge Corridor\",\"Henry Farm\",\"Rexdale-Kipling\",\"Regent Park\",\"Cabbagetown-South St. James Town\",\"Dorset Park\",\"Thistletown-Beaumonde Heights\",\"North Riverdale\",\"Yonge-St. Clair\",\"Kensington-Chinatown\",\"Niagara\",\"Black Creek\",\"South Parkdale\",\"Scarborough Village\",\"Mimico\",\"Little Portugal\",\"Roncesvalles\",\"Humewood-Cedarvale\",\"Palmerston-Little Italy\",\"Kennedy Park\",\"Junction Area\",\"Humber Heights\",\"Playter Estates-Danforth\",\"Humber Summit\",\"Pleasant View\",\"York University Heights\",\"Rustic\",\"Moss Park\",\"Blake-Jones\",\"Beechborough-Greenbrook\",\"University\",\"Steeles\",\"Briar Hill-Belgravia\",\"Corso Italia-Davenport\",\"Oakridge\",\"Woodbine Corridor\",\"Weston-Pellam Park\",\"Yonge-Eglinton\",\"Brookhaven-Amesbury\",\"Westminster-Branson\",\"Casa Loma\",\"New Toronto\",\"High Park North\",\"Centennial Scarborough\",\"Greenwood-Coxwell\",\"Long Branch\",\"Malvern\",\"Mount Pleasant West\",\"Don Valley Village\",\"Kingsview Village-The Westway\",\"Annex\",\"Wychwood\",\"Maple Leaf\",\"Markland Wood\",\"Agincourt South-Malvern West\",\"Bayview Woods-Steeles\",\"Dufferin Grove\",\"Keelesdale-Eglinton West\",\"Bendale\",\"Humberlea-Pelmo Park W4\",\"Weston\",\"Clanton Park\",\"Cliffcrest\",\"Etobicoke West Mall\",\"Rouge E10\",\"Runnymede-Bloor West Village\",\"East End-Danforth\",\"Willowridge-Martingrove-Richview\",\"Rockcliffe-Smythe\",\"Mount Olive-Silverstone-Jamestown\",\"Lawrence Park North\",\"Yorkdale-Glen Park\",\"Milliken\",\"Leaside\",\"Humberlea-Pelmo Park W5\",\"Kingsway South\",\"Hillcrest Village\",\"Eglinton East\",\"Morningside\",\"Princess-Rosethorn\",\"High Park-Swansea\",\"Eringate-Centennial-West Deane\",\"Highland Creek\",\"The Beaches\",\"Trinity-Bellwoods\",\"Woodbine-Lumsden\",\"Alderwood\",\"Downsview-Roding-CFB\",\"Mount Pleasant East\",\"South Riverdale\",\"Forest Hill South\",\"L'Amoreaux\",\"Edenbridge-Humber Valley\",\"Clairlea-Birchmount\",\"Agincourt North\",\"Parkwoods-Donalda\",\"Rouge E11\",\"Bathurst Manor\",\"West Hill\",\"O'Connor-Parkview\",\"Caledonia-Fairbank\",\"Dovercourt-Wallace Emerson-Junction\",\"Englemount-Lawrence\",\"West Humber-Clairville\",\"Tam O'Shanter-Sullivan\",\"Lawrence Park South\",\"Danforth Village-East York\",\"Rosedale-Moore Park\",\"Woburn\",\"Lansing-Westgate\",\"Wexford-Maryvale\",\"East York\",\"Oakwood-Vaughan\",\"Islington-City Centre West\",\"Stonegate-Queensway\",\"Willowdale West\",\"Bedford Park-Nortown\",\"Bayview Village\",\"Birchcliffe-Cliffside\",\"Newtonbrook West\",\"Newtonbrook East\",\"Bridle Path-Sunnybrook-York Mills\",\"Banbury-Don Mills\",\"St. Andrew-Windfields\",\"Willowdale East\"],\"type\":\"bar\",\"xaxis\":\"x2\",\"yaxis\":\"y2\"}],                        {\"template\":{\"data\":{\"bar\":[{\"error_x\":{\"color\":\"#2a3f5f\"},\"error_y\":{\"color\":\"#2a3f5f\"},\"marker\":{\"line\":{\"color\":\"#E5ECF6\",\"width\":0.5},\"pattern\":{\"fillmode\":\"overlay\",\"size\":10,\"solidity\":0.2}},\"type\":\"bar\"}],\"barpolar\":[{\"marker\":{\"line\":{\"color\":\"#E5ECF6\",\"width\":0.5},\"pattern\":{\"fillmode\":\"overlay\",\"size\":10,\"solidity\":0.2}},\"type\":\"barpolar\"}],\"carpet\":[{\"aaxis\":{\"endlinecolor\":\"#2a3f5f\",\"gridcolor\":\"white\",\"linecolor\":\"white\",\"minorgridcolor\":\"white\",\"startlinecolor\":\"#2a3f5f\"},\"baxis\":{\"endlinecolor\":\"#2a3f5f\",\"gridcolor\":\"white\",\"linecolor\":\"white\",\"minorgridcolor\":\"white\",\"startlinecolor\":\"#2a3f5f\"},\"type\":\"carpet\"}],\"choropleth\":[{\"colorbar\":{\"outlinewidth\":0,\"ticks\":\"\"},\"type\":\"choropleth\"}],\"contour\":[{\"colorbar\":{\"outlinewidth\":0,\"ticks\":\"\"},\"colorscale\":[[0.0,\"#0d0887\"],[0.1111111111111111,\"#46039f\"],[0.2222222222222222,\"#7201a8\"],[0.3333333333333333,\"#9c179e\"],[0.4444444444444444,\"#bd3786\"],[0.5555555555555556,\"#d8576b\"],[0.6666666666666666,\"#ed7953\"],[0.7777777777777778,\"#fb9f3a\"],[0.8888888888888888,\"#fdca26\"],[1.0,\"#f0f921\"]],\"type\":\"contour\"}],\"contourcarpet\":[{\"colorbar\":{\"outlinewidth\":0,\"ticks\":\"\"},\"type\":\"contourcarpet\"}],\"heatmap\":[{\"colorbar\":{\"outlinewidth\":0,\"ticks\":\"\"},\"colorscale\":[[0.0,\"#0d0887\"],[0.1111111111111111,\"#46039f\"],[0.2222222222222222,\"#7201a8\"],[0.3333333333333333,\"#9c179e\"],[0.4444444444444444,\"#bd3786\"],[0.5555555555555556,\"#d8576b\"],[0.6666666666666666,\"#ed7953\"],[0.7777777777777778,\"#fb9f3a\"],[0.8888888888888888,\"#fdca26\"],[1.0,\"#f0f921\"]],\"type\":\"heatmap\"}],\"heatmapgl\":[{\"colorbar\":{\"outlinewidth\":0,\"ticks\":\"\"},\"colorscale\":[[0.0,\"#0d0887\"],[0.1111111111111111,\"#46039f\"],[0.2222222222222222,\"#7201a8\"],[0.3333333333333333,\"#9c179e\"],[0.4444444444444444,\"#bd3786\"],[0.5555555555555556,\"#d8576b\"],[0.6666666666666666,\"#ed7953\"],[0.7777777777777778,\"#fb9f3a\"],[0.8888888888888888,\"#fdca26\"],[1.0,\"#f0f921\"]],\"type\":\"heatmapgl\"}],\"histogram\":[{\"marker\":{\"pattern\":{\"fillmode\":\"overlay\",\"size\":10,\"solidity\":0.2}},\"type\":\"histogram\"}],\"histogram2d\":[{\"colorbar\":{\"outlinewidth\":0,\"ticks\":\"\"},\"colorscale\":[[0.0,\"#0d0887\"],[0.1111111111111111,\"#46039f\"],[0.2222222222222222,\"#7201a8\"],[0.3333333333333333,\"#9c179e\"],[0.4444444444444444,\"#bd3786\"],[0.5555555555555556,\"#d8576b\"],[0.6666666666666666,\"#ed7953\"],[0.7777777777777778,\"#fb9f3a\"],[0.8888888888888888,\"#fdca26\"],[1.0,\"#f0f921\"]],\"type\":\"histogram2d\"}],\"histogram2dcontour\":[{\"colorbar\":{\"outlinewidth\":0,\"ticks\":\"\"},\"colorscale\":[[0.0,\"#0d0887\"],[0.1111111111111111,\"#46039f\"],[0.2222222222222222,\"#7201a8\"],[0.3333333333333333,\"#9c179e\"],[0.4444444444444444,\"#bd3786\"],[0.5555555555555556,\"#d8576b\"],[0.6666666666666666,\"#ed7953\"],[0.7777777777777778,\"#fb9f3a\"],[0.8888888888888888,\"#fdca26\"],[1.0,\"#f0f921\"]],\"type\":\"histogram2dcontour\"}],\"mesh3d\":[{\"colorbar\":{\"outlinewidth\":0,\"ticks\":\"\"},\"type\":\"mesh3d\"}],\"parcoords\":[{\"line\":{\"colorbar\":{\"outlinewidth\":0,\"ticks\":\"\"}},\"type\":\"parcoords\"}],\"pie\":[{\"automargin\":true,\"type\":\"pie\"}],\"scatter\":[{\"marker\":{\"colorbar\":{\"outlinewidth\":0,\"ticks\":\"\"}},\"type\":\"scatter\"}],\"scatter3d\":[{\"line\":{\"colorbar\":{\"outlinewidth\":0,\"ticks\":\"\"}},\"marker\":{\"colorbar\":{\"outlinewidth\":0,\"ticks\":\"\"}},\"type\":\"scatter3d\"}],\"scattercarpet\":[{\"marker\":{\"colorbar\":{\"outlinewidth\":0,\"ticks\":\"\"}},\"type\":\"scattercarpet\"}],\"scattergeo\":[{\"marker\":{\"colorbar\":{\"outlinewidth\":0,\"ticks\":\"\"}},\"type\":\"scattergeo\"}],\"scattergl\":[{\"marker\":{\"colorbar\":{\"outlinewidth\":0,\"ticks\":\"\"}},\"type\":\"scattergl\"}],\"scattermapbox\":[{\"marker\":{\"colorbar\":{\"outlinewidth\":0,\"ticks\":\"\"}},\"type\":\"scattermapbox\"}],\"scatterpolar\":[{\"marker\":{\"colorbar\":{\"outlinewidth\":0,\"ticks\":\"\"}},\"type\":\"scatterpolar\"}],\"scatterpolargl\":[{\"marker\":{\"colorbar\":{\"outlinewidth\":0,\"ticks\":\"\"}},\"type\":\"scatterpolargl\"}],\"scatterternary\":[{\"marker\":{\"colorbar\":{\"outlinewidth\":0,\"ticks\":\"\"}},\"type\":\"scatterternary\"}],\"surface\":[{\"colorbar\":{\"outlinewidth\":0,\"ticks\":\"\"},\"colorscale\":[[0.0,\"#0d0887\"],[0.1111111111111111,\"#46039f\"],[0.2222222222222222,\"#7201a8\"],[0.3333333333333333,\"#9c179e\"],[0.4444444444444444,\"#bd3786\"],[0.5555555555555556,\"#d8576b\"],[0.6666666666666666,\"#ed7953\"],[0.7777777777777778,\"#fb9f3a\"],[0.8888888888888888,\"#fdca26\"],[1.0,\"#f0f921\"]],\"type\":\"surface\"}],\"table\":[{\"cells\":{\"fill\":{\"color\":\"#EBF0F8\"},\"line\":{\"color\":\"white\"}},\"header\":{\"fill\":{\"color\":\"#C8D4E3\"},\"line\":{\"color\":\"white\"}},\"type\":\"table\"}]},\"layout\":{\"annotationdefaults\":{\"arrowcolor\":\"#2a3f5f\",\"arrowhead\":0,\"arrowwidth\":1},\"autotypenumbers\":\"strict\",\"coloraxis\":{\"colorbar\":{\"outlinewidth\":0,\"ticks\":\"\"}},\"colorscale\":{\"diverging\":[[0,\"#8e0152\"],[0.1,\"#c51b7d\"],[0.2,\"#de77ae\"],[0.3,\"#f1b6da\"],[0.4,\"#fde0ef\"],[0.5,\"#f7f7f7\"],[0.6,\"#e6f5d0\"],[0.7,\"#b8e186\"],[0.8,\"#7fbc41\"],[0.9,\"#4d9221\"],[1,\"#276419\"]],\"sequential\":[[0.0,\"#0d0887\"],[0.1111111111111111,\"#46039f\"],[0.2222222222222222,\"#7201a8\"],[0.3333333333333333,\"#9c179e\"],[0.4444444444444444,\"#bd3786\"],[0.5555555555555556,\"#d8576b\"],[0.6666666666666666,\"#ed7953\"],[0.7777777777777778,\"#fb9f3a\"],[0.8888888888888888,\"#fdca26\"],[1.0,\"#f0f921\"]],\"sequentialminus\":[[0.0,\"#0d0887\"],[0.1111111111111111,\"#46039f\"],[0.2222222222222222,\"#7201a8\"],[0.3333333333333333,\"#9c179e\"],[0.4444444444444444,\"#bd3786\"],[0.5555555555555556,\"#d8576b\"],[0.6666666666666666,\"#ed7953\"],[0.7777777777777778,\"#fb9f3a\"],[0.8888888888888888,\"#fdca26\"],[1.0,\"#f0f921\"]]},\"colorway\":[\"#636efa\",\"#EF553B\",\"#00cc96\",\"#ab63fa\",\"#FFA15A\",\"#19d3f3\",\"#FF6692\",\"#B6E880\",\"#FF97FF\",\"#FECB52\"],\"font\":{\"color\":\"#2a3f5f\"},\"geo\":{\"bgcolor\":\"white\",\"lakecolor\":\"white\",\"landcolor\":\"#E5ECF6\",\"showlakes\":true,\"showland\":true,\"subunitcolor\":\"white\"},\"hoverlabel\":{\"align\":\"left\"},\"hovermode\":\"closest\",\"mapbox\":{\"style\":\"light\"},\"paper_bgcolor\":\"white\",\"plot_bgcolor\":\"#E5ECF6\",\"polar\":{\"angularaxis\":{\"gridcolor\":\"white\",\"linecolor\":\"white\",\"ticks\":\"\"},\"bgcolor\":\"#E5ECF6\",\"radialaxis\":{\"gridcolor\":\"white\",\"linecolor\":\"white\",\"ticks\":\"\"}},\"scene\":{\"xaxis\":{\"backgroundcolor\":\"#E5ECF6\",\"gridcolor\":\"white\",\"gridwidth\":2,\"linecolor\":\"white\",\"showbackground\":true,\"ticks\":\"\",\"zerolinecolor\":\"white\"},\"yaxis\":{\"backgroundcolor\":\"#E5ECF6\",\"gridcolor\":\"white\",\"gridwidth\":2,\"linecolor\":\"white\",\"showbackground\":true,\"ticks\":\"\",\"zerolinecolor\":\"white\"},\"zaxis\":{\"backgroundcolor\":\"#E5ECF6\",\"gridcolor\":\"white\",\"gridwidth\":2,\"linecolor\":\"white\",\"showbackground\":true,\"ticks\":\"\",\"zerolinecolor\":\"white\"}},\"shapedefaults\":{\"line\":{\"color\":\"#2a3f5f\"}},\"ternary\":{\"aaxis\":{\"gridcolor\":\"white\",\"linecolor\":\"white\",\"ticks\":\"\"},\"baxis\":{\"gridcolor\":\"white\",\"linecolor\":\"white\",\"ticks\":\"\"},\"bgcolor\":\"#E5ECF6\",\"caxis\":{\"gridcolor\":\"white\",\"linecolor\":\"white\",\"ticks\":\"\"}},\"title\":{\"x\":0.05},\"xaxis\":{\"automargin\":true,\"gridcolor\":\"white\",\"linecolor\":\"white\",\"ticks\":\"\",\"title\":{\"standoff\":15},\"zerolinecolor\":\"white\",\"zerolinewidth\":2},\"yaxis\":{\"automargin\":true,\"gridcolor\":\"white\",\"linecolor\":\"white\",\"ticks\":\"\",\"title\":{\"standoff\":15},\"zerolinecolor\":\"white\",\"zerolinewidth\":2}}},\"xaxis\":{\"anchor\":\"y\",\"domain\":[0,0.42],\"zeroline\":false,\"showline\":false,\"showticklabels\":true,\"showgrid\":true},\"yaxis\":{\"anchor\":\"x\",\"domain\":[0,0.9],\"showgrid\":false,\"showline\":false,\"showticklabels\":true},\"xaxis2\":{\"anchor\":\"y2\",\"domain\":[0.47,1],\"zeroline\":false,\"showline\":false,\"showticklabels\":true,\"showgrid\":true,\"side\":\"top\"},\"yaxis2\":{\"anchor\":\"x2\",\"domain\":[0,0.9],\"showgrid\":false,\"showline\":false,\"showticklabels\":false},\"legend\":{\"font\":{\"size\":10},\"x\":0.029,\"y\":1.038},\"margin\":{\"l\":100,\"r\":20,\"t\":70,\"b\":70},\"title\":{\"text\":\"Mean price and numbers of houses for the first 20 neighbourhoods order numbers of houses descending\"},\"paper_bgcolor\":\"rgb(248, 248, 255)\",\"plot_bgcolor\":\"rgb(248, 248, 255)\"},                        {\"responsive\": true}                    ).then(function(){\n",
       "                            \n",
       "var gd = document.getElementById('708a2c33-2d00-48a6-b859-c7ef875eede9');\n",
       "var x = new MutationObserver(function (mutations, observer) {{\n",
       "        var display = window.getComputedStyle(gd).display;\n",
       "        if (!display || display === 'none') {{\n",
       "            console.log([gd, 'removed!']);\n",
       "            Plotly.purge(gd);\n",
       "            observer.disconnect();\n",
       "        }}\n",
       "}});\n",
       "\n",
       "// Listen for the removal of the full notebook cells\n",
       "var notebookContainer = gd.closest('#notebook-container');\n",
       "if (notebookContainer) {{\n",
       "    x.observe(notebookContainer, {childList: true});\n",
       "}}\n",
       "\n",
       "// Listen for the clearing of the current output cell\n",
       "var outputEl = gd.closest('.output');\n",
       "if (outputEl) {{\n",
       "    x.observe(outputEl, {childList: true});\n",
       "}}\n",
       "\n",
       "                        })                };                });            </script>        </div>"
      ]
     },
     "metadata": {},
     "output_type": "display_data"
    }
   ],
   "source": [
    "y_Mean = Nbh_houses.sort_values('Count_h').tail(20)['Mean_h']\n",
    "\n",
    "y_Count = Nbh_houses.sort_values('Count_h').tail(20)['Count_h']\n",
    "\n",
    "x = Nbh_houses.sort_values('Count_h').index\n",
    "\n",
    "\n",
    "# Creating two subplots\n",
    "fig = make_subplots(rows=1, cols=2, specs=[[{}, {}]], shared_xaxes=True,\n",
    "                    shared_yaxes=False, vertical_spacing=0.001)\n",
    "\n",
    "fig.append_trace(go.Bar(\n",
    "    x=y_Mean,\n",
    "    y=x,\n",
    "    marker=dict(\n",
    "        color='rgba(50, 171, 96, 0.6)',\n",
    "        line=dict(\n",
    "            color='rgba(50, 171, 96, 1.0)',\n",
    "            width=1),\n",
    "    ),\n",
    "    name='Mean price',\n",
    "    orientation='h',\n",
    "), 1, 1)\n",
    "\n",
    "fig.append_trace(go.Bar(\n",
    "    x=y_Count,\n",
    "    y=x,\n",
    "    marker=dict(\n",
    "        color='rgb(128, 0, 128)',\n",
    "        line=dict(\n",
    "            color='rgb(128, 0, 128)',\n",
    "            width=1),\n",
    "    ),\n",
    "    name='Number of houses',\n",
    "    orientation='h',\n",
    "), 1, 2)\n",
    "\n",
    "\n",
    "fig.update_layout(\n",
    "    title='Mean price and numbers of houses for the first 20 neighbourhoods order numbers of houses descending',\n",
    "    yaxis=dict(\n",
    "        showgrid=False,\n",
    "        showline=False,\n",
    "        showticklabels=True,\n",
    "        domain=[0, 0.9],\n",
    "    ),\n",
    "    yaxis2=dict(\n",
    "        showgrid=False,\n",
    "        showline=False,\n",
    "        showticklabels=False,\n",
    "        domain=[0, 0.9],\n",
    "    ),\n",
    "    xaxis=dict(\n",
    "        zeroline=False,\n",
    "        showline=False,\n",
    "        showticklabels=True,\n",
    "        showgrid=True,\n",
    "        domain=[0, 0.42],\n",
    "    ),\n",
    "    xaxis2=dict(\n",
    "        zeroline=False,\n",
    "        showline=False,\n",
    "        showticklabels=True,\n",
    "        showgrid=True,\n",
    "        domain=[0.47, 1],\n",
    "        side='top',\n",
    "    ),\n",
    "    \n",
    "    legend=dict(x=0.029, y=1.038, font_size=10),\n",
    "    margin=dict(l=100, r=20, t=70, b=70),\n",
    "    paper_bgcolor='rgb(248, 248, 255)',\n",
    "    plot_bgcolor='rgb(248, 248, 255)',\n",
    ")\n",
    "\n",
    "\n",
    "fig.update_layout()\n"
   ]
  },
  {
   "cell_type": "code",
   "execution_count": 40,
   "id": "840bfdd6",
   "metadata": {},
   "outputs": [
    {
     "data": {
      "application/vnd.plotly.v1+json": {
       "config": {
        "plotlyServerURL": "https://plot.ly"
       },
       "data": [
        {
         "marker": {
          "color": "rgba(50, 171, 96, 0.6)",
          "line": {
           "color": "rgba(50, 171, 96, 1.0)",
           "width": 1
          }
         },
         "name": "Mean price",
         "orientation": "h",
         "type": "bar",
         "x": [
          719424.5882352941,
          605070,
          845588.8333333334,
          1675638.3333333333,
          747066.0833333334,
          994012.2083333334,
          789423,
          1401595.3214285714,
          680466.7741935484,
          956555.9142857143,
          913923.5238095238,
          737450.98,
          1237122.5614035088,
          800692.6515151515,
          2234534.1,
          856282.1690140845,
          1466015.465116279,
          980394.6981132076,
          1126456.0923076924,
          975271.4285714285
         ],
         "xaxis": "x",
         "y": [
          "Lawrence Park South",
          "Playter Estates-Danforth",
          "New Toronto",
          "Forest Hill North",
          "Pleasant View",
          "Guildwood",
          "Highland Creek",
          "Glenfield-Jane Heights",
          "Willowridge-Martingrove-Richview",
          "Wychwood",
          "Lawrence Park North",
          "Maple Leaf",
          "Runnymede-Bloor West Village",
          "Humber Heights",
          "Greenwood-Coxwell",
          "Humberlea-Pelmo Park W5",
          "Morningside",
          "Mount Dennis",
          "Elms-Old Rexdale",
          "East York",
          "Kennedy Park",
          "Kingsway South",
          "Thorncliffe Park",
          "Victoria Village",
          "Rockcliffe-Smythe",
          "Broadview North",
          "Bathurst Manor",
          "Clairlea-Birchmount",
          "St. Andrew-Windfields",
          "Bayview Woods-Steeles",
          "Stonegate-Queensway",
          "Leaside",
          "Weston",
          "Englemount-Lawrence",
          "Eringate-Centennial-West Deane",
          "Scarborough Village",
          "Briar Hill-Belgravia",
          "Don Valley Village",
          "Weston-Pellam Park",
          "Yonge-Eglinton",
          "Humewood-Cedarvale",
          "Wexford-Maryvale",
          "Crescent Town",
          "West Humber-Clairville",
          "The Beaches",
          "Brookhaven-Amesbury",
          "Oakwood-Vaughan",
          "Dufferin Grove",
          "Palmerston-Little Italy",
          "Markland Wood",
          "Milliken",
          "North St. James Town",
          "High Park North",
          "Agincourt North",
          "Dorset Park",
          "Etobicoke West Mall",
          "Cabbagetown-South St. James Town",
          "Cliffcrest",
          "York University Heights",
          "South Parkdale",
          "Bridle Path-Sunnybrook-York Mills",
          "West Hill",
          "Rouge E11",
          "University",
          "Trinity-Bellwoods",
          "Parkwoods-Donalda",
          "Steeles",
          "Hillcrest Village",
          "Dovercourt-Wallace Emerson-Junction",
          "Roncesvalles",
          "Long Branch",
          "Little Portugal",
          "Woburn",
          "Junction Area",
          "Birchcliffe-Cliffside",
          "Mount Olive-Silverstone-Jamestown",
          "Eglinton East",
          "Clanton Park",
          "Casa Loma",
          "Edenbridge-Humber Valley",
          "Lansing-Westgate",
          "Black Creek",
          "Westminster-Branson",
          "Bedford Park-Nortown",
          "Agincourt South-Malvern West",
          "Yorkdale-Glen Park",
          "Regent Park",
          "Malvern",
          "Newtonbrook West",
          "Mount Pleasant East",
          "Flemingdon Park",
          "Kingsview Village-The Westway",
          "South Riverdale",
          "Yonge-St. Clair",
          "L'Amoreaux",
          "High Park-Swansea",
          "Newtonbrook East",
          "Banbury-Don Mills",
          "Tam O'Shanter-Sullivan",
          "Bendale",
          "Willowdale West",
          "Forest Hill South",
          "Islington-City Centre West",
          "Kensington-Chinatown",
          "Bayview Village",
          "Rosedale-Moore Park",
          "Downsview-Roding-CFB",
          "Moss Park",
          "Mount Pleasant West",
          "Henry Farm",
          "Waterfront Communities C8",
          "Willowdale East",
          "Annex",
          "Niagara",
          "Bay Street Corridor",
          "Mimico",
          "Church-Yonge Corridor",
          "Waterfront Communities C1"
         ],
         "yaxis": "y"
        },
        {
         "marker": {
          "color": "rgb(128, 0, 128)",
          "line": {
           "color": "rgb(128, 0, 128)",
           "width": 1
          }
         },
         "name": "Number of condos",
         "orientation": "h",
         "type": "bar",
         "x": [
          17,
          17,
          18,
          18,
          24,
          24,
          25,
          28,
          31,
          35,
          42,
          50,
          57,
          66,
          70,
          71,
          86,
          106,
          130,
          238
         ],
         "xaxis": "x2",
         "y": [
          "Lawrence Park South",
          "Playter Estates-Danforth",
          "New Toronto",
          "Forest Hill North",
          "Pleasant View",
          "Guildwood",
          "Highland Creek",
          "Glenfield-Jane Heights",
          "Willowridge-Martingrove-Richview",
          "Wychwood",
          "Lawrence Park North",
          "Maple Leaf",
          "Runnymede-Bloor West Village",
          "Humber Heights",
          "Greenwood-Coxwell",
          "Humberlea-Pelmo Park W5",
          "Morningside",
          "Mount Dennis",
          "Elms-Old Rexdale",
          "East York",
          "Kennedy Park",
          "Kingsway South",
          "Thorncliffe Park",
          "Victoria Village",
          "Rockcliffe-Smythe",
          "Broadview North",
          "Bathurst Manor",
          "Clairlea-Birchmount",
          "St. Andrew-Windfields",
          "Bayview Woods-Steeles",
          "Stonegate-Queensway",
          "Leaside",
          "Weston",
          "Englemount-Lawrence",
          "Eringate-Centennial-West Deane",
          "Scarborough Village",
          "Briar Hill-Belgravia",
          "Don Valley Village",
          "Weston-Pellam Park",
          "Yonge-Eglinton",
          "Humewood-Cedarvale",
          "Wexford-Maryvale",
          "Crescent Town",
          "West Humber-Clairville",
          "The Beaches",
          "Brookhaven-Amesbury",
          "Oakwood-Vaughan",
          "Dufferin Grove",
          "Palmerston-Little Italy",
          "Markland Wood",
          "Milliken",
          "North St. James Town",
          "High Park North",
          "Agincourt North",
          "Dorset Park",
          "Etobicoke West Mall",
          "Cabbagetown-South St. James Town",
          "Cliffcrest",
          "York University Heights",
          "South Parkdale",
          "Bridle Path-Sunnybrook-York Mills",
          "West Hill",
          "Rouge E11",
          "University",
          "Trinity-Bellwoods",
          "Parkwoods-Donalda",
          "Steeles",
          "Hillcrest Village",
          "Dovercourt-Wallace Emerson-Junction",
          "Roncesvalles",
          "Long Branch",
          "Little Portugal",
          "Woburn",
          "Junction Area",
          "Birchcliffe-Cliffside",
          "Mount Olive-Silverstone-Jamestown",
          "Eglinton East",
          "Clanton Park",
          "Casa Loma",
          "Edenbridge-Humber Valley",
          "Lansing-Westgate",
          "Black Creek",
          "Westminster-Branson",
          "Bedford Park-Nortown",
          "Agincourt South-Malvern West",
          "Yorkdale-Glen Park",
          "Regent Park",
          "Malvern",
          "Newtonbrook West",
          "Mount Pleasant East",
          "Flemingdon Park",
          "Kingsview Village-The Westway",
          "South Riverdale",
          "Yonge-St. Clair",
          "L'Amoreaux",
          "High Park-Swansea",
          "Newtonbrook East",
          "Banbury-Don Mills",
          "Tam O'Shanter-Sullivan",
          "Bendale",
          "Willowdale West",
          "Forest Hill South",
          "Islington-City Centre West",
          "Kensington-Chinatown",
          "Bayview Village",
          "Rosedale-Moore Park",
          "Downsview-Roding-CFB",
          "Moss Park",
          "Mount Pleasant West",
          "Henry Farm",
          "Waterfront Communities C8",
          "Willowdale East",
          "Annex",
          "Niagara",
          "Bay Street Corridor",
          "Mimico",
          "Church-Yonge Corridor",
          "Waterfront Communities C1"
         ],
         "yaxis": "y2"
        }
       ],
       "layout": {
        "legend": {
         "font": {
          "size": 10
         },
         "x": 0.029,
         "y": 1.038
        },
        "margin": {
         "b": 70,
         "l": 100,
         "r": 20,
         "t": 70
        },
        "paper_bgcolor": "rgb(248, 248, 255)",
        "plot_bgcolor": "rgb(248, 248, 255)",
        "template": {
         "data": {
          "bar": [
           {
            "error_x": {
             "color": "#2a3f5f"
            },
            "error_y": {
             "color": "#2a3f5f"
            },
            "marker": {
             "line": {
              "color": "#E5ECF6",
              "width": 0.5
             },
             "pattern": {
              "fillmode": "overlay",
              "size": 10,
              "solidity": 0.2
             }
            },
            "type": "bar"
           }
          ],
          "barpolar": [
           {
            "marker": {
             "line": {
              "color": "#E5ECF6",
              "width": 0.5
             },
             "pattern": {
              "fillmode": "overlay",
              "size": 10,
              "solidity": 0.2
             }
            },
            "type": "barpolar"
           }
          ],
          "carpet": [
           {
            "aaxis": {
             "endlinecolor": "#2a3f5f",
             "gridcolor": "white",
             "linecolor": "white",
             "minorgridcolor": "white",
             "startlinecolor": "#2a3f5f"
            },
            "baxis": {
             "endlinecolor": "#2a3f5f",
             "gridcolor": "white",
             "linecolor": "white",
             "minorgridcolor": "white",
             "startlinecolor": "#2a3f5f"
            },
            "type": "carpet"
           }
          ],
          "choropleth": [
           {
            "colorbar": {
             "outlinewidth": 0,
             "ticks": ""
            },
            "type": "choropleth"
           }
          ],
          "contour": [
           {
            "colorbar": {
             "outlinewidth": 0,
             "ticks": ""
            },
            "colorscale": [
             [
              0,
              "#0d0887"
             ],
             [
              0.1111111111111111,
              "#46039f"
             ],
             [
              0.2222222222222222,
              "#7201a8"
             ],
             [
              0.3333333333333333,
              "#9c179e"
             ],
             [
              0.4444444444444444,
              "#bd3786"
             ],
             [
              0.5555555555555556,
              "#d8576b"
             ],
             [
              0.6666666666666666,
              "#ed7953"
             ],
             [
              0.7777777777777778,
              "#fb9f3a"
             ],
             [
              0.8888888888888888,
              "#fdca26"
             ],
             [
              1,
              "#f0f921"
             ]
            ],
            "type": "contour"
           }
          ],
          "contourcarpet": [
           {
            "colorbar": {
             "outlinewidth": 0,
             "ticks": ""
            },
            "type": "contourcarpet"
           }
          ],
          "heatmap": [
           {
            "colorbar": {
             "outlinewidth": 0,
             "ticks": ""
            },
            "colorscale": [
             [
              0,
              "#0d0887"
             ],
             [
              0.1111111111111111,
              "#46039f"
             ],
             [
              0.2222222222222222,
              "#7201a8"
             ],
             [
              0.3333333333333333,
              "#9c179e"
             ],
             [
              0.4444444444444444,
              "#bd3786"
             ],
             [
              0.5555555555555556,
              "#d8576b"
             ],
             [
              0.6666666666666666,
              "#ed7953"
             ],
             [
              0.7777777777777778,
              "#fb9f3a"
             ],
             [
              0.8888888888888888,
              "#fdca26"
             ],
             [
              1,
              "#f0f921"
             ]
            ],
            "type": "heatmap"
           }
          ],
          "heatmapgl": [
           {
            "colorbar": {
             "outlinewidth": 0,
             "ticks": ""
            },
            "colorscale": [
             [
              0,
              "#0d0887"
             ],
             [
              0.1111111111111111,
              "#46039f"
             ],
             [
              0.2222222222222222,
              "#7201a8"
             ],
             [
              0.3333333333333333,
              "#9c179e"
             ],
             [
              0.4444444444444444,
              "#bd3786"
             ],
             [
              0.5555555555555556,
              "#d8576b"
             ],
             [
              0.6666666666666666,
              "#ed7953"
             ],
             [
              0.7777777777777778,
              "#fb9f3a"
             ],
             [
              0.8888888888888888,
              "#fdca26"
             ],
             [
              1,
              "#f0f921"
             ]
            ],
            "type": "heatmapgl"
           }
          ],
          "histogram": [
           {
            "marker": {
             "pattern": {
              "fillmode": "overlay",
              "size": 10,
              "solidity": 0.2
             }
            },
            "type": "histogram"
           }
          ],
          "histogram2d": [
           {
            "colorbar": {
             "outlinewidth": 0,
             "ticks": ""
            },
            "colorscale": [
             [
              0,
              "#0d0887"
             ],
             [
              0.1111111111111111,
              "#46039f"
             ],
             [
              0.2222222222222222,
              "#7201a8"
             ],
             [
              0.3333333333333333,
              "#9c179e"
             ],
             [
              0.4444444444444444,
              "#bd3786"
             ],
             [
              0.5555555555555556,
              "#d8576b"
             ],
             [
              0.6666666666666666,
              "#ed7953"
             ],
             [
              0.7777777777777778,
              "#fb9f3a"
             ],
             [
              0.8888888888888888,
              "#fdca26"
             ],
             [
              1,
              "#f0f921"
             ]
            ],
            "type": "histogram2d"
           }
          ],
          "histogram2dcontour": [
           {
            "colorbar": {
             "outlinewidth": 0,
             "ticks": ""
            },
            "colorscale": [
             [
              0,
              "#0d0887"
             ],
             [
              0.1111111111111111,
              "#46039f"
             ],
             [
              0.2222222222222222,
              "#7201a8"
             ],
             [
              0.3333333333333333,
              "#9c179e"
             ],
             [
              0.4444444444444444,
              "#bd3786"
             ],
             [
              0.5555555555555556,
              "#d8576b"
             ],
             [
              0.6666666666666666,
              "#ed7953"
             ],
             [
              0.7777777777777778,
              "#fb9f3a"
             ],
             [
              0.8888888888888888,
              "#fdca26"
             ],
             [
              1,
              "#f0f921"
             ]
            ],
            "type": "histogram2dcontour"
           }
          ],
          "mesh3d": [
           {
            "colorbar": {
             "outlinewidth": 0,
             "ticks": ""
            },
            "type": "mesh3d"
           }
          ],
          "parcoords": [
           {
            "line": {
             "colorbar": {
              "outlinewidth": 0,
              "ticks": ""
             }
            },
            "type": "parcoords"
           }
          ],
          "pie": [
           {
            "automargin": true,
            "type": "pie"
           }
          ],
          "scatter": [
           {
            "marker": {
             "colorbar": {
              "outlinewidth": 0,
              "ticks": ""
             }
            },
            "type": "scatter"
           }
          ],
          "scatter3d": [
           {
            "line": {
             "colorbar": {
              "outlinewidth": 0,
              "ticks": ""
             }
            },
            "marker": {
             "colorbar": {
              "outlinewidth": 0,
              "ticks": ""
             }
            },
            "type": "scatter3d"
           }
          ],
          "scattercarpet": [
           {
            "marker": {
             "colorbar": {
              "outlinewidth": 0,
              "ticks": ""
             }
            },
            "type": "scattercarpet"
           }
          ],
          "scattergeo": [
           {
            "marker": {
             "colorbar": {
              "outlinewidth": 0,
              "ticks": ""
             }
            },
            "type": "scattergeo"
           }
          ],
          "scattergl": [
           {
            "marker": {
             "colorbar": {
              "outlinewidth": 0,
              "ticks": ""
             }
            },
            "type": "scattergl"
           }
          ],
          "scattermapbox": [
           {
            "marker": {
             "colorbar": {
              "outlinewidth": 0,
              "ticks": ""
             }
            },
            "type": "scattermapbox"
           }
          ],
          "scatterpolar": [
           {
            "marker": {
             "colorbar": {
              "outlinewidth": 0,
              "ticks": ""
             }
            },
            "type": "scatterpolar"
           }
          ],
          "scatterpolargl": [
           {
            "marker": {
             "colorbar": {
              "outlinewidth": 0,
              "ticks": ""
             }
            },
            "type": "scatterpolargl"
           }
          ],
          "scatterternary": [
           {
            "marker": {
             "colorbar": {
              "outlinewidth": 0,
              "ticks": ""
             }
            },
            "type": "scatterternary"
           }
          ],
          "surface": [
           {
            "colorbar": {
             "outlinewidth": 0,
             "ticks": ""
            },
            "colorscale": [
             [
              0,
              "#0d0887"
             ],
             [
              0.1111111111111111,
              "#46039f"
             ],
             [
              0.2222222222222222,
              "#7201a8"
             ],
             [
              0.3333333333333333,
              "#9c179e"
             ],
             [
              0.4444444444444444,
              "#bd3786"
             ],
             [
              0.5555555555555556,
              "#d8576b"
             ],
             [
              0.6666666666666666,
              "#ed7953"
             ],
             [
              0.7777777777777778,
              "#fb9f3a"
             ],
             [
              0.8888888888888888,
              "#fdca26"
             ],
             [
              1,
              "#f0f921"
             ]
            ],
            "type": "surface"
           }
          ],
          "table": [
           {
            "cells": {
             "fill": {
              "color": "#EBF0F8"
             },
             "line": {
              "color": "white"
             }
            },
            "header": {
             "fill": {
              "color": "#C8D4E3"
             },
             "line": {
              "color": "white"
             }
            },
            "type": "table"
           }
          ]
         },
         "layout": {
          "annotationdefaults": {
           "arrowcolor": "#2a3f5f",
           "arrowhead": 0,
           "arrowwidth": 1
          },
          "autotypenumbers": "strict",
          "coloraxis": {
           "colorbar": {
            "outlinewidth": 0,
            "ticks": ""
           }
          },
          "colorscale": {
           "diverging": [
            [
             0,
             "#8e0152"
            ],
            [
             0.1,
             "#c51b7d"
            ],
            [
             0.2,
             "#de77ae"
            ],
            [
             0.3,
             "#f1b6da"
            ],
            [
             0.4,
             "#fde0ef"
            ],
            [
             0.5,
             "#f7f7f7"
            ],
            [
             0.6,
             "#e6f5d0"
            ],
            [
             0.7,
             "#b8e186"
            ],
            [
             0.8,
             "#7fbc41"
            ],
            [
             0.9,
             "#4d9221"
            ],
            [
             1,
             "#276419"
            ]
           ],
           "sequential": [
            [
             0,
             "#0d0887"
            ],
            [
             0.1111111111111111,
             "#46039f"
            ],
            [
             0.2222222222222222,
             "#7201a8"
            ],
            [
             0.3333333333333333,
             "#9c179e"
            ],
            [
             0.4444444444444444,
             "#bd3786"
            ],
            [
             0.5555555555555556,
             "#d8576b"
            ],
            [
             0.6666666666666666,
             "#ed7953"
            ],
            [
             0.7777777777777778,
             "#fb9f3a"
            ],
            [
             0.8888888888888888,
             "#fdca26"
            ],
            [
             1,
             "#f0f921"
            ]
           ],
           "sequentialminus": [
            [
             0,
             "#0d0887"
            ],
            [
             0.1111111111111111,
             "#46039f"
            ],
            [
             0.2222222222222222,
             "#7201a8"
            ],
            [
             0.3333333333333333,
             "#9c179e"
            ],
            [
             0.4444444444444444,
             "#bd3786"
            ],
            [
             0.5555555555555556,
             "#d8576b"
            ],
            [
             0.6666666666666666,
             "#ed7953"
            ],
            [
             0.7777777777777778,
             "#fb9f3a"
            ],
            [
             0.8888888888888888,
             "#fdca26"
            ],
            [
             1,
             "#f0f921"
            ]
           ]
          },
          "colorway": [
           "#636efa",
           "#EF553B",
           "#00cc96",
           "#ab63fa",
           "#FFA15A",
           "#19d3f3",
           "#FF6692",
           "#B6E880",
           "#FF97FF",
           "#FECB52"
          ],
          "font": {
           "color": "#2a3f5f"
          },
          "geo": {
           "bgcolor": "white",
           "lakecolor": "white",
           "landcolor": "#E5ECF6",
           "showlakes": true,
           "showland": true,
           "subunitcolor": "white"
          },
          "hoverlabel": {
           "align": "left"
          },
          "hovermode": "closest",
          "mapbox": {
           "style": "light"
          },
          "paper_bgcolor": "white",
          "plot_bgcolor": "#E5ECF6",
          "polar": {
           "angularaxis": {
            "gridcolor": "white",
            "linecolor": "white",
            "ticks": ""
           },
           "bgcolor": "#E5ECF6",
           "radialaxis": {
            "gridcolor": "white",
            "linecolor": "white",
            "ticks": ""
           }
          },
          "scene": {
           "xaxis": {
            "backgroundcolor": "#E5ECF6",
            "gridcolor": "white",
            "gridwidth": 2,
            "linecolor": "white",
            "showbackground": true,
            "ticks": "",
            "zerolinecolor": "white"
           },
           "yaxis": {
            "backgroundcolor": "#E5ECF6",
            "gridcolor": "white",
            "gridwidth": 2,
            "linecolor": "white",
            "showbackground": true,
            "ticks": "",
            "zerolinecolor": "white"
           },
           "zaxis": {
            "backgroundcolor": "#E5ECF6",
            "gridcolor": "white",
            "gridwidth": 2,
            "linecolor": "white",
            "showbackground": true,
            "ticks": "",
            "zerolinecolor": "white"
           }
          },
          "shapedefaults": {
           "line": {
            "color": "#2a3f5f"
           }
          },
          "ternary": {
           "aaxis": {
            "gridcolor": "white",
            "linecolor": "white",
            "ticks": ""
           },
           "baxis": {
            "gridcolor": "white",
            "linecolor": "white",
            "ticks": ""
           },
           "bgcolor": "#E5ECF6",
           "caxis": {
            "gridcolor": "white",
            "linecolor": "white",
            "ticks": ""
           }
          },
          "title": {
           "x": 0.05
          },
          "xaxis": {
           "automargin": true,
           "gridcolor": "white",
           "linecolor": "white",
           "ticks": "",
           "title": {
            "standoff": 15
           },
           "zerolinecolor": "white",
           "zerolinewidth": 2
          },
          "yaxis": {
           "automargin": true,
           "gridcolor": "white",
           "linecolor": "white",
           "ticks": "",
           "title": {
            "standoff": 15
           },
           "zerolinecolor": "white",
           "zerolinewidth": 2
          }
         }
        },
        "title": {
         "text": "Mean price and numbers of condos for the first 20 neighbourhoods order numbers of condos descending"
        },
        "xaxis": {
         "anchor": "y",
         "domain": [
          0,
          0.42
         ],
         "showgrid": true,
         "showline": false,
         "showticklabels": true,
         "zeroline": false
        },
        "xaxis2": {
         "anchor": "y2",
         "domain": [
          0.47,
          1
         ],
         "showgrid": true,
         "showline": false,
         "showticklabels": true,
         "side": "top",
         "zeroline": false
        },
        "yaxis": {
         "anchor": "x",
         "domain": [
          0,
          0.9
         ],
         "showgrid": false,
         "showline": false,
         "showticklabels": true
        },
        "yaxis2": {
         "anchor": "x2",
         "domain": [
          0,
          0.9
         ],
         "showgrid": false,
         "showline": false,
         "showticklabels": false
        }
       }
      },
      "text/html": [
       "<div>                            <div id=\"57707c46-b3d7-455a-857f-2632775037ca\" class=\"plotly-graph-div\" style=\"height:525px; width:100%;\"></div>            <script type=\"text/javascript\">                require([\"plotly\"], function(Plotly) {                    window.PLOTLYENV=window.PLOTLYENV || {};                                    if (document.getElementById(\"57707c46-b3d7-455a-857f-2632775037ca\")) {                    Plotly.newPlot(                        \"57707c46-b3d7-455a-857f-2632775037ca\",                        [{\"marker\":{\"color\":\"rgba(50, 171, 96, 0.6)\",\"line\":{\"color\":\"rgba(50, 171, 96, 1.0)\",\"width\":1}},\"name\":\"Mean price\",\"orientation\":\"h\",\"x\":[719424.5882352941,605070.0,845588.8333333334,1675638.3333333333,747066.0833333334,994012.2083333334,789423.0,1401595.3214285714,680466.7741935484,956555.9142857143,913923.5238095238,737450.98,1237122.5614035088,800692.6515151515,2234534.1,856282.1690140845,1466015.465116279,980394.6981132076,1126456.0923076924,975271.4285714285],\"y\":[\"Lawrence Park South\",\"Playter Estates-Danforth\",\"New Toronto\",\"Forest Hill North\",\"Pleasant View\",\"Guildwood\",\"Highland Creek\",\"Glenfield-Jane Heights\",\"Willowridge-Martingrove-Richview\",\"Wychwood\",\"Lawrence Park North\",\"Maple Leaf\",\"Runnymede-Bloor West Village\",\"Humber Heights\",\"Greenwood-Coxwell\",\"Humberlea-Pelmo Park W5\",\"Morningside\",\"Mount Dennis\",\"Elms-Old Rexdale\",\"East York\",\"Kennedy Park\",\"Kingsway South\",\"Thorncliffe Park\",\"Victoria Village\",\"Rockcliffe-Smythe\",\"Broadview North\",\"Bathurst Manor\",\"Clairlea-Birchmount\",\"St. Andrew-Windfields\",\"Bayview Woods-Steeles\",\"Stonegate-Queensway\",\"Leaside\",\"Weston\",\"Englemount-Lawrence\",\"Eringate-Centennial-West Deane\",\"Scarborough Village\",\"Briar Hill-Belgravia\",\"Don Valley Village\",\"Weston-Pellam Park\",\"Yonge-Eglinton\",\"Humewood-Cedarvale\",\"Wexford-Maryvale\",\"Crescent Town\",\"West Humber-Clairville\",\"The Beaches\",\"Brookhaven-Amesbury\",\"Oakwood-Vaughan\",\"Dufferin Grove\",\"Palmerston-Little Italy\",\"Markland Wood\",\"Milliken\",\"North St. James Town\",\"High Park North\",\"Agincourt North\",\"Dorset Park\",\"Etobicoke West Mall\",\"Cabbagetown-South St. James Town\",\"Cliffcrest\",\"York University Heights\",\"South Parkdale\",\"Bridle Path-Sunnybrook-York Mills\",\"West Hill\",\"Rouge E11\",\"University\",\"Trinity-Bellwoods\",\"Parkwoods-Donalda\",\"Steeles\",\"Hillcrest Village\",\"Dovercourt-Wallace Emerson-Junction\",\"Roncesvalles\",\"Long Branch\",\"Little Portugal\",\"Woburn\",\"Junction Area\",\"Birchcliffe-Cliffside\",\"Mount Olive-Silverstone-Jamestown\",\"Eglinton East\",\"Clanton Park\",\"Casa Loma\",\"Edenbridge-Humber Valley\",\"Lansing-Westgate\",\"Black Creek\",\"Westminster-Branson\",\"Bedford Park-Nortown\",\"Agincourt South-Malvern West\",\"Yorkdale-Glen Park\",\"Regent Park\",\"Malvern\",\"Newtonbrook West\",\"Mount Pleasant East\",\"Flemingdon Park\",\"Kingsview Village-The Westway\",\"South Riverdale\",\"Yonge-St. Clair\",\"L'Amoreaux\",\"High Park-Swansea\",\"Newtonbrook East\",\"Banbury-Don Mills\",\"Tam O'Shanter-Sullivan\",\"Bendale\",\"Willowdale West\",\"Forest Hill South\",\"Islington-City Centre West\",\"Kensington-Chinatown\",\"Bayview Village\",\"Rosedale-Moore Park\",\"Downsview-Roding-CFB\",\"Moss Park\",\"Mount Pleasant West\",\"Henry Farm\",\"Waterfront Communities C8\",\"Willowdale East\",\"Annex\",\"Niagara\",\"Bay Street Corridor\",\"Mimico\",\"Church-Yonge Corridor\",\"Waterfront Communities C1\"],\"type\":\"bar\",\"xaxis\":\"x\",\"yaxis\":\"y\"},{\"marker\":{\"color\":\"rgb(128, 0, 128)\",\"line\":{\"color\":\"rgb(128, 0, 128)\",\"width\":1}},\"name\":\"Number of condos\",\"orientation\":\"h\",\"x\":[17,17,18,18,24,24,25,28,31,35,42,50,57,66,70,71,86,106,130,238],\"y\":[\"Lawrence Park South\",\"Playter Estates-Danforth\",\"New Toronto\",\"Forest Hill North\",\"Pleasant View\",\"Guildwood\",\"Highland Creek\",\"Glenfield-Jane Heights\",\"Willowridge-Martingrove-Richview\",\"Wychwood\",\"Lawrence Park North\",\"Maple Leaf\",\"Runnymede-Bloor West Village\",\"Humber Heights\",\"Greenwood-Coxwell\",\"Humberlea-Pelmo Park W5\",\"Morningside\",\"Mount Dennis\",\"Elms-Old Rexdale\",\"East York\",\"Kennedy Park\",\"Kingsway South\",\"Thorncliffe Park\",\"Victoria Village\",\"Rockcliffe-Smythe\",\"Broadview North\",\"Bathurst Manor\",\"Clairlea-Birchmount\",\"St. Andrew-Windfields\",\"Bayview Woods-Steeles\",\"Stonegate-Queensway\",\"Leaside\",\"Weston\",\"Englemount-Lawrence\",\"Eringate-Centennial-West Deane\",\"Scarborough Village\",\"Briar Hill-Belgravia\",\"Don Valley Village\",\"Weston-Pellam Park\",\"Yonge-Eglinton\",\"Humewood-Cedarvale\",\"Wexford-Maryvale\",\"Crescent Town\",\"West Humber-Clairville\",\"The Beaches\",\"Brookhaven-Amesbury\",\"Oakwood-Vaughan\",\"Dufferin Grove\",\"Palmerston-Little Italy\",\"Markland Wood\",\"Milliken\",\"North St. James Town\",\"High Park North\",\"Agincourt North\",\"Dorset Park\",\"Etobicoke West Mall\",\"Cabbagetown-South St. James Town\",\"Cliffcrest\",\"York University Heights\",\"South Parkdale\",\"Bridle Path-Sunnybrook-York Mills\",\"West Hill\",\"Rouge E11\",\"University\",\"Trinity-Bellwoods\",\"Parkwoods-Donalda\",\"Steeles\",\"Hillcrest Village\",\"Dovercourt-Wallace Emerson-Junction\",\"Roncesvalles\",\"Long Branch\",\"Little Portugal\",\"Woburn\",\"Junction Area\",\"Birchcliffe-Cliffside\",\"Mount Olive-Silverstone-Jamestown\",\"Eglinton East\",\"Clanton Park\",\"Casa Loma\",\"Edenbridge-Humber Valley\",\"Lansing-Westgate\",\"Black Creek\",\"Westminster-Branson\",\"Bedford Park-Nortown\",\"Agincourt South-Malvern West\",\"Yorkdale-Glen Park\",\"Regent Park\",\"Malvern\",\"Newtonbrook West\",\"Mount Pleasant East\",\"Flemingdon Park\",\"Kingsview Village-The Westway\",\"South Riverdale\",\"Yonge-St. Clair\",\"L'Amoreaux\",\"High Park-Swansea\",\"Newtonbrook East\",\"Banbury-Don Mills\",\"Tam O'Shanter-Sullivan\",\"Bendale\",\"Willowdale West\",\"Forest Hill South\",\"Islington-City Centre West\",\"Kensington-Chinatown\",\"Bayview Village\",\"Rosedale-Moore Park\",\"Downsview-Roding-CFB\",\"Moss Park\",\"Mount Pleasant West\",\"Henry Farm\",\"Waterfront Communities C8\",\"Willowdale East\",\"Annex\",\"Niagara\",\"Bay Street Corridor\",\"Mimico\",\"Church-Yonge Corridor\",\"Waterfront Communities C1\"],\"type\":\"bar\",\"xaxis\":\"x2\",\"yaxis\":\"y2\"}],                        {\"template\":{\"data\":{\"bar\":[{\"error_x\":{\"color\":\"#2a3f5f\"},\"error_y\":{\"color\":\"#2a3f5f\"},\"marker\":{\"line\":{\"color\":\"#E5ECF6\",\"width\":0.5},\"pattern\":{\"fillmode\":\"overlay\",\"size\":10,\"solidity\":0.2}},\"type\":\"bar\"}],\"barpolar\":[{\"marker\":{\"line\":{\"color\":\"#E5ECF6\",\"width\":0.5},\"pattern\":{\"fillmode\":\"overlay\",\"size\":10,\"solidity\":0.2}},\"type\":\"barpolar\"}],\"carpet\":[{\"aaxis\":{\"endlinecolor\":\"#2a3f5f\",\"gridcolor\":\"white\",\"linecolor\":\"white\",\"minorgridcolor\":\"white\",\"startlinecolor\":\"#2a3f5f\"},\"baxis\":{\"endlinecolor\":\"#2a3f5f\",\"gridcolor\":\"white\",\"linecolor\":\"white\",\"minorgridcolor\":\"white\",\"startlinecolor\":\"#2a3f5f\"},\"type\":\"carpet\"}],\"choropleth\":[{\"colorbar\":{\"outlinewidth\":0,\"ticks\":\"\"},\"type\":\"choropleth\"}],\"contour\":[{\"colorbar\":{\"outlinewidth\":0,\"ticks\":\"\"},\"colorscale\":[[0.0,\"#0d0887\"],[0.1111111111111111,\"#46039f\"],[0.2222222222222222,\"#7201a8\"],[0.3333333333333333,\"#9c179e\"],[0.4444444444444444,\"#bd3786\"],[0.5555555555555556,\"#d8576b\"],[0.6666666666666666,\"#ed7953\"],[0.7777777777777778,\"#fb9f3a\"],[0.8888888888888888,\"#fdca26\"],[1.0,\"#f0f921\"]],\"type\":\"contour\"}],\"contourcarpet\":[{\"colorbar\":{\"outlinewidth\":0,\"ticks\":\"\"},\"type\":\"contourcarpet\"}],\"heatmap\":[{\"colorbar\":{\"outlinewidth\":0,\"ticks\":\"\"},\"colorscale\":[[0.0,\"#0d0887\"],[0.1111111111111111,\"#46039f\"],[0.2222222222222222,\"#7201a8\"],[0.3333333333333333,\"#9c179e\"],[0.4444444444444444,\"#bd3786\"],[0.5555555555555556,\"#d8576b\"],[0.6666666666666666,\"#ed7953\"],[0.7777777777777778,\"#fb9f3a\"],[0.8888888888888888,\"#fdca26\"],[1.0,\"#f0f921\"]],\"type\":\"heatmap\"}],\"heatmapgl\":[{\"colorbar\":{\"outlinewidth\":0,\"ticks\":\"\"},\"colorscale\":[[0.0,\"#0d0887\"],[0.1111111111111111,\"#46039f\"],[0.2222222222222222,\"#7201a8\"],[0.3333333333333333,\"#9c179e\"],[0.4444444444444444,\"#bd3786\"],[0.5555555555555556,\"#d8576b\"],[0.6666666666666666,\"#ed7953\"],[0.7777777777777778,\"#fb9f3a\"],[0.8888888888888888,\"#fdca26\"],[1.0,\"#f0f921\"]],\"type\":\"heatmapgl\"}],\"histogram\":[{\"marker\":{\"pattern\":{\"fillmode\":\"overlay\",\"size\":10,\"solidity\":0.2}},\"type\":\"histogram\"}],\"histogram2d\":[{\"colorbar\":{\"outlinewidth\":0,\"ticks\":\"\"},\"colorscale\":[[0.0,\"#0d0887\"],[0.1111111111111111,\"#46039f\"],[0.2222222222222222,\"#7201a8\"],[0.3333333333333333,\"#9c179e\"],[0.4444444444444444,\"#bd3786\"],[0.5555555555555556,\"#d8576b\"],[0.6666666666666666,\"#ed7953\"],[0.7777777777777778,\"#fb9f3a\"],[0.8888888888888888,\"#fdca26\"],[1.0,\"#f0f921\"]],\"type\":\"histogram2d\"}],\"histogram2dcontour\":[{\"colorbar\":{\"outlinewidth\":0,\"ticks\":\"\"},\"colorscale\":[[0.0,\"#0d0887\"],[0.1111111111111111,\"#46039f\"],[0.2222222222222222,\"#7201a8\"],[0.3333333333333333,\"#9c179e\"],[0.4444444444444444,\"#bd3786\"],[0.5555555555555556,\"#d8576b\"],[0.6666666666666666,\"#ed7953\"],[0.7777777777777778,\"#fb9f3a\"],[0.8888888888888888,\"#fdca26\"],[1.0,\"#f0f921\"]],\"type\":\"histogram2dcontour\"}],\"mesh3d\":[{\"colorbar\":{\"outlinewidth\":0,\"ticks\":\"\"},\"type\":\"mesh3d\"}],\"parcoords\":[{\"line\":{\"colorbar\":{\"outlinewidth\":0,\"ticks\":\"\"}},\"type\":\"parcoords\"}],\"pie\":[{\"automargin\":true,\"type\":\"pie\"}],\"scatter\":[{\"marker\":{\"colorbar\":{\"outlinewidth\":0,\"ticks\":\"\"}},\"type\":\"scatter\"}],\"scatter3d\":[{\"line\":{\"colorbar\":{\"outlinewidth\":0,\"ticks\":\"\"}},\"marker\":{\"colorbar\":{\"outlinewidth\":0,\"ticks\":\"\"}},\"type\":\"scatter3d\"}],\"scattercarpet\":[{\"marker\":{\"colorbar\":{\"outlinewidth\":0,\"ticks\":\"\"}},\"type\":\"scattercarpet\"}],\"scattergeo\":[{\"marker\":{\"colorbar\":{\"outlinewidth\":0,\"ticks\":\"\"}},\"type\":\"scattergeo\"}],\"scattergl\":[{\"marker\":{\"colorbar\":{\"outlinewidth\":0,\"ticks\":\"\"}},\"type\":\"scattergl\"}],\"scattermapbox\":[{\"marker\":{\"colorbar\":{\"outlinewidth\":0,\"ticks\":\"\"}},\"type\":\"scattermapbox\"}],\"scatterpolar\":[{\"marker\":{\"colorbar\":{\"outlinewidth\":0,\"ticks\":\"\"}},\"type\":\"scatterpolar\"}],\"scatterpolargl\":[{\"marker\":{\"colorbar\":{\"outlinewidth\":0,\"ticks\":\"\"}},\"type\":\"scatterpolargl\"}],\"scatterternary\":[{\"marker\":{\"colorbar\":{\"outlinewidth\":0,\"ticks\":\"\"}},\"type\":\"scatterternary\"}],\"surface\":[{\"colorbar\":{\"outlinewidth\":0,\"ticks\":\"\"},\"colorscale\":[[0.0,\"#0d0887\"],[0.1111111111111111,\"#46039f\"],[0.2222222222222222,\"#7201a8\"],[0.3333333333333333,\"#9c179e\"],[0.4444444444444444,\"#bd3786\"],[0.5555555555555556,\"#d8576b\"],[0.6666666666666666,\"#ed7953\"],[0.7777777777777778,\"#fb9f3a\"],[0.8888888888888888,\"#fdca26\"],[1.0,\"#f0f921\"]],\"type\":\"surface\"}],\"table\":[{\"cells\":{\"fill\":{\"color\":\"#EBF0F8\"},\"line\":{\"color\":\"white\"}},\"header\":{\"fill\":{\"color\":\"#C8D4E3\"},\"line\":{\"color\":\"white\"}},\"type\":\"table\"}]},\"layout\":{\"annotationdefaults\":{\"arrowcolor\":\"#2a3f5f\",\"arrowhead\":0,\"arrowwidth\":1},\"autotypenumbers\":\"strict\",\"coloraxis\":{\"colorbar\":{\"outlinewidth\":0,\"ticks\":\"\"}},\"colorscale\":{\"diverging\":[[0,\"#8e0152\"],[0.1,\"#c51b7d\"],[0.2,\"#de77ae\"],[0.3,\"#f1b6da\"],[0.4,\"#fde0ef\"],[0.5,\"#f7f7f7\"],[0.6,\"#e6f5d0\"],[0.7,\"#b8e186\"],[0.8,\"#7fbc41\"],[0.9,\"#4d9221\"],[1,\"#276419\"]],\"sequential\":[[0.0,\"#0d0887\"],[0.1111111111111111,\"#46039f\"],[0.2222222222222222,\"#7201a8\"],[0.3333333333333333,\"#9c179e\"],[0.4444444444444444,\"#bd3786\"],[0.5555555555555556,\"#d8576b\"],[0.6666666666666666,\"#ed7953\"],[0.7777777777777778,\"#fb9f3a\"],[0.8888888888888888,\"#fdca26\"],[1.0,\"#f0f921\"]],\"sequentialminus\":[[0.0,\"#0d0887\"],[0.1111111111111111,\"#46039f\"],[0.2222222222222222,\"#7201a8\"],[0.3333333333333333,\"#9c179e\"],[0.4444444444444444,\"#bd3786\"],[0.5555555555555556,\"#d8576b\"],[0.6666666666666666,\"#ed7953\"],[0.7777777777777778,\"#fb9f3a\"],[0.8888888888888888,\"#fdca26\"],[1.0,\"#f0f921\"]]},\"colorway\":[\"#636efa\",\"#EF553B\",\"#00cc96\",\"#ab63fa\",\"#FFA15A\",\"#19d3f3\",\"#FF6692\",\"#B6E880\",\"#FF97FF\",\"#FECB52\"],\"font\":{\"color\":\"#2a3f5f\"},\"geo\":{\"bgcolor\":\"white\",\"lakecolor\":\"white\",\"landcolor\":\"#E5ECF6\",\"showlakes\":true,\"showland\":true,\"subunitcolor\":\"white\"},\"hoverlabel\":{\"align\":\"left\"},\"hovermode\":\"closest\",\"mapbox\":{\"style\":\"light\"},\"paper_bgcolor\":\"white\",\"plot_bgcolor\":\"#E5ECF6\",\"polar\":{\"angularaxis\":{\"gridcolor\":\"white\",\"linecolor\":\"white\",\"ticks\":\"\"},\"bgcolor\":\"#E5ECF6\",\"radialaxis\":{\"gridcolor\":\"white\",\"linecolor\":\"white\",\"ticks\":\"\"}},\"scene\":{\"xaxis\":{\"backgroundcolor\":\"#E5ECF6\",\"gridcolor\":\"white\",\"gridwidth\":2,\"linecolor\":\"white\",\"showbackground\":true,\"ticks\":\"\",\"zerolinecolor\":\"white\"},\"yaxis\":{\"backgroundcolor\":\"#E5ECF6\",\"gridcolor\":\"white\",\"gridwidth\":2,\"linecolor\":\"white\",\"showbackground\":true,\"ticks\":\"\",\"zerolinecolor\":\"white\"},\"zaxis\":{\"backgroundcolor\":\"#E5ECF6\",\"gridcolor\":\"white\",\"gridwidth\":2,\"linecolor\":\"white\",\"showbackground\":true,\"ticks\":\"\",\"zerolinecolor\":\"white\"}},\"shapedefaults\":{\"line\":{\"color\":\"#2a3f5f\"}},\"ternary\":{\"aaxis\":{\"gridcolor\":\"white\",\"linecolor\":\"white\",\"ticks\":\"\"},\"baxis\":{\"gridcolor\":\"white\",\"linecolor\":\"white\",\"ticks\":\"\"},\"bgcolor\":\"#E5ECF6\",\"caxis\":{\"gridcolor\":\"white\",\"linecolor\":\"white\",\"ticks\":\"\"}},\"title\":{\"x\":0.05},\"xaxis\":{\"automargin\":true,\"gridcolor\":\"white\",\"linecolor\":\"white\",\"ticks\":\"\",\"title\":{\"standoff\":15},\"zerolinecolor\":\"white\",\"zerolinewidth\":2},\"yaxis\":{\"automargin\":true,\"gridcolor\":\"white\",\"linecolor\":\"white\",\"ticks\":\"\",\"title\":{\"standoff\":15},\"zerolinecolor\":\"white\",\"zerolinewidth\":2}}},\"xaxis\":{\"anchor\":\"y\",\"domain\":[0,0.42],\"zeroline\":false,\"showline\":false,\"showticklabels\":true,\"showgrid\":true},\"yaxis\":{\"anchor\":\"x\",\"domain\":[0,0.9],\"showgrid\":false,\"showline\":false,\"showticklabels\":true},\"xaxis2\":{\"anchor\":\"y2\",\"domain\":[0.47,1],\"zeroline\":false,\"showline\":false,\"showticklabels\":true,\"showgrid\":true,\"side\":\"top\"},\"yaxis2\":{\"anchor\":\"x2\",\"domain\":[0,0.9],\"showgrid\":false,\"showline\":false,\"showticklabels\":false},\"legend\":{\"font\":{\"size\":10},\"x\":0.029,\"y\":1.038},\"margin\":{\"l\":100,\"r\":20,\"t\":70,\"b\":70},\"title\":{\"text\":\"Mean price and numbers of condos for the first 20 neighbourhoods order numbers of condos descending\"},\"paper_bgcolor\":\"rgb(248, 248, 255)\",\"plot_bgcolor\":\"rgb(248, 248, 255)\"},                        {\"responsive\": true}                    ).then(function(){\n",
       "                            \n",
       "var gd = document.getElementById('57707c46-b3d7-455a-857f-2632775037ca');\n",
       "var x = new MutationObserver(function (mutations, observer) {{\n",
       "        var display = window.getComputedStyle(gd).display;\n",
       "        if (!display || display === 'none') {{\n",
       "            console.log([gd, 'removed!']);\n",
       "            Plotly.purge(gd);\n",
       "            observer.disconnect();\n",
       "        }}\n",
       "}});\n",
       "\n",
       "// Listen for the removal of the full notebook cells\n",
       "var notebookContainer = gd.closest('#notebook-container');\n",
       "if (notebookContainer) {{\n",
       "    x.observe(notebookContainer, {childList: true});\n",
       "}}\n",
       "\n",
       "// Listen for the clearing of the current output cell\n",
       "var outputEl = gd.closest('.output');\n",
       "if (outputEl) {{\n",
       "    x.observe(outputEl, {childList: true});\n",
       "}}\n",
       "\n",
       "                        })                };                });            </script>        </div>"
      ]
     },
     "metadata": {},
     "output_type": "display_data"
    }
   ],
   "source": [
    "y_Mean = Nbh_condos.sort_values('Count_c').tail(20)['Mean_c']\n",
    "\n",
    "y_Count = Nbh_condos.sort_values('Count_c').tail(20)['Count_c']\n",
    "\n",
    "x = Nbh_condos.sort_values('Count_c').index\n",
    "\n",
    "\n",
    "# Creating two subplots\n",
    "fig = make_subplots(rows=1, cols=2, specs=[[{}, {}]], shared_xaxes=True,\n",
    "                    shared_yaxes=False, vertical_spacing=0.001)\n",
    "\n",
    "fig.append_trace(go.Bar(\n",
    "    x=y_Mean,\n",
    "    y=x,\n",
    "    marker=dict(\n",
    "        color='rgba(50, 171, 96, 0.6)',\n",
    "        line=dict(\n",
    "            color='rgba(50, 171, 96, 1.0)',\n",
    "            width=1),\n",
    "    ),\n",
    "    name='Mean price',\n",
    "    orientation='h',\n",
    "), 1, 1)\n",
    "\n",
    "fig.append_trace(go.Bar(\n",
    "    x=y_Count,\n",
    "    y=x,\n",
    "    marker=dict(\n",
    "        color='rgb(128, 0, 128)',\n",
    "        line=dict(\n",
    "            color='rgb(128, 0, 128)',\n",
    "            width=1),\n",
    "    ),\n",
    "    name='Number of condos',\n",
    "    orientation='h',\n",
    "), 1, 2)\n",
    "\n",
    "\n",
    "fig.update_layout(\n",
    "    title='Mean price and numbers of condos for the first 20 neighbourhoods order numbers of condos descending',\n",
    "    yaxis=dict(\n",
    "        showgrid=False,\n",
    "        showline=False,\n",
    "        showticklabels=True,\n",
    "        domain=[0, 0.9],\n",
    "    ),\n",
    "    yaxis2=dict(\n",
    "        showgrid=False,\n",
    "        showline=False,\n",
    "        showticklabels=False,\n",
    "        domain=[0, 0.9],\n",
    "    ),\n",
    "    xaxis=dict(\n",
    "        zeroline=False,\n",
    "        showline=False,\n",
    "        showticklabels=True,\n",
    "        showgrid=True,\n",
    "        domain=[0, 0.42],\n",
    "    ),\n",
    "    xaxis2=dict(\n",
    "        zeroline=False,\n",
    "        showline=False,\n",
    "        showticklabels=True,\n",
    "        showgrid=True,\n",
    "        domain=[0.47, 1],\n",
    "        side='top',\n",
    "    ),\n",
    "    \n",
    "    legend=dict(x=0.029, y=1.038, font_size=10),\n",
    "    margin=dict(l=100, r=20, t=70, b=70),\n",
    "    paper_bgcolor='rgb(248, 248, 255)',\n",
    "    plot_bgcolor='rgb(248, 248, 255)',\n",
    ")\n",
    "\n",
    "\n",
    "fig.update_layout()\n"
   ]
  },
  {
   "cell_type": "code",
   "execution_count": null,
   "id": "de931669",
   "metadata": {},
   "outputs": [],
   "source": []
  }
 ],
 "metadata": {
  "kernelspec": {
   "display_name": "Python 3 (ipykernel)",
   "language": "python",
   "name": "python3"
  },
  "language_info": {
   "codemirror_mode": {
    "name": "ipython",
    "version": 3
   },
   "file_extension": ".py",
   "mimetype": "text/x-python",
   "name": "python",
   "nbconvert_exporter": "python",
   "pygments_lexer": "ipython3",
   "version": "3.9.7"
  }
 },
 "nbformat": 4,
 "nbformat_minor": 5
}
